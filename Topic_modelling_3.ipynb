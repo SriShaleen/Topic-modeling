{
 "cells": [
  {
   "cell_type": "code",
   "execution_count": 1,
   "metadata": {},
   "outputs": [],
   "source": [
    "import numpy as np\n",
    "import pandas as pd\n",
    "import itertools\n",
    "import pickle\n",
    "from pprint import pprint\n",
    "\n",
    "import matplotlib.pyplot as plt\n",
    "import seaborn as sns\n",
    "%matplotlib inline"
   ]
  },
  {
   "cell_type": "code",
   "execution_count": 2,
   "metadata": {},
   "outputs": [],
   "source": [
    "import nltk\n",
    "from nltk.stem import WordNetLemmatizer, SnowballStemmer\n",
    "from nltk.stem.porter import *\n",
    "from nltk.corpus import wordnet\n",
    "from nltk import FreqDist\n",
    "from nltk.corpus import stopwords\n",
    "\n",
    "import spacy\n",
    "\n",
    "import gensim\n",
    "from gensim.utils import simple_preprocess\n",
    "from gensim.parsing.preprocessing import STOPWORDS\n",
    "from gensim.models.ldamodel import LdaModel\n",
    "from gensim.models import CoherenceModel\n",
    "import gensim.corpora as corpora\n",
    "\n",
    "import pyLDAvis.gensim\n",
    "np.random.seed(2)"
   ]
  },
  {
   "cell_type": "code",
   "execution_count": 3,
   "metadata": {
    "scrolled": true
   },
   "outputs": [],
   "source": [
    "data = pd.read_excel('Rubber News.xlsx', error_bad_lines=False);"
   ]
  },
  {
   "cell_type": "code",
   "execution_count": 4,
   "metadata": {
    "scrolled": true
   },
   "outputs": [
    {
     "data": {
      "text/plain": [
       "(5275, 6)"
      ]
     },
     "execution_count": 4,
     "metadata": {},
     "output_type": "execute_result"
    }
   ],
   "source": [
    "data.shape"
   ]
  },
  {
   "cell_type": "code",
   "execution_count": 5,
   "metadata": {},
   "outputs": [],
   "source": [
    "data = data[[\"Full.story\"]]\n",
    "data= data.apply(lambda x: x.astype(str).str.lower())"
   ]
  },
  {
   "cell_type": "code",
   "execution_count": 6,
   "metadata": {},
   "outputs": [
    {
     "data": {
      "text/plain": [
       "(5275, 1)"
      ]
     },
     "execution_count": 6,
     "metadata": {},
     "output_type": "execute_result"
    }
   ],
   "source": [
    "data.shape"
   ]
  },
  {
   "cell_type": "code",
   "execution_count": 7,
   "metadata": {
    "scrolled": true
   },
   "outputs": [],
   "source": [
    "# data.rename(columns = {'Full.story':'full_story'}, inplace = True)"
   ]
  },
  {
   "cell_type": "code",
   "execution_count": 8,
   "metadata": {},
   "outputs": [],
   "source": [
    "documents = data.copy()"
   ]
  },
  {
   "cell_type": "code",
   "execution_count": 9,
   "metadata": {},
   "outputs": [
    {
     "data": {
      "text/html": [
       "<div>\n",
       "<style scoped>\n",
       "    .dataframe tbody tr th:only-of-type {\n",
       "        vertical-align: middle;\n",
       "    }\n",
       "\n",
       "    .dataframe tbody tr th {\n",
       "        vertical-align: top;\n",
       "    }\n",
       "\n",
       "    .dataframe thead th {\n",
       "        text-align: right;\n",
       "    }\n",
       "</style>\n",
       "<table border=\"1\" class=\"dataframe\">\n",
       "  <thead>\n",
       "    <tr style=\"text-align: right;\">\n",
       "      <th></th>\n",
       "      <th>Full.story</th>\n",
       "    </tr>\n",
       "  </thead>\n",
       "  <tbody>\n",
       "    <tr>\n",
       "      <td>0</td>\n",
       "      <td>sumitomo rubber industries has established a n...</td>\n",
       "    </tr>\n",
       "    <tr>\n",
       "      <td>1</td>\n",
       "      <td>spot rubber closed unchanged on thursday. rss ...</td>\n",
       "    </tr>\n",
       "    <tr>\n",
       "      <td>2</td>\n",
       "      <td>delegate registration for india rubber meet 20...</td>\n",
       "    </tr>\n",
       "    <tr>\n",
       "      <td>3</td>\n",
       "      <td>mumbai – futures contracts of rubber on the in...</td>\n",
       "    </tr>\n",
       "    <tr>\n",
       "      <td>4</td>\n",
       "      <td>tapping has been delayed despite the fact that...</td>\n",
       "    </tr>\n",
       "    <tr>\n",
       "      <td>...</td>\n",
       "      <td>...</td>\n",
       "    </tr>\n",
       "    <tr>\n",
       "      <td>5270</td>\n",
       "      <td>cogencis, wednesday, apr 11 new delhi – india’...</td>\n",
       "    </tr>\n",
       "    <tr>\n",
       "      <td>5271</td>\n",
       "      <td>cogencis, tuesday, apr 10 by prabhnoor nanda n...</td>\n",
       "    </tr>\n",
       "    <tr>\n",
       "      <td>5272</td>\n",
       "      <td>outlook futures contracts of natural rubber ma...</td>\n",
       "    </tr>\n",
       "    <tr>\n",
       "      <td>5273</td>\n",
       "      <td>cogencis, tuesday, apr 10 by shikha singh new ...</td>\n",
       "    </tr>\n",
       "    <tr>\n",
       "      <td>5274</td>\n",
       "      <td>cogencis, monday, apr 9 by prabhnoor nanda new...</td>\n",
       "    </tr>\n",
       "  </tbody>\n",
       "</table>\n",
       "<p>5275 rows × 1 columns</p>\n",
       "</div>"
      ],
      "text/plain": [
       "                                             Full.story\n",
       "0     sumitomo rubber industries has established a n...\n",
       "1     spot rubber closed unchanged on thursday. rss ...\n",
       "2     delegate registration for india rubber meet 20...\n",
       "3     mumbai – futures contracts of rubber on the in...\n",
       "4     tapping has been delayed despite the fact that...\n",
       "...                                                 ...\n",
       "5270  cogencis, wednesday, apr 11 new delhi – india’...\n",
       "5271  cogencis, tuesday, apr 10 by prabhnoor nanda n...\n",
       "5272  outlook futures contracts of natural rubber ma...\n",
       "5273  cogencis, tuesday, apr 10 by shikha singh new ...\n",
       "5274  cogencis, monday, apr 9 by prabhnoor nanda new...\n",
       "\n",
       "[5275 rows x 1 columns]"
      ]
     },
     "execution_count": 9,
     "metadata": {},
     "output_type": "execute_result"
    }
   ],
   "source": [
    "documents"
   ]
  },
  {
   "cell_type": "code",
   "execution_count": 10,
   "metadata": {},
   "outputs": [
    {
     "data": {
      "text/plain": [
       "'cogencis, monday, jul 30 –source: india jun natural rubber use 102,000 tn, up 17.7% on year –india jun natural rubber imports 38,367 tn, up 14.7% on year –india natural rubber june-end stocks 232,000 tn by mugunthan kesavan new delhi – india’s natural rubber production fell 2.2% on year to 44,000 tn in june while consumption rose 17.7% to 102,000 tn, a rubber board source said. heavy rains in kerala, the top producer of rubber, have hit tapping in the last two months. with consumption shooting up and output declining, imports rose 14.7% on year to 38,367 tn in june, the source said. for apr-jun, natural rubber output was down 11.9% on year at 126,000 tn, while consumption was 14.2% higher at 302,000 tn. during the same period, imports rose 24.6% on year to 118,355 tn, the source said. india’s natural rubber inventory at the end of june was 232,000 tn, compared with 225,000 tn a year ago, the source said. the tyre industry has been demanding removal of port restrictions on natural rubber for all imports. in june, the government allowed imports of rubber meant for re-export under advance authorisation scheme, from any port in india. under the scheme, a product is imported duty-free with a re-export obligation after value addition. in 2016, the government restricted imports of natural rubber for re-export to only chennai and nhava sheva (jawaharlal nehru port) ports. the curbs are aimed at supporting domestic prices of rubber which have fallen by more than 100 rupees per kg in the last few years due to cheaper availability in global markets. tyre manufacturers are against the restrictions as it delays deliveries and increases transportation cost. endedited by akshit harsh cogencis tel +91 (11) 4220-1000 send comments to feedback@cogencis.com'"
      ]
     },
     "execution_count": 10,
     "metadata": {},
     "output_type": "execute_result"
    }
   ],
   "source": [
    "documents[documents.index == 5027].values[0][0]"
   ]
  },
  {
   "cell_type": "code",
   "execution_count": 11,
   "metadata": {},
   "outputs": [
    {
     "name": "stderr",
     "output_type": "stream",
     "text": [
      "<>:1: DeprecationWarning: invalid escape sequence \\.\n",
      "<>:1: DeprecationWarning: invalid escape sequence \\.\n",
      "<>:1: DeprecationWarning: invalid escape sequence \\.\n",
      "<ipython-input-11-02b972e3a2b4>:1: DeprecationWarning: invalid escape sequence \\.\n",
      "  documents['full_story'] = documents['Full.story'].map(lambda x: re.sub('[,\\.!?]', '', x))\n"
     ]
    }
   ],
   "source": [
    "documents['full_story'] = documents['Full.story'].map(lambda x: re.sub('[,\\.!?]', '', x))\n",
    "documents['full_story'] = documents['full_story'].str.replace(\"[^a-zA-Z#]\", \" \")\n",
    "documents['full_story']= documents['full_story'].str.replace('  ', ' ')\n",
    "documents['full_story']= documents['full_story'].str.replace('   ', ' ')\n",
    "documents['full_story']= documents['full_story'].str.replace('    ', ' ')"
   ]
  },
  {
   "cell_type": "code",
   "execution_count": 12,
   "metadata": {},
   "outputs": [
    {
     "data": {
      "text/plain": [
       "'cogencis monday jul source india jun natural rubber use  tn up on year india jun natural rubber imports  tn up on year india natural rubber june end stocks  tn by mugunthan kesavan new delhi  india s natural rubber production fell on year to  tn in june while consumption rose to  tn a rubber board source said heavy rains in kerala the top producer of rubber have hit tapping in the last two months with consumption shooting up and output declining imports rose on year to  tn in june the source said for apr jun natural rubber output was down on year at  tn while consumption was higher at  tn during the same period imports rose on year to  tn the source said india s natural rubber inventory at the end of june was  tn compared with  tn a year ago the source said the tyre industry has been demanding removal of port restrictions on natural rubber for all imports in june the government allowed imports of rubber meant for re export under advance authorisation scheme from any port in india under the scheme a product is imported duty free with a re export obligation after value addition in the government restricted imports of natural rubber for re export to only chennai and nhava sheva jawaharlal nehru port ports the curbs are aimed at supporting domestic prices of rubber which have fallen by more than rupees per kg in the last few years due to cheaper availability in global markets tyre manufacturers are against the restrictions as it delays deliveries and increases transportation cost endedited by akshit harsh cogencis tel send comments to feedback cogenciscom'"
      ]
     },
     "execution_count": 12,
     "metadata": {},
     "output_type": "execute_result"
    }
   ],
   "source": [
    "documents[documents.index == 5027].values[0][1]"
   ]
  },
  {
   "cell_type": "markdown",
   "metadata": {},
   "source": [
    "## EDA"
   ]
  },
  {
   "cell_type": "code",
   "execution_count": 13,
   "metadata": {},
   "outputs": [],
   "source": [
    "from wordcloud import WordCloud"
   ]
  },
  {
   "cell_type": "code",
   "execution_count": 14,
   "metadata": {},
   "outputs": [],
   "source": [
    "# Join the different processed titles together.\n",
    "long_string = ','.join(list(documents['full_story'].values))"
   ]
  },
  {
   "cell_type": "code",
   "execution_count": 15,
   "metadata": {},
   "outputs": [
    {
     "data": {
      "image/png": "[encoded data removed]",
      "text/plain": [
       "<PIL.Image.Image image mode=RGB size=400x200 at 0x1E371C4D7C8>"
      ]
     },
     "execution_count": 15,
     "metadata": {},
     "output_type": "execute_result"
    }
   ],
   "source": [
    "wordcloud = WordCloud(background_color=\"white\", max_words=5000, contour_width=8, contour_color='steelblue')\n",
    "wordcloud.generate(long_string)\n",
    "wordcloud.to_image()"
   ]
  },
  {
   "cell_type": "code",
   "execution_count": 16,
   "metadata": {},
   "outputs": [],
   "source": [
    "def freq_words(x, terms = 30):\n",
    "    all_words = ' '.join([text for text in x])\n",
    "    all_words = all_words.split()\n",
    "\n",
    "    fdist = FreqDist(all_words)\n",
    "    words_df = pd.DataFrame({'word':list(fdist.keys()), 'count':list(fdist.values())})\n",
    "\n",
    "    d = words_df.nlargest(columns=\"count\", n = terms) \n",
    "    plt.figure(figsize=(20,5))\n",
    "    ax = sns.barplot(data=d, x= \"word\", y = \"count\")\n",
    "    ax.set(ylabel = 'Count')\n",
    "    plt.show()"
   ]
  },
  {
   "cell_type": "code",
   "execution_count": 17,
   "metadata": {},
   "outputs": [
    {
     "data": {
      "image/png": "[encoded data removed]",
      "text/plain": [
       "<Figure size 1440x360 with 1 Axes>"
      ]
     },
     "metadata": {
      "needs_background": "light"
     },
     "output_type": "display_data"
    }
   ],
   "source": [
    "freq_words(documents['full_story'])"
   ]
  },
  {
   "cell_type": "markdown",
   "metadata": {},
   "source": [
    "## Data processing"
   ]
  },
  {
   "cell_type": "code",
   "execution_count": 18,
   "metadata": {},
   "outputs": [],
   "source": [
    "def sent_to_words(sentences):\n",
    "    for sentence in sentences:\n",
    "        yield(gensim.utils.simple_preprocess(str(sentence), deacc=True))  # deacc=True removes punctuations\n",
    "\n",
    "data = documents.full_story.values.tolist()\n",
    "data_words = list(sent_to_words(data))"
   ]
  },
  {
   "cell_type": "code",
   "execution_count": 19,
   "metadata": {},
   "outputs": [
    {
     "name": "stdout",
     "output_type": "stream",
     "text": [
      "['sumitomo', 'rubber', 'industries', 'has', 'established', 'natural', 'rubber', 'procurement', 'subsidiary', 'in', 'singapore', 'the', 'world', 'largest', 'natural', 'rubber', 'trading', 'hub']\n"
     ]
    }
   ],
   "source": [
    "print(data_words[:1][0][:30])"
   ]
  },
  {
   "cell_type": "markdown",
   "metadata": {},
   "source": [
    "### Creating Bi-Gram and Tri-Gram"
   ]
  },
  {
   "cell_type": "code",
   "execution_count": 20,
   "metadata": {},
   "outputs": [],
   "source": [
    "bigram = gensim.models.Phrases(data_words, min_count=5, threshold=100) # higher threshold fewer phrases.\n",
    "trigram = gensim.models.Phrases(bigram[data_words], threshold=100)  \n",
    "\n",
    "bigram_mod = gensim.models.phrases.Phraser(bigram)\n",
    "trigram_mod = gensim.models.phrases.Phraser(trigram)"
   ]
  },
  {
   "cell_type": "code",
   "execution_count": 21,
   "metadata": {},
   "outputs": [],
   "source": [
    "my_stop_words = STOPWORDS.union(set(['send', 'comment', 'feedback', 'today', 'come', 'harsh', 'akshit', 'nishant', 'chakraborty', \n",
    "                                     'augustine', 'cogencis', 'com', 'rahul', 'dhuri', 'end-users','rupeesedited', 'mugunthan', 'kesavan', \n",
    "                                     'says', 'said', 'say', 'prabhnoor', 'nanda',\"show\",\"table\",\"detail\",\"give\",\"geojit\",\n",
    "                                     'monday', 'tuesday', 'wednesday', 'thursday', 'friday', 'saturday', 'sunday', 'january', 'february',\n",
    "                                     'march', 'april', 'may', 'june', 'july', 'august', 'september', 'october', 'november', 'december' ]))\n",
    "\n",
    "\n",
    "#                                      ,'kerla','delhi','kottayam','india','china','japanese','thailand','malaysia','tokyo',\n",
    "#                                      \"come\",\"chinese\",\"prabhnoor\",\"shikha\",\"singh\",\"mumbai\",\"rubber\",\"kerala\",\"kochi\",\"make\",\"board\",\"data\",\n",
    "#                                      \"grade\",\"cents\",\"iran\"])) "
   ]
  },
  {
   "cell_type": "code",
   "execution_count": 22,
   "metadata": {},
   "outputs": [],
   "source": [
    "stop_words = stopwords.words('english')\n",
    "stop_words.extend(my_stop_words)"
   ]
  },
  {
   "cell_type": "code",
   "execution_count": 23,
   "metadata": {},
   "outputs": [],
   "source": [
    "def remove_stopwords(texts):\n",
    "    return [[word for word in simple_preprocess(str(doc)) if word not in stop_words] for doc in texts]\n",
    "\n",
    "def make_bigrams(texts):\n",
    "    return [bigram_mod[doc] for doc in texts]\n",
    "\n",
    "def make_trigrams(texts):\n",
    "    return [trigram_mod[bigram_mod[doc]] for doc in texts]\n",
    "\n",
    "def lemmatization(texts, allowed_postags=['NOUN', 'ADJ', 'VERB', 'ADV']):\n",
    "    texts_out = []\n",
    "    for sent in texts:\n",
    "        doc = nlp(\" \".join(sent)) \n",
    "        texts_out.append([token.lemma_ for token in doc if token.pos_ in allowed_postags])\n",
    "    return texts_out"
   ]
  },
  {
   "cell_type": "code",
   "execution_count": 24,
   "metadata": {},
   "outputs": [],
   "source": [
    "data_words_nostops = remove_stopwords(data_words)\n",
    "\n",
    "data_words_bigrams = make_bigrams(data_words_nostops)\n",
    "\n",
    "# Initialize spacy 'en' model, keeping only tagger component (for efficiency)\n",
    "nlp = spacy.load(\"en_core_web_sm\", disable=['parser', 'ner'])\n",
    "\n",
    "# Do lemmatization keeping only noun, adj, vb, adv\n",
    "data_lemmatized = lemmatization(data_words_bigrams, allowed_postags=['NOUN', 'ADJ', 'VERB', 'ADV'])"
   ]
  },
  {
   "cell_type": "code",
   "execution_count": 25,
   "metadata": {
    "scrolled": true
   },
   "outputs": [
    {
     "name": "stdout",
     "output_type": "stream",
     "text": [
      "original document: \n",
      "['sumitomo', 'rubber', 'industries', 'has', 'established', 'natural', 'rubber', 'procurement', 'subsidiary', 'in', 'singapore', 'the', 'world', 'largest', 'natural', 'rubber', 'trading', 'hub']\n",
      "After lemmatization, tokenization:\n",
      "['industry', 'establish', 'natural', 'rubber', 'subsidiary', 'large', 'natural', 'rubber', 'trading', 'hub']\n"
     ]
    }
   ],
   "source": [
    "print('original document: ')\n",
    "print(data_words[:1][0][:30])\n",
    "print('After lemmatization, tokenization:')\n",
    "print(data_lemmatized[:1][0][:30])"
   ]
  },
  {
   "cell_type": "code",
   "execution_count": 26,
   "metadata": {},
   "outputs": [],
   "source": [
    "words_after_preprocessing= list(itertools.chain.from_iterable(data_lemmatized))"
   ]
  },
  {
   "cell_type": "code",
   "execution_count": 27,
   "metadata": {},
   "outputs": [
    {
     "data": {
      "image/png": "[encoded data removed]",
      "text/plain": [
       "<Figure size 1440x360 with 1 Axes>"
      ]
     },
     "metadata": {
      "needs_background": "light"
     },
     "output_type": "display_data"
    }
   ],
   "source": [
    "freq_words(words_after_preprocessing)"
   ]
  },
  {
   "cell_type": "markdown",
   "metadata": {},
   "source": [
    "## Gensim doc2bow-- Creating dictionary from the data"
   ]
  },
  {
   "cell_type": "code",
   "execution_count": 28,
   "metadata": {},
   "outputs": [],
   "source": [
    "id2word = corpora.Dictionary(data_lemmatized)\n",
    "\n",
    "# Create Corpus\n",
    "texts = data_lemmatized\n",
    "\n",
    "# Term Document Frequency\n",
    "corpus = [id2word.doc2bow(text) for text in texts]"
   ]
  },
  {
   "cell_type": "code",
   "execution_count": 30,
   "metadata": {},
   "outputs": [
    {
     "name": "stdout",
     "output_type": "stream",
     "text": [
      "After lemmatization, tokenization:\n",
      "['industry', 'establish', 'natural', 'rubber', 'subsidiary', 'large', 'natural', 'rubber', 'trading', 'hub']\n",
      "Word 0 (\"establish\") appears 1 time.\n",
      "Word 1 (\"hub\") appears 1 time.\n",
      "Word 2 (\"industry\") appears 1 time.\n",
      "Word 3 (\"large\") appears 1 time.\n",
      "Word 4 (\"natural\") appears 2 time.\n",
      "Word 5 (\"rubber\") appears 2 time.\n",
      "Word 6 (\"subsidiary\") appears 1 time.\n",
      "Word 7 (\"trading\") appears 1 time.\n"
     ]
    }
   ],
   "source": [
    "print('After lemmatization, tokenization:')\n",
    "print(data_lemmatized[:1][0][:30])\n",
    "bow_doc_test_0 = corpus[0]\n",
    "for i in range(len(bow_doc_test_0)):\n",
    "    print(\"Word {} (\\\"{}\\\") appears {} time.\".format(bow_doc_test_0[i][0], \n",
    "                                               id2word[bow_doc_test_0[i][0]], \n",
    "                                                     bow_doc_test_0[i][1]))"
   ]
  },
  {
   "cell_type": "markdown",
   "metadata": {},
   "source": [
    "## Saving pickle files"
   ]
  },
  {
   "cell_type": "code",
   "execution_count": 31,
   "metadata": {},
   "outputs": [],
   "source": [
    "# pickle.dump(corpus, open('corpus_bow_ngram.pkl', 'wb'))\n",
    "# id2word.save('dictionary_bow_ngram.gensim')"
   ]
  },
  {
   "cell_type": "markdown",
   "metadata": {},
   "source": [
    "## LDA"
   ]
  },
  {
   "cell_type": "code",
   "execution_count": 32,
   "metadata": {},
   "outputs": [],
   "source": [
    "lda_model = gensim.models.LdaMulticore(corpus=corpus,\n",
    "                                       id2word=id2word,\n",
    "                                       num_topics=10, \n",
    "                                       random_state=100,\n",
    "                                       chunksize=100,\n",
    "                                       passes=10,\n",
    "                                       per_word_topics=True)"
   ]
  },
  {
   "cell_type": "code",
   "execution_count": 33,
   "metadata": {},
   "outputs": [
    {
     "name": "stdout",
     "output_type": "stream",
     "text": [
      "(0, '0.088*\"rubber\" + 0.088*\"price\" + 0.073*\"oil\" + 0.071*\"crude\" + 0.032*\"cue\"')\n",
      "(1, '0.060*\"rubber\" + 0.032*\"price\" + 0.020*\"supply\" + 0.017*\"production\" + 0.016*\"low\"')\n",
      "(2, '0.022*\"commodity\" + 0.021*\"receive\" + 0.019*\"company\" + 0.016*\"rubber\" + 0.014*\"government\"')\n",
      "(3, '0.068*\"rubber\" + 0.064*\"year\" + 0.037*\"natural\" + 0.033*\"month\" + 0.020*\"ton\"')\n",
      "(4, '0.115*\"rubber\" + 0.088*\"contract\" + 0.054*\"rupee\" + 0.038*\"yen\" + 0.025*\"end\"')\n",
      "(5, '0.083*\"settle\" + 0.025*\"denominate\" + 0.023*\"comment\" + 0.021*\"market\" + 0.020*\"subdue\"')\n",
      "(6, '0.032*\"plantation\" + 0.027*\"state\" + 0.021*\"government\" + 0.019*\"price\" + 0.016*\"sector\"')\n",
      "(7, '0.038*\"future\" + 0.031*\"contract\" + 0.023*\"trade\" + 0.023*\"yen\" + 0.023*\"position\"')\n",
      "(8, '0.029*\"market\" + 0.016*\"growth\" + 0.015*\"term\" + 0.015*\"tax\" + 0.015*\"rate\"')\n",
      "(9, '0.093*\"price\" + 0.057*\"rubber\" + 0.053*\"market\" + 0.053*\"rupee\" + 0.046*\"trader\"')\n"
     ]
    }
   ],
   "source": [
    "topics = lda_model.print_topics(num_words=5)\n",
    "for topic in topics:\n",
    "    print(topic)"
   ]
  },
  {
   "cell_type": "code",
   "execution_count": 34,
   "metadata": {
    "scrolled": false
   },
   "outputs": [
    {
     "name": "stdout",
     "output_type": "stream",
     "text": [
      "[(0,\n",
      "  '0.088*\"rubber\" + 0.088*\"price\" + 0.073*\"oil\" + 0.071*\"crude\" + 0.032*\"cue\" '\n",
      "  '+ 0.029*\"exchange\" + 0.019*\"substitute\" + 0.019*\"rise\" + 0.016*\"give\" + '\n",
      "  '0.016*\"future\"'),\n",
      " (1,\n",
      "  '0.060*\"rubber\" + 0.032*\"price\" + 0.020*\"supply\" + 0.017*\"production\" + '\n",
      "  '0.016*\"low\" + 0.016*\"natural\" + 0.016*\"coming_day\" + 0.014*\"expect\" + '\n",
      "  '0.012*\"high\" + 0.012*\"year\"'),\n",
      " (2,\n",
      "  '0.022*\"commodity\" + 0.021*\"receive\" + 0.019*\"company\" + 0.016*\"rubber\" + '\n",
      "  '0.014*\"government\" + 0.013*\"duty\" + 0.012*\"industry\" + 0.012*\"allow\" + '\n",
      "  '0.012*\"product\" + 0.011*\"capacity\"'),\n",
      " (3,\n",
      "  '0.068*\"rubber\" + 0.064*\"year\" + 0.037*\"natural\" + 0.033*\"month\" + '\n",
      "  '0.020*\"ton\" + 0.019*\"production\" + 0.019*\"increase\" + 0.017*\"output\" + '\n",
      "  '0.017*\"consumption\" + 0.016*\"country\"'),\n",
      " (4,\n",
      "  '0.115*\"rubber\" + 0.088*\"contract\" + 0.054*\"rupee\" + 0.038*\"yen\" + '\n",
      "  '0.025*\"end\" + 0.023*\"analyst\" + 0.022*\"fall\" + 0.021*\"active\" + '\n",
      "  '0.020*\"close\" + 0.020*\"high\"'),\n",
      " (5,\n",
      "  '0.083*\"settle\" + 0.025*\"denominate\" + 0.023*\"comment\" + 0.021*\"market\" + '\n",
      "  '0.020*\"subdue\" + 0.017*\"make\" + 0.014*\"cheap\" + 0.014*\"fuel\" + '\n",
      "  '0.012*\"commodity\" + 0.011*\"expensive\"'),\n",
      " (6,\n",
      "  '0.032*\"plantation\" + 0.027*\"state\" + 0.021*\"government\" + 0.019*\"price\" + '\n",
      "  '0.016*\"sector\" + 0.014*\"export\" + 0.013*\"report\" + 0.013*\"cardamom\" + '\n",
      "  '0.012*\"tell\" + 0.012*\"source\"'),\n",
      " (7,\n",
      "  '0.038*\"future\" + 0.031*\"contract\" + 0.023*\"trade\" + 0.023*\"yen\" + '\n",
      "  '0.023*\"position\" + 0.022*\"delivery\" + 0.022*\"day\" + 0.021*\"rubber\" + '\n",
      "  '0.017*\"trading\" + 0.012*\"exchange\"'),\n",
      " (8,\n",
      "  '0.029*\"market\" + 0.016*\"growth\" + 0.015*\"term\" + 0.015*\"tax\" + 0.015*\"rate\" '\n",
      "  '+ 0.014*\"increase\" + 0.014*\"holder\" + 0.012*\"continue\" + 0.011*\"tire\" + '\n",
      "  '0.010*\"demand\"'),\n",
      " (9,\n",
      "  '0.093*\"price\" + 0.057*\"rubber\" + 0.053*\"market\" + 0.053*\"rupee\" + '\n",
      "  '0.046*\"trader\" + 0.040*\"rise\" + 0.031*\"demand\" + 0.030*\"fall\" + '\n",
      "  '0.029*\"domestic\" + 0.027*\"spot\"')]\n"
     ]
    }
   ],
   "source": [
    "pprint(lda_model.print_topics())\n",
    "doc_lda = lda_model[corpus]"
   ]
  },
  {
   "cell_type": "code",
   "execution_count": 36,
   "metadata": {},
   "outputs": [
    {
     "name": "stdout",
     "output_type": "stream",
     "text": [
      "Coherence Score:  0.5396317471542709\n"
     ]
    }
   ],
   "source": [
    "coherence_model_lda = CoherenceModel(model=lda_model, texts=data_lemmatized, dictionary=id2word, coherence='c_v')\n",
    "coherence_lda = coherence_model_lda.get_coherence()\n",
    "print('Coherence Score: ', coherence_lda)"
   ]
  },
  {
   "cell_type": "markdown",
   "metadata": {},
   "source": [
    "## Optimal Topics"
   ]
  },
  {
   "cell_type": "code",
   "execution_count": 37,
   "metadata": {},
   "outputs": [],
   "source": [
    "def compute_coherence_values(dictionary, corpus, texts, limit, start=2, step=1):\n",
    "    coherence_values = []\n",
    "    model_list = []\n",
    "    for num_topics in range(start, limit, step):\n",
    "        model=LdaModel(corpus=corpus, id2word=dictionary, num_topics=num_topics)\n",
    "        model_list.append(model)\n",
    "        coherencemodel = CoherenceModel(model=model, texts=texts, dictionary=dictionary, coherence='c_v')\n",
    "        coherence_values.append(coherencemodel.get_coherence())\n",
    "\n",
    "    return model_list, coherence_values"
   ]
  },
  {
   "cell_type": "code",
   "execution_count": 38,
   "metadata": {},
   "outputs": [
    {
     "data": {
      "image/png": "[encoded data removed]",
      "text/plain": [
       "<Figure size 432x288 with 1 Axes>"
      ]
     },
     "metadata": {
      "needs_background": "light"
     },
     "output_type": "display_data"
    }
   ],
   "source": [
    "model_list, coherence_values = compute_coherence_values(dictionary=id2word, corpus=corpus, texts=data_lemmatized, \n",
    "                                                        start=2, limit=20, step=1)\n",
    "limit=20; start=2; step=1;\n",
    "x = range(start, limit, step)\n",
    "plt.plot(x, coherence_values)\n",
    "plt.xlabel(\"Num Topics\")\n",
    "plt.ylabel(\"Coherence score\")\n",
    "plt.xticks(x)\n",
    "plt.legend((\"coherence_values\"), loc='best')\n",
    "plt.show()"
   ]
  },
  {
   "cell_type": "markdown",
   "metadata": {},
   "source": [
    "## Topics- 3: Best model run"
   ]
  },
  {
   "cell_type": "code",
   "execution_count": 39,
   "metadata": {},
   "outputs": [],
   "source": [
    "lda_model_best_3 = gensim.models.ldamodel.LdaModel(corpus=corpus,\n",
    "                                           id2word=id2word,\n",
    "                                           num_topics=3, \n",
    "                                           random_state=100,\n",
    "                                           chunksize=100,\n",
    "                                           passes=10,\n",
    "                                           alpha='auto',\n",
    "                                                 eta= 0.61)"
   ]
  },
  {
   "cell_type": "code",
   "execution_count": 40,
   "metadata": {},
   "outputs": [],
   "source": [
    "# lda_model_best_3.save('model_lda_bow_ngram_best_3.gensim')"
   ]
  },
  {
   "cell_type": "code",
   "execution_count": 41,
   "metadata": {
    "scrolled": true
   },
   "outputs": [
    {
     "name": "stdout",
     "output_type": "stream",
     "text": [
      "[(0, '0.021*\"month\" + 0.018*\"year\" + 0.012*\"index\" + 0.009*\"company\" + 0.009*\"inflation\" + 0.009*\"increase\" + 0.008*\"high\" + 0.007*\"rubber\" + 0.007*\"export\" + 0.006*\"state\"'), (1, '0.110*\"rubber\" + 0.066*\"price\" + 0.034*\"market\" + 0.032*\"natural\" + 0.031*\"rise\" + 0.028*\"fall\" + 0.023*\"oil\" + 0.023*\"domestic\" + 0.022*\"crude\" + 0.021*\"trader\"'), (2, '0.090*\"rupee\" + 0.068*\"rubber\" + 0.055*\"contract\" + 0.047*\"price\" + 0.039*\"yen\" + 0.034*\"close\" + 0.025*\"grade\" + 0.024*\"previous\" + 0.019*\"active\" + 0.017*\"rss\"')]\n"
     ]
    }
   ],
   "source": [
    "print(lda_model_best_3.print_topics())\n",
    "# doc_lda_best = lda_model_best[bow_corpus]"
   ]
  },
  {
   "cell_type": "code",
   "execution_count": 42,
   "metadata": {},
   "outputs": [
    {
     "name": "stdout",
     "output_type": "stream",
     "text": [
      "(0, '0.021*\"month\" + 0.018*\"year\" + 0.012*\"index\" + 0.009*\"company\" + 0.009*\"inflation\"')\n",
      "(1, '0.110*\"rubber\" + 0.066*\"price\" + 0.034*\"market\" + 0.032*\"natural\" + 0.031*\"rise\"')\n",
      "(2, '0.090*\"rupee\" + 0.068*\"rubber\" + 0.055*\"contract\" + 0.047*\"price\" + 0.039*\"yen\"')\n"
     ]
    }
   ],
   "source": [
    "topics_best_3 = lda_model_best_3.print_topics(num_words=5)\n",
    "for topic in topics_best_3:\n",
    "    print(topic)"
   ]
  },
  {
   "cell_type": "code",
   "execution_count": 90,
   "metadata": {},
   "outputs": [
    {
     "name": "stdout",
     "output_type": "stream",
     "text": [
      "(0, '0.021*\"month\" + 0.018*\"year\" + 0.012*\"index\" + 0.009*\"company\" + 0.009*\"inflation\" + 0.009*\"increase\" + 0.008*\"high\" + 0.007*\"rubber\" + 0.007*\"export\" + 0.006*\"state\" + 0.006*\"low\" + 0.006*\"plantation\" + 0.006*\"production\"')\n",
      "(1, '0.110*\"rubber\" + 0.066*\"price\" + 0.034*\"market\" + 0.032*\"natural\" + 0.031*\"rise\" + 0.028*\"fall\" + 0.023*\"oil\" + 0.023*\"domestic\" + 0.022*\"crude\" + 0.021*\"trader\" + 0.020*\"contract\" + 0.019*\"demand\" + 0.019*\"likely\"')\n",
      "(2, '0.090*\"rupee\" + 0.068*\"rubber\" + 0.055*\"contract\" + 0.047*\"price\" + 0.039*\"yen\" + 0.034*\"close\" + 0.025*\"grade\" + 0.024*\"previous\" + 0.019*\"active\" + 0.017*\"rss\" + 0.016*\"high\" + 0.016*\"low\" + 0.016*\"datum\"')\n"
     ]
    }
   ],
   "source": [
    "topics_best_3 = lda_model_best_3.print_topics(num_words=13)\n",
    "for topic in topics_best_3:\n",
    "    print(topic)"
   ]
  },
  {
   "cell_type": "code",
   "execution_count": 45,
   "metadata": {},
   "outputs": [
    {
     "name": "stdout",
     "output_type": "stream",
     "text": [
      "Coherence Score for c_v:  0.6172659695956492\n"
     ]
    }
   ],
   "source": [
    "coherence_model_lda_c_v_3 = CoherenceModel(model=lda_model_best_3, texts=data_lemmatized, dictionary=id2word, coherence='c_v')\n",
    "coherence_lda_3 = coherence_model_lda_c_v_3.get_coherence()\n",
    "print('Coherence Score for c_v: ', coherence_lda_3)"
   ]
  },
  {
   "cell_type": "code",
   "execution_count": 48,
   "metadata": {},
   "outputs": [],
   "source": [
    "def get_lda_topics(model, num_topics):\n",
    "    word_dict = {};\n",
    "    for i in range(num_topics):\n",
    "        words = model.show_topic(i, topn = 40);\n",
    "        word_dict['Topic ' + '{:d}'.format(i+1)] = [i[0] for i in words];\n",
    "    return pd.DataFrame(word_dict)"
   ]
  },
  {
   "cell_type": "code",
   "execution_count": 49,
   "metadata": {},
   "outputs": [
    {
     "data": {
      "text/html": [
       "<div>\n",
       "<style scoped>\n",
       "    .dataframe tbody tr th:only-of-type {\n",
       "        vertical-align: middle;\n",
       "    }\n",
       "\n",
       "    .dataframe tbody tr th {\n",
       "        vertical-align: top;\n",
       "    }\n",
       "\n",
       "    .dataframe thead th {\n",
       "        text-align: right;\n",
       "    }\n",
       "</style>\n",
       "<table border=\"1\" class=\"dataframe\">\n",
       "  <thead>\n",
       "    <tr style=\"text-align: right;\">\n",
       "      <th></th>\n",
       "      <th>Topic 1</th>\n",
       "      <th>Topic 2</th>\n",
       "      <th>Topic 3</th>\n",
       "    </tr>\n",
       "  </thead>\n",
       "  <tbody>\n",
       "    <tr>\n",
       "      <th>0</th>\n",
       "      <td>month</td>\n",
       "      <td>rubber</td>\n",
       "      <td>rupee</td>\n",
       "    </tr>\n",
       "    <tr>\n",
       "      <th>1</th>\n",
       "      <td>year</td>\n",
       "      <td>price</td>\n",
       "      <td>rubber</td>\n",
       "    </tr>\n",
       "    <tr>\n",
       "      <th>2</th>\n",
       "      <td>index</td>\n",
       "      <td>market</td>\n",
       "      <td>contract</td>\n",
       "    </tr>\n",
       "    <tr>\n",
       "      <th>3</th>\n",
       "      <td>company</td>\n",
       "      <td>natural</td>\n",
       "      <td>price</td>\n",
       "    </tr>\n",
       "    <tr>\n",
       "      <th>4</th>\n",
       "      <td>inflation</td>\n",
       "      <td>rise</td>\n",
       "      <td>yen</td>\n",
       "    </tr>\n",
       "    <tr>\n",
       "      <th>5</th>\n",
       "      <td>increase</td>\n",
       "      <td>fall</td>\n",
       "      <td>close</td>\n",
       "    </tr>\n",
       "    <tr>\n",
       "      <th>6</th>\n",
       "      <td>high</td>\n",
       "      <td>oil</td>\n",
       "      <td>grade</td>\n",
       "    </tr>\n",
       "    <tr>\n",
       "      <th>7</th>\n",
       "      <td>rubber</td>\n",
       "      <td>domestic</td>\n",
       "      <td>previous</td>\n",
       "    </tr>\n",
       "    <tr>\n",
       "      <th>8</th>\n",
       "      <td>export</td>\n",
       "      <td>crude</td>\n",
       "      <td>active</td>\n",
       "    </tr>\n",
       "    <tr>\n",
       "      <th>9</th>\n",
       "      <td>state</td>\n",
       "      <td>trader</td>\n",
       "      <td>rss</td>\n",
       "    </tr>\n",
       "    <tr>\n",
       "      <th>10</th>\n",
       "      <td>low</td>\n",
       "      <td>contract</td>\n",
       "      <td>high</td>\n",
       "    </tr>\n",
       "    <tr>\n",
       "      <th>11</th>\n",
       "      <td>plantation</td>\n",
       "      <td>demand</td>\n",
       "      <td>low</td>\n",
       "    </tr>\n",
       "    <tr>\n",
       "      <th>12</th>\n",
       "      <td>production</td>\n",
       "      <td>likely</td>\n",
       "      <td>datum</td>\n",
       "    </tr>\n",
       "    <tr>\n",
       "      <th>13</th>\n",
       "      <td>wholesale</td>\n",
       "      <td>spot</td>\n",
       "      <td>trader</td>\n",
       "    </tr>\n",
       "    <tr>\n",
       "      <th>14</th>\n",
       "      <td>commodity</td>\n",
       "      <td>supply</td>\n",
       "      <td>market</td>\n",
       "    </tr>\n",
       "    <tr>\n",
       "      <th>15</th>\n",
       "      <td>report</td>\n",
       "      <td>key</td>\n",
       "      <td>exchange</td>\n",
       "    </tr>\n",
       "    <tr>\n",
       "      <th>16</th>\n",
       "      <td>country</td>\n",
       "      <td>analyst</td>\n",
       "      <td>end</td>\n",
       "    </tr>\n",
       "    <tr>\n",
       "      <th>17</th>\n",
       "      <td>quarter</td>\n",
       "      <td>gain</td>\n",
       "      <td>bourse</td>\n",
       "    </tr>\n",
       "    <tr>\n",
       "      <th>18</th>\n",
       "      <td>release</td>\n",
       "      <td>base</td>\n",
       "      <td>settle</td>\n",
       "    </tr>\n",
       "    <tr>\n",
       "      <th>19</th>\n",
       "      <td>product</td>\n",
       "      <td>end</td>\n",
       "      <td>board</td>\n",
       "    </tr>\n",
       "    <tr>\n",
       "      <th>20</th>\n",
       "      <td>expect</td>\n",
       "      <td>global</td>\n",
       "      <td>hit</td>\n",
       "    </tr>\n",
       "    <tr>\n",
       "      <th>21</th>\n",
       "      <td>flood</td>\n",
       "      <td>exchange</td>\n",
       "      <td>accord</td>\n",
       "    </tr>\n",
       "    <tr>\n",
       "      <th>22</th>\n",
       "      <td>rate</td>\n",
       "      <td>cue</td>\n",
       "      <td>future</td>\n",
       "    </tr>\n",
       "    <tr>\n",
       "      <th>23</th>\n",
       "      <td>accord</td>\n",
       "      <td>import</td>\n",
       "      <td>widely_trade</td>\n",
       "    </tr>\n",
       "    <tr>\n",
       "      <th>24</th>\n",
       "      <td>rainfall</td>\n",
       "      <td>week</td>\n",
       "      <td>week</td>\n",
       "    </tr>\n",
       "    <tr>\n",
       "      <th>25</th>\n",
       "      <td>mln</td>\n",
       "      <td>expectation</td>\n",
       "      <td>variety</td>\n",
       "    </tr>\n",
       "    <tr>\n",
       "      <th>26</th>\n",
       "      <td>period</td>\n",
       "      <td>tocom</td>\n",
       "      <td>compare</td>\n",
       "    </tr>\n",
       "    <tr>\n",
       "      <th>27</th>\n",
       "      <td>see</td>\n",
       "      <td>future</td>\n",
       "      <td>change</td>\n",
       "    </tr>\n",
       "    <tr>\n",
       "      <th>28</th>\n",
       "      <td>large</td>\n",
       "      <td>output</td>\n",
       "      <td>give</td>\n",
       "    </tr>\n",
       "    <tr>\n",
       "      <th>29</th>\n",
       "      <td>government</td>\n",
       "      <td>support</td>\n",
       "      <td>following</td>\n",
       "    </tr>\n",
       "    <tr>\n",
       "      <th>30</th>\n",
       "      <td>sale</td>\n",
       "      <td>substitute</td>\n",
       "      <td>fall</td>\n",
       "    </tr>\n",
       "    <tr>\n",
       "      <th>31</th>\n",
       "      <td>growth</td>\n",
       "      <td>expect</td>\n",
       "      <td>show</td>\n",
       "    </tr>\n",
       "    <tr>\n",
       "      <th>32</th>\n",
       "      <td>consumption</td>\n",
       "      <td>production</td>\n",
       "      <td>closing</td>\n",
       "    </tr>\n",
       "    <tr>\n",
       "      <th>33</th>\n",
       "      <td>sector</td>\n",
       "      <td>high</td>\n",
       "      <td>rise</td>\n",
       "    </tr>\n",
       "    <tr>\n",
       "      <th>34</th>\n",
       "      <td>industry</td>\n",
       "      <td>benchmark</td>\n",
       "      <td>japanese</td>\n",
       "    </tr>\n",
       "    <tr>\n",
       "      <th>35</th>\n",
       "      <td>raise</td>\n",
       "      <td>concern</td>\n",
       "      <td>detail</td>\n",
       "    </tr>\n",
       "    <tr>\n",
       "      <th>36</th>\n",
       "      <td>damage</td>\n",
       "      <td>new</td>\n",
       "      <td>analyst</td>\n",
       "    </tr>\n",
       "    <tr>\n",
       "      <th>37</th>\n",
       "      <td>area</td>\n",
       "      <td>low</td>\n",
       "      <td>dollar</td>\n",
       "    </tr>\n",
       "    <tr>\n",
       "      <th>38</th>\n",
       "      <td>total</td>\n",
       "      <td>stock</td>\n",
       "      <td>tocom</td>\n",
       "    </tr>\n",
       "    <tr>\n",
       "      <th>39</th>\n",
       "      <td>rain</td>\n",
       "      <td>decline</td>\n",
       "      <td>sell</td>\n",
       "    </tr>\n",
       "  </tbody>\n",
       "</table>\n",
       "</div>"
      ],
      "text/plain": [
       "        Topic 1      Topic 2       Topic 3\n",
       "0         month       rubber         rupee\n",
       "1          year        price        rubber\n",
       "2         index       market      contract\n",
       "3       company      natural         price\n",
       "4     inflation         rise           yen\n",
       "5      increase         fall         close\n",
       "6          high          oil         grade\n",
       "7        rubber     domestic      previous\n",
       "8        export        crude        active\n",
       "9         state       trader           rss\n",
       "10          low     contract          high\n",
       "11   plantation       demand           low\n",
       "12   production       likely         datum\n",
       "13    wholesale         spot        trader\n",
       "14    commodity       supply        market\n",
       "15       report          key      exchange\n",
       "16      country      analyst           end\n",
       "17      quarter         gain        bourse\n",
       "18      release         base        settle\n",
       "19      product          end         board\n",
       "20       expect       global           hit\n",
       "21        flood     exchange        accord\n",
       "22         rate          cue        future\n",
       "23       accord       import  widely_trade\n",
       "24     rainfall         week          week\n",
       "25          mln  expectation       variety\n",
       "26       period        tocom       compare\n",
       "27          see       future        change\n",
       "28        large       output          give\n",
       "29   government      support     following\n",
       "30         sale   substitute          fall\n",
       "31       growth       expect          show\n",
       "32  consumption   production       closing\n",
       "33       sector         high          rise\n",
       "34     industry    benchmark      japanese\n",
       "35        raise      concern        detail\n",
       "36       damage          new       analyst\n",
       "37         area          low        dollar\n",
       "38        total        stock         tocom\n",
       "39         rain      decline          sell"
      ]
     },
     "execution_count": 49,
     "metadata": {},
     "output_type": "execute_result"
    }
   ],
   "source": [
    "get_lda_topics(lda_model_best_3, 3)"
   ]
  },
  {
   "cell_type": "markdown",
   "metadata": {},
   "source": [
    "## Visualize topic keywords from best model"
   ]
  },
  {
   "cell_type": "code",
   "execution_count": 50,
   "metadata": {
    "scrolled": true
   },
   "outputs": [],
   "source": [
    "dictionary = gensim.corpora.Dictionary.load('dictionary_bow_ngram.gensim')\n",
    "corpus = pickle.load(open('corpus_bow_ngram.pkl', 'rb'))\n",
    "# lda = gensim.models.ldamodel.LdaModel.load('model_lda_bow_ngram_best_3.gensim')"
   ]
  },
  {
   "cell_type": "code",
   "execution_count": 51,
   "metadata": {},
   "outputs": [
    {
     "name": "stderr",
     "output_type": "stream",
     "text": [
      "C:\\Users\\plohith\\.conda\\envs\\rpg_env\\lib\\site-packages\\pyLDAvis\\_prepare.py:257: FutureWarning: Sorting because non-concatenation axis is not aligned. A future version\n",
      "of pandas will change to not sort by default.\n",
      "\n",
      "To accept the future behavior, pass 'sort=False'.\n",
      "\n",
      "To retain the current behavior and silence the warning, pass 'sort=True'.\n",
      "\n",
      "  return pd.concat([default_term_info] + list(topic_dfs))\n"
     ]
    },
    {
     "data": {
      "text/html": [
       "\n",
       "<link rel=\"stylesheet\" type=\"text/css\" href=\"https://cdn.rawgit.com/bmabey/pyLDAvis/files/ldavis.v1.0.0.css\">\n",
       "\n",
       "\n",
       "<div id=\"ldavis_el4876122074490801864553720953\"></div>\n",
       "<script type=\"text/javascript\">\n",
       "\n",
       "var ldavis_el4876122074490801864553720953_data = {\"mdsDat\": {\"x\": [-0.30406344306860617, 0.1103315038137186, 0.19373193925488763], \"y\": [0.030768036179722614, -0.18364635930746692, 0.15287832312774424], \"topics\": [1, 2, 3], \"cluster\": [1, 1, 1], \"Freq\": [33.423133850097656, 38.53950881958008, 28.03736114501953]}, \"tinfo\": {\"Category\": [\"Default\", \"Default\", \"Default\", \"Default\", \"Default\", \"Default\", \"Default\", \"Default\", \"Default\", \"Default\", \"Default\", \"Default\", \"Default\", \"Default\", \"Default\", \"Default\", \"Default\", \"Default\", \"Default\", \"Default\", \"Default\", \"Default\", \"Default\", \"Default\", \"Default\", \"Default\", \"Default\", \"Default\", \"Default\", \"Default\", \"Topic1\", \"Topic1\", \"Topic1\", \"Topic1\", \"Topic1\", \"Topic1\", \"Topic1\", \"Topic1\", \"Topic1\", \"Topic1\", \"Topic1\", \"Topic1\", \"Topic1\", \"Topic1\", \"Topic1\", \"Topic1\", \"Topic1\", \"Topic1\", \"Topic1\", \"Topic1\", \"Topic1\", \"Topic1\", \"Topic1\", \"Topic1\", \"Topic1\", \"Topic1\", \"Topic1\", \"Topic1\", \"Topic1\", \"Topic1\", \"Topic1\", \"Topic1\", \"Topic1\", \"Topic1\", \"Topic1\", \"Topic1\", \"Topic1\", \"Topic1\", \"Topic1\", \"Topic1\", \"Topic1\", \"Topic1\", \"Topic1\", \"Topic1\", \"Topic1\", \"Topic1\", \"Topic1\", \"Topic1\", \"Topic1\", \"Topic1\", \"Topic1\", \"Topic1\", \"Topic1\", \"Topic1\", \"Topic1\", \"Topic1\", \"Topic1\", \"Topic1\", \"Topic1\", \"Topic1\", \"Topic1\", \"Topic2\", \"Topic2\", \"Topic2\", \"Topic2\", \"Topic2\", \"Topic2\", \"Topic2\", \"Topic2\", \"Topic2\", \"Topic2\", \"Topic2\", \"Topic2\", \"Topic2\", \"Topic2\", \"Topic2\", \"Topic2\", \"Topic2\", \"Topic2\", \"Topic2\", \"Topic2\", \"Topic2\", \"Topic2\", \"Topic2\", \"Topic2\", \"Topic2\", \"Topic2\", \"Topic2\", \"Topic2\", \"Topic2\", \"Topic2\", \"Topic2\", \"Topic2\", \"Topic2\", \"Topic2\", \"Topic2\", \"Topic2\", \"Topic2\", \"Topic2\", \"Topic2\", \"Topic2\", \"Topic2\", \"Topic2\", \"Topic2\", \"Topic2\", \"Topic2\", \"Topic2\", \"Topic2\", \"Topic2\", \"Topic2\", \"Topic2\", \"Topic2\", \"Topic2\", \"Topic2\", \"Topic2\", \"Topic2\", \"Topic3\", \"Topic3\", \"Topic3\", \"Topic3\", \"Topic3\", \"Topic3\", \"Topic3\", \"Topic3\", \"Topic3\", \"Topic3\", \"Topic3\", \"Topic3\", \"Topic3\", \"Topic3\", \"Topic3\", \"Topic3\", \"Topic3\", \"Topic3\", \"Topic3\", \"Topic3\", \"Topic3\", \"Topic3\", \"Topic3\", \"Topic3\", \"Topic3\", \"Topic3\", \"Topic3\", \"Topic3\", \"Topic3\", \"Topic3\", \"Topic3\", \"Topic3\", \"Topic3\", \"Topic3\", \"Topic3\", \"Topic3\", \"Topic3\", \"Topic3\", \"Topic3\", \"Topic3\", \"Topic3\", \"Topic3\", \"Topic3\", \"Topic3\", \"Topic3\", \"Topic3\", \"Topic3\", \"Topic3\", \"Topic3\", \"Topic3\", \"Topic3\"], \"Freq\": [2914.0, 7380.0, 4460.0, 1264.0, 2650.0, 1084.0, 1424.0, 794.0, 782.0, 1024.0, 1000.0, 997.0, 1712.0, 853.0, 853.0, 616.0, 747.0, 1566.0, 542.0, 1419.0, 2070.0, 434.0, 558.0, 404.0, 440.0, 452.0, 1002.0, 897.0, 356.0, 512.0, 163.22299194335938, 157.19482421875, 145.321044921875, 184.55409240722656, 347.0146179199219, 116.38492584228516, 160.12777709960938, 116.39884948730469, 162.26715087890625, 125.04637145996094, 110.6250991821289, 191.62661743164062, 88.38580322265625, 133.61517333984375, 449.40087890625, 126.72874450683594, 106.16763305664062, 74.23652648925781, 83.30526733398438, 266.4849548339844, 67.05525970458984, 70.58985137939453, 77.94499206542969, 64.5781021118164, 67.07986450195312, 71.83809661865234, 63.91490173339844, 124.8759765625, 62.76392364501953, 102.18041229248047, 142.6412353515625, 222.04495239257812, 107.01956939697266, 101.16981506347656, 138.80946350097656, 85.92625427246094, 176.60769653320312, 133.6608123779297, 180.31881713867188, 328.98980712890625, 175.51199340820312, 174.615966796875, 673.87548828125, 204.82032775878906, 175.3671112060547, 797.6378784179688, 206.93682861328125, 364.50714111328125, 190.98863220214844, 243.8585968017578, 159.17755126953125, 172.06163024902344, 197.1837615966797, 310.7688903808594, 212.3309783935547, 206.14085388183594, 174.0541534423828, 222.85455322265625, 281.1155090332031, 182.1582794189453, 175.76885986328125, 1422.5018310546875, 745.8877563476562, 999.3021240234375, 994.7423095703125, 851.3662109375, 312.3309631347656, 1020.9168701171875, 177.35537719726562, 407.3501892089844, 849.90185546875, 185.01661682128906, 295.8509216308594, 204.23037719726562, 121.9642562866211, 91.41987609863281, 229.95413208007812, 118.99380493164062, 104.77303314208984, 144.00660705566406, 179.2746124267578, 158.58096313476562, 68.62391662597656, 62.384891510009766, 83.7725601196289, 245.78553771972656, 65.08416748046875, 164.0816650390625, 53.52824020385742, 37.73894119262695, 31.51594352722168, 457.93182373046875, 185.142822265625, 177.00469970703125, 306.40093994140625, 118.2817611694336, 490.32843017578125, 226.42478942871094, 1388.6705322265625, 643.4754028320312, 1230.14990234375, 306.5342102050781, 810.8081665039062, 4887.60302734375, 2950.1044921875, 1490.058349609375, 579.5795288085938, 931.8780517578125, 626.3848266601562, 344.7153625488281, 887.8895263671875, 459.2560119628906, 429.0474548339844, 309.890380859375, 333.2530822753906, 307.77685546875, 2911.671875, 1263.7703857421875, 1083.4556884765625, 615.2724609375, 793.2131958007812, 781.1865844726562, 355.8657531738281, 541.1495971679688, 433.5751953125, 335.83807373046875, 403.2349548339844, 327.83056640625, 316.4806213378906, 196.45626831054688, 149.46173095703125, 83.6798324584961, 236.69029235839844, 255.95892333984375, 92.63729858398438, 54.16801071166992, 264.574951171875, 314.2801818847656, 426.5820007324219, 66.97708129882812, 28.754514694213867, 58.20332336425781, 29.392208099365234, 17.095300674438477, 13.876394271850586, 21.872968673706055, 328.2809143066406, 164.72103881835938, 500.49609375, 349.60968017578125, 345.75506591796875, 434.6748962402344, 355.17010498046875, 1762.2137451171875, 419.5594787597656, 215.3209991455078, 414.8392639160156, 2211.4599609375, 1504.007080078125, 521.7765502929688, 525.5479736328125, 462.2554016113281, 461.30010986328125, 487.42572021484375, 403.7618408203125, 393.6789245605469, 477.39202880859375], \"Term\": [\"rupee\", \"rubber\", \"price\", \"yen\", \"contract\", \"close\", \"natural\", \"grade\", \"previous\", \"oil\", \"domestic\", \"crude\", \"rise\", \"demand\", \"likely\", \"active\", \"supply\", \"fall\", \"rss\", \"trader\", \"market\", \"settle\", \"datum\", \"widely_trade\", \"board\", \"index\", \"spot\", \"year\", \"variety\", \"bourse\", \"government\", \"sector\", \"industry\", \"product\", \"inflation\", \"power\", \"growth\", \"duty\", \"sale\", \"cost\", \"margin\", \"quarter\", \"refinance\", \"total\", \"index\", \"time\", \"include\", \"tax\", \"issue\", \"export\", \"capacity\", \"revise\", \"earning\", \"loan\", \"vehicle\", \"gold\", \"volume\", \"fuel\", \"weight\", \"cut\", \"raise\", \"plantation\", \"crop\", \"ecb\", \"damage\", \"launch\", \"rate\", \"area\", \"flood\", \"increase\", \"rainfall\", \"period\", \"year\", \"report\", \"mln\", \"month\", \"wholesale\", \"company\", \"release\", \"state\", \"consumption\", \"large\", \"country\", \"high\", \"production\", \"commodity\", \"see\", \"low\", \"rubber\", \"expect\", \"accord\", \"natural\", \"supply\", \"domestic\", \"crude\", \"demand\", \"expectation\", \"oil\", \"stockist\", \"cue\", \"likely\", \"coming_day\", \"substitute\", \"arrival\", \"crunch\", \"ongoing\", \"weigh\", \"subdue\", \"extend\", \"cap\", \"sharp\", \"endus\", \"producing_countrie\", \"cushion\", \"owner\", \"concern\", \"bearish\", \"outlook\", \"coming_days\", \"prevent\", \"link\", \"global\", \"session\", \"warehouse\", \"support\", \"inventory\", \"base\", \"come\", \"rise\", \"key\", \"fall\", \"output\", \"spot\", \"rubber\", \"price\", \"market\", \"gain\", \"trader\", \"analyst\", \"import\", \"contract\", \"end\", \"exchange\", \"tocom\", \"week\", \"future\", \"rupee\", \"yen\", \"close\", \"active\", \"grade\", \"previous\", \"variety\", \"rss\", \"settle\", \"following\", \"widely_trade\", \"closing\", \"japanese\", \"unchanged\", \"denominate\", \"overseas_buyer\", \"cent\", \"sell\", \"quote\", \"costlier\", \"dollar\", \"detail\", \"board\", \"participant\", \"profit_booking\", \"strength\", \"shut\", \"investors_covere\", \"smr\", \"short_covering\", \"show\", \"make\", \"datum\", \"change\", \"give\", \"bourse\", \"compare\", \"contract\", \"hit\", \"day\", \"accord\", \"rubber\", \"price\", \"low\", \"high\", \"exchange\", \"end\", \"trader\", \"future\", \"week\", \"market\"], \"Total\": [2914.0, 7380.0, 4460.0, 1264.0, 2650.0, 1084.0, 1424.0, 794.0, 782.0, 1024.0, 1000.0, 997.0, 1712.0, 853.0, 853.0, 616.0, 747.0, 1566.0, 542.0, 1419.0, 2070.0, 434.0, 558.0, 404.0, 440.0, 452.0, 1002.0, 897.0, 356.0, 512.0, 163.75302124023438, 157.80735778808594, 145.93792724609375, 185.34886169433594, 348.5787658691406, 116.92073059082031, 160.89889526367188, 116.96327209472656, 163.07948303222656, 125.70504760742188, 111.23048400878906, 192.67529296875, 88.90382385253906, 134.40794372558594, 452.0812072753906, 127.51496887207031, 106.86064147949219, 74.73223876953125, 83.87191772460938, 268.47210693359375, 67.56420135498047, 71.13191223144531, 78.5455093383789, 65.09710693359375, 67.62517547607422, 72.44013977050781, 64.45835876464844, 125.94532775878906, 63.30510711669922, 103.09282684326172, 144.03311157226562, 225.46127319335938, 108.06157684326172, 102.27777862548828, 140.93215942382812, 86.80448150634766, 182.41143798828125, 137.03770446777344, 187.2283477783203, 352.4645080566406, 190.90008544921875, 189.85264587402344, 897.4666748046875, 232.73977661132812, 194.04615783691406, 1194.5804443359375, 253.2119598388672, 553.9652709960938, 253.77899169921875, 416.146484375, 194.9921875, 240.6673126220703, 343.5859069824219, 1103.6190185546875, 488.41790771484375, 469.7587890625, 284.1214599609375, 988.0833129882812, 7380.1787109375, 459.9852294921875, 636.5515747070312, 1424.5614013671875, 747.0484008789062, 1000.9027099609375, 997.116455078125, 853.5509643554688, 313.408447265625, 1024.8358154296875, 178.04367065429688, 409.054931640625, 853.5345458984375, 185.82730102539062, 297.28125, 205.2860565185547, 122.66244506835938, 92.11752319335938, 231.7914581298828, 120.11725616455078, 105.82652282714844, 145.5602264404297, 181.29534912109375, 160.51011657714844, 69.4952392578125, 63.196781158447266, 84.91329193115234, 249.50140380859375, 66.08384704589844, 167.24929809570312, 54.62815856933594, 38.600746154785156, 32.3646125793457, 471.3580627441406, 191.280517578125, 185.26318359375, 329.58294677734375, 123.40328216552734, 554.6130981445312, 245.8015594482422, 1712.3623046875, 753.9400024414062, 1566.2127685546875, 342.31610107421875, 1002.638671875, 7380.1787109375, 4460.35595703125, 2070.022216796875, 717.0958251953125, 1419.8095703125, 901.5746459960938, 443.74853515625, 2650.680419921875, 926.4661865234375, 894.6997680664062, 566.395263671875, 757.5223388671875, 754.1219482421875, 2914.066650390625, 1264.8321533203125, 1084.741455078125, 616.1508178710938, 794.513427734375, 782.7024536132812, 356.5986328125, 542.4100341796875, 434.7246398925781, 336.7619934082031, 404.36407470703125, 328.8666076660156, 317.6138000488281, 197.84848022460938, 150.901611328125, 84.48919677734375, 240.22329711914062, 260.5126037597656, 94.36219024658203, 55.20657730102539, 270.4220886230469, 321.6544189453125, 440.15948486328125, 69.21128845214844, 29.830236434936523, 60.769142150878906, 30.877784729003906, 18.093372344970703, 14.919194221496582, 23.541696548461914, 359.5439147949219, 180.9361572265625, 558.9528198242188, 389.2227478027344, 394.11376953125, 512.614013671875, 434.92059326171875, 2650.680419921875, 594.693115234375, 264.3403625488281, 636.5515747070312, 7380.1787109375, 4460.35595703125, 988.0833129882812, 1103.6190185546875, 894.6997680664062, 926.4661865234375, 1419.8095703125, 754.1219482421875, 757.5223388671875, 2070.022216796875], \"loglift\": [30.0, 29.0, 28.0, 27.0, 26.0, 25.0, 24.0, 23.0, 22.0, 21.0, 20.0, 19.0, 18.0, 17.0, 16.0, 15.0, 14.0, 13.0, 12.0, 11.0, 10.0, 9.0, 8.0, 7.0, 6.0, 5.0, 4.0, 3.0, 2.0, 1.0, 1.0927000045776367, 1.0920000076293945, 1.0916999578475952, 1.091599941253662, 1.0914000272750854, 1.0913000106811523, 1.0910999774932861, 1.0910999774932861, 1.09089994430542, 1.0907000303268433, 1.090499997138977, 1.090499997138977, 1.0901000499725342, 1.090000033378601, 1.090000033378601, 1.0896999835968018, 1.089400053024292, 1.0893000364303589, 1.0891000032424927, 1.0885000228881836, 1.0884000062942505, 1.0882999897003174, 1.0881999731063843, 1.0879000425338745, 1.0878000259399414, 1.0875999927520752, 1.087499976158142, 1.087399959564209, 1.0872999429702759, 1.0870000123977661, 1.0861999988555908, 1.0807000398635864, 1.0861999988555908, 1.0850000381469727, 1.0807000398635864, 1.085800051689148, 1.063599944114685, 1.0709999799728394, 1.0583000183105469, 1.0269999504089355, 1.0118999481201172, 1.0123000144958496, 0.8094000220298767, 0.9681000113487244, 0.994700014591217, 0.6919999718666077, 0.89410001039505, 0.6773999929428101, 0.8116999864578247, 0.5615000128746033, 0.8930000066757202, 0.7603999972343445, 0.5406000018119812, -0.17139999568462372, 0.2628999948501587, 0.27230000495910645, 0.60589998960495, -0.39329999685287476, -2.1719000339508057, 0.1695999950170517, -0.19099999964237213, 0.9520000219345093, 0.9519000053405762, 0.9519000053405762, 0.9510999917984009, 0.9509000182151794, 0.949999988079071, 0.9496999979019165, 0.9495999813079834, 0.9492999911308289, 0.9491999745368958, 0.9491000175476074, 0.9487000107765198, 0.9483000040054321, 0.9477999806404114, 0.945900022983551, 0.9455000162124634, 0.944100022315979, 0.9434999823570251, 0.942799985408783, 0.942300021648407, 0.9413999915122986, 0.9409000277519226, 0.9405999779701233, 0.9399999976158142, 0.9384999871253967, 0.9381999969482422, 0.9344000220298767, 0.9330999851226807, 0.930899977684021, 0.9269000291824341, 0.9246000051498413, 0.9208999872207642, 0.9078999757766724, 0.8805999755859375, 0.9110999703407288, 0.830299973487854, 0.871399998664856, 0.7440000176429749, 0.7950999736785889, 0.7120000123977661, 0.8431000113487244, 0.741100013256073, 0.5414000153541565, 0.5400999784469604, 0.6247000098228455, 0.7405999898910522, 0.5324000120162964, 0.5892999768257141, 0.7009000182151794, -0.14020000398159027, 0.2517000138759613, 0.21860000491142273, 0.35040000081062317, 0.13230000436306, 0.05730000138282776, 1.270799994468689, 1.270799994468689, 1.270400047302246, 1.2702000141143799, 1.2699999809265137, 1.269700050354004, 1.2696000337600708, 1.2692999839782715, 1.2690000534057617, 1.2689000368118286, 1.2688000202178955, 1.2684999704360962, 1.2681000232696533, 1.2646000385284424, 1.2619999647140503, 1.2619999647140503, 1.2568000555038452, 1.253999948501587, 1.2532000541687012, 1.2525999546051025, 1.2497999668121338, 1.2483999729156494, 1.2403000593185425, 1.238800048828125, 1.2348999977111816, 1.2285000085830688, 1.2223000526428223, 1.214900016784668, 1.1992000341415405, 1.198099970817566, 1.1806999444961548, 1.1777000427246094, 1.1612000465393066, 1.1642999649047852, 1.1406999826431274, 1.1066999435424805, 1.069100022315979, 0.8633999824523926, 0.9228000044822693, 1.066499948501587, 0.843500018119812, 0.06650000065565109, 0.18449999392032623, 0.6330999732017517, 0.529699981212616, 0.611299991607666, 0.5742999911308289, 0.20250000059604645, 0.6468999981880188, 0.6171000003814697, -0.19529999792575836], \"logprob\": [30.0, 29.0, 28.0, 27.0, 26.0, 25.0, 24.0, 23.0, 22.0, 21.0, 20.0, 19.0, 18.0, 17.0, 16.0, 15.0, 14.0, 13.0, 12.0, 11.0, 10.0, 9.0, 8.0, 7.0, 6.0, 5.0, 4.0, 3.0, 2.0, 1.0, -5.4629998207092285, -5.5005998611450195, -5.579100131988525, -5.340099811553955, -4.708700180053711, -5.801199913024902, -5.482100009918213, -5.801000118255615, -5.468800067901611, -5.729400157928467, -5.851900100708008, -5.302499771118164, -6.076399803161621, -5.663099765777588, -4.450200080871582, -5.716000080108643, -5.893099784851074, -6.250800132751465, -6.1356000900268555, -4.972799777984619, -6.35260009765625, -6.301199913024902, -6.202099800109863, -6.390200138092041, -6.352200031280518, -6.283699989318848, -6.4004998207092285, -5.730800151824951, -6.418700218200684, -5.931300163269043, -5.597700119018555, -5.155200004577637, -5.8850998878479, -5.941299915313721, -5.625, -6.104599952697754, -5.384099960327148, -5.662799835205078, -5.36329984664917, -4.76200008392334, -5.390399932861328, -5.395500183105469, -4.045000076293945, -5.235899925231934, -5.391200065612793, -3.8763999938964844, -5.2256999015808105, -4.6595001220703125, -5.3059000968933105, -5.061500072479248, -5.488100051879883, -5.410200119018555, -5.273900032043457, -4.818999767303467, -5.199900150299072, -5.229499816894531, -5.39870023727417, -5.151599884033203, -4.919300079345703, -5.3531999588012695, -5.388899803161621, -3.4402999877929688, -4.085899829864502, -3.7934000492095947, -3.7980000972747803, -3.953700065612793, -4.956399917602539, -3.7720999717712402, -5.52239990234375, -4.690800189971924, -3.955399990081787, -5.480100154876709, -5.010700225830078, -5.38129997253418, -5.8968000411987305, -6.184999942779541, -5.262599945068359, -5.92140007019043, -6.048699855804443, -5.730599880218506, -5.511600017547607, -5.634200096130371, -6.47189998626709, -6.567200183868408, -6.27239990234375, -5.196000099182129, -6.524799823760986, -5.600100040435791, -6.720300197601318, -7.069799900054932, -7.25, -4.573800086975098, -5.479400157928467, -5.5243000984191895, -4.975599765777588, -5.9274001121521, -4.50540018081665, -5.27810001373291, -3.464400053024292, -4.23360013961792, -3.585599899291992, -4.975200176239014, -4.002500057220459, -2.2060999870300293, -2.710900068283081, -3.393899917602539, -4.338200092315674, -3.863300085067749, -4.260499954223633, -4.857800006866455, -3.9117000102996826, -4.570899963378906, -4.638899803161621, -4.964300155639648, -4.891600131988525, -4.971099853515625, -2.405900001525879, -3.240499973297119, -3.3945000171661377, -3.9602999687194824, -3.7063000202178955, -3.7214999198913574, -4.507800102233887, -4.088699817657471, -4.310299873352051, -4.565700054168701, -4.382800102233887, -4.589900016784668, -4.625100135803223, -5.101900100708008, -5.37529993057251, -5.955399990081787, -4.915599822998047, -4.837299823760986, -5.853700160980225, -6.3902997970581055, -4.804200172424316, -4.6321001052856445, -4.326600074768066, -6.177999973297119, -7.023600101470947, -6.318399906158447, -7.0015997886657715, -7.543600082397461, -7.752200126647949, -7.297100067138672, -4.588500022888184, -5.27810001373291, -4.166800022125244, -4.5254998207092285, -4.536600112915039, -4.307799816131592, -4.509799957275391, -2.9079999923706055, -4.343200206756592, -5.010200023651123, -4.354499816894531, -2.680999994277954, -3.066499948501587, -4.125100135803223, -4.1178998947143555, -4.246200084686279, -4.248300075531006, -4.19320011138916, -4.381499767303467, -4.406799793243408, -4.214000225067139]}, \"token.table\": {\"Topic\": [1, 2, 3, 3, 1, 2, 3, 1, 2, 1, 2, 1, 2, 3, 1, 2, 1, 2, 3, 1, 2, 3, 1, 2, 3, 1, 1, 3, 1, 2, 3, 1, 2, 3, 1, 3, 1, 2, 2, 1, 2, 3, 1, 2, 3, 1, 2, 3, 1, 2, 3, 1, 2, 3, 1, 2, 1, 2, 3, 1, 1, 3, 1, 2, 3, 1, 2, 1, 2, 3, 2, 1, 2, 3, 2, 1, 2, 1, 2, 3, 1, 2, 3, 1, 2, 3, 1, 2, 1, 3, 1, 2, 3, 1, 2, 3, 1, 2, 3, 1, 1, 1, 3, 1, 2, 3, 1, 2, 3, 1, 2, 3, 1, 2, 3, 1, 2, 1, 2, 3, 1, 2, 1, 2, 3, 1, 2, 3, 3, 1, 3, 1, 2, 3, 1, 2, 3, 1, 2, 3, 1, 2, 3, 1, 1, 1, 2, 3, 1, 1, 2, 3, 1, 2, 3, 1, 2, 1, 1, 2, 3, 1, 2, 3, 1, 1, 2, 3, 1, 2, 3, 2, 3, 1, 2, 3, 1, 2, 3, 1, 2, 3, 1, 2, 1, 2, 1, 2, 1, 1, 2, 3, 1, 2, 3, 1, 1, 2, 3, 1, 2, 3, 1, 2, 3, 1, 2, 3, 1, 2, 3, 2, 1, 2, 1, 2, 3, 3, 1, 2, 1, 2, 3, 1, 2, 3, 1, 2, 3, 1, 1, 2, 1, 3, 1, 2, 3, 1, 2, 1, 1, 2, 2, 3, 1, 2, 1, 3, 1, 2, 3, 1, 2, 3, 1, 2, 3, 1, 1, 2, 3, 1, 2, 3, 1, 1, 2, 3, 1, 2, 3, 1, 2, 3, 1, 2, 3, 1, 1, 1, 2, 1, 3, 1, 2, 3, 1, 2, 3, 1, 2, 3, 1, 2, 3, 1, 3, 1, 2, 3, 1, 2, 3, 2, 3, 1, 2, 3, 2, 1, 2, 3, 1, 2, 2, 3, 1, 2, 1, 2, 3, 1, 1, 2, 3, 1, 1, 2, 3, 1, 3, 3, 1, 1, 1, 2, 3, 1, 2, 3, 1, 2, 3, 1, 1, 2, 3, 1, 2, 3, 1, 2, 3, 1, 2, 3], \"Freq\": [0.2764897644519806, 0.07226437330245972, 0.6519502997398376, 0.9981322288513184, 0.0011091704946011305, 0.694340705871582, 0.3039127290248871, 0.977833092212677, 0.02189178578555584, 0.004871251527220011, 0.9937353134155273, 0.11539576202630997, 0.8834987878799438, 0.0018030587816610932, 0.015132291242480278, 0.9835988879203796, 0.029534749686717987, 0.0022719036787748337, 0.9701029062271118, 0.001950785517692566, 0.15021048486232758, 0.848591685295105, 0.006870008539408445, 0.9892812371253967, 0.006870008539408445, 0.9916493892669678, 0.012488381005823612, 0.9865821003913879, 0.10019969195127487, 0.0025692228227853775, 0.899228036403656, 0.000921878672670573, 0.000921878672670573, 0.9983946084976196, 0.0030407465528696775, 0.99736487865448, 0.0772981271147728, 0.9194408655166626, 0.9955480098724365, 0.018305577337741852, 0.9885011911392212, 0.018305577337741852, 0.43852293491363525, 0.3789178729057312, 0.18094392120838165, 0.6588860750198364, 0.3393714427947998, 0.0018051672959700227, 0.1793430894613266, 0.004598540719598532, 0.8162409663200378, 0.0040079932659864426, 0.9859663844108582, 0.008015986531972885, 0.8154172897338867, 0.17949436604976654, 0.00037726163282059133, 0.33500832319259644, 0.664734959602356, 0.9943912625312805, 0.01811378449201584, 0.9781443476676941, 0.5733646154403687, 0.4249301254749298, 0.0029104803688824177, 0.9901762008666992, 0.00925398338586092, 0.0010028919205069542, 0.9978774189949036, 0.0010028919205069542, 0.994599461555481, 0.002444659359753132, 0.9949764013290405, 0.002444659359753132, 0.981062650680542, 0.9893996119499207, 0.009699995629489422, 0.9862901568412781, 0.007095612585544586, 0.007095612585544586, 0.10376546531915665, 0.0017890597227960825, 0.8945298790931702, 0.17401807010173798, 0.011349004693329334, 0.8133453130722046, 0.002343152416869998, 0.9970113635063171, 0.006626834627240896, 0.9873983263969421, 0.012435706332325935, 0.009326780214905739, 0.9762029647827148, 0.0036979226861149073, 0.018489614129066467, 0.9799495339393616, 0.0009990980615839362, 0.9980990290641785, 0.0009990980615839362, 0.9917643070220947, 0.9930548667907715, 0.9875068068504333, 0.009777294471859932, 0.006476221140474081, 0.49543091654777527, 0.49758967757225037, 0.0062301368452608585, 0.9905917644500732, 0.0062301368452608585, 0.003353080013766885, 0.4794904589653015, 0.5163743495941162, 0.39566487073898315, 0.6021932363510132, 0.0021739827934652567, 0.0031907244119793177, 0.9955060482025146, 0.990791916847229, 0.003724781796336174, 0.003724781796336174, 0.009449427016079426, 0.9921898245811462, 0.0019154485780745745, 0.7853339314460754, 0.21261478960514069, 0.961392879486084, 0.03204642981290817, 0.0053410716354846954, 0.9977372884750366, 0.9924941658973694, 0.007939953356981277, 0.05701995640993118, 0.40842199325561523, 0.5357223749160767, 0.0013945137616246939, 0.808817982673645, 0.19104838371276855, 0.12179224193096161, 0.0025373382959514856, 0.87791907787323, 0.027579883113503456, 0.9716604948043823, 0.002121529309079051, 0.993924081325531, 0.9954015016555786, 0.0012586319353431463, 0.0012586319353431463, 0.9980951547622681, 0.9944133162498474, 0.28180015087127686, 0.24193131923675537, 0.47661375999450684, 0.02354155294597149, 0.27072787284851074, 0.7062466144561768, 0.22309932112693787, 0.7774673700332642, 0.9919461607933044, 0.9334273338317871, 0.06525480002164841, 0.0028371650259941816, 0.9931843876838684, 0.0022119919303804636, 0.0022119919303804636, 0.9935731291770935, 0.9954708218574524, 0.0028687920421361923, 0.0028687920421361923, 0.03241404891014099, 0.956214427947998, 0.016207024455070496, 0.05526885762810707, 0.9395705461502075, 0.9896041750907898, 0.0031484777573496103, 0.9949190020561218, 0.0013263655127957463, 0.852853000164032, 0.1459002047777176, 0.7146795392036438, 0.27008238434791565, 0.0166204534471035, 0.9907322525978088, 0.011520142666995525, 0.0035147962626069784, 0.995858907699585, 0.030897945165634155, 0.988734245300293, 0.9985082745552063, 0.22568947076797485, 0.24593067169189453, 0.5282955169677734, 0.08842898160219193, 0.005526811350136995, 0.911923885345459, 0.9979278445243835, 0.04975792020559311, 0.7197990417480469, 0.23043231666088104, 0.9018473029136658, 0.08760802447795868, 0.0103068258613348, 0.6680169701576233, 0.13310112059116364, 0.19923312962055206, 0.0007019704207777977, 0.9989039301872253, 0.0007019704207777977, 0.002927298191934824, 0.9962571263313293, 0.000975766044575721, 0.9878684878349304, 0.017937295138835907, 0.9805721044540405, 0.10224468261003494, 0.8968319296836853, 0.002921276492998004, 0.9942099452018738, 0.011776719242334366, 0.9892444014549255, 0.014448510482907295, 0.014448510482907295, 0.9680501818656921, 0.92176753282547, 0.06847415864467621, 0.010534485802054405, 0.9846480488777161, 0.008870703168213367, 0.004435351584106684, 0.9921251535415649, 0.025906234979629517, 0.9844369292259216, 0.0012776247458532453, 0.9978249073028564, 0.0013451841659843922, 0.6613821983337402, 0.3371928334236145, 0.014389474876224995, 0.9928737878799438, 0.9981178045272827, 0.43405452370643616, 0.5650898218154907, 0.03352303430438042, 0.97216796875, 0.9964951872825623, 0.005190079100430012, 0.010597464628517628, 0.9855642318725586, 0.921948254108429, 0.06809844821691513, 0.010476685129106045, 0.9928272366523743, 0.0069428482092916965, 0.0069428482092916965, 0.9703338742256165, 0.005482112523168325, 0.027410561218857765, 0.9898337125778198, 0.7526233792304993, 0.24430705606937408, 0.003940436523407698, 0.8808120489120483, 0.11600939184427261, 0.004296644125133753, 0.9981455206871033, 0.0017519657267257571, 0.8111600875854492, 0.18746033310890198, 0.0018436237005516887, 0.0018436237005516887, 0.9974004030227661, 0.03807495906949043, 0.6623145937919617, 0.2995862364768982, 0.0006863261223770678, 0.0003431630611885339, 0.9992908239364624, 0.993380606174469, 0.9948838949203491, 0.6124141216278076, 0.3871583640575409, 0.015354343689978123, 0.9826779961585999, 0.005227923858910799, 0.9671659469604492, 0.03136754408478737, 0.0023003066889941692, 0.0023003066889941692, 0.9983330965042114, 0.005515861324965954, 0.987339198589325, 0.005515861324965954, 0.04247782379388809, 0.04247782379388809, 0.9345120787620544, 0.08622034639120102, 0.9122668504714966, 0.03238574415445328, 0.03238574415445328, 0.9391865730285645, 0.067027747631073, 0.067027747631073, 0.938388466835022, 0.8088656663894653, 0.19049733877182007, 0.5863320231437683, 0.41091299057006836, 0.004805999808013439, 0.9941381216049194, 0.03291144222021103, 0.016455721110105515, 0.9544317722320557, 0.008325198665261269, 0.9906986355781555, 0.995690107345581, 0.0033638179302215576, 0.0013386013451963663, 0.9985966086387634, 0.06675102561712265, 0.9284461140632629, 0.0030341376550495625, 0.9902018308639526, 0.9959614872932434, 0.5473209619522095, 0.45198118686676025, 0.9969648718833923, 0.0007043197983875871, 0.6564260721206665, 0.3430037498474121, 0.005054372828453779, 0.9906570911407471, 0.9983212947845459, 0.9907552599906921, 0.9928890466690063, 0.02698863297700882, 0.9553976058959961, 0.016193179413676262, 0.04092288389801979, 0.4395909905433655, 0.5201166868209839, 0.00431422283872962, 0.9922712445259094, 0.00431422283872962, 0.9951803684234619, 0.8174969553947449, 0.08688373118638992, 0.094782255589962, 0.002473018830642104, 0.002473018830642104, 0.996626615524292, 0.7510027885437012, 0.24847719073295593, 0.001114247483201325, 0.0007906187092885375, 0.0007906187092885375, 0.9993420839309692], \"Term\": [\"accord\", \"accord\", \"accord\", \"active\", \"analyst\", \"analyst\", \"analyst\", \"area\", \"area\", \"arrival\", \"arrival\", \"base\", \"base\", \"base\", \"bearish\", \"bearish\", \"board\", \"board\", \"board\", \"bourse\", \"bourse\", \"bourse\", \"cap\", \"cap\", \"cap\", \"capacity\", \"cent\", \"cent\", \"change\", \"change\", \"change\", \"close\", \"close\", \"close\", \"closing\", \"closing\", \"come\", \"come\", \"coming_day\", \"coming_days\", \"coming_days\", \"coming_days\", \"commodity\", \"commodity\", \"commodity\", \"company\", \"company\", \"company\", \"compare\", \"compare\", \"compare\", \"concern\", \"concern\", \"concern\", \"consumption\", \"consumption\", \"contract\", \"contract\", \"contract\", \"cost\", \"costlier\", \"costlier\", \"country\", \"country\", \"country\", \"crop\", \"crop\", \"crude\", \"crude\", \"crude\", \"crunch\", \"cue\", \"cue\", \"cue\", \"cushion\", \"cut\", \"cut\", \"damage\", \"damage\", \"damage\", \"datum\", \"datum\", \"datum\", \"day\", \"day\", \"day\", \"demand\", \"demand\", \"denominate\", \"denominate\", \"detail\", \"detail\", \"detail\", \"dollar\", \"dollar\", \"dollar\", \"domestic\", \"domestic\", \"domestic\", \"duty\", \"earning\", \"ecb\", \"ecb\", \"end\", \"end\", \"end\", \"endus\", \"endus\", \"endus\", \"exchange\", \"exchange\", \"exchange\", \"expect\", \"expect\", \"expect\", \"expectation\", \"expectation\", \"export\", \"export\", \"export\", \"extend\", \"extend\", \"fall\", \"fall\", \"fall\", \"flood\", \"flood\", \"flood\", \"following\", \"fuel\", \"fuel\", \"future\", \"future\", \"future\", \"gain\", \"gain\", \"gain\", \"give\", \"give\", \"give\", \"global\", \"global\", \"global\", \"gold\", \"government\", \"grade\", \"grade\", \"grade\", \"growth\", \"high\", \"high\", \"high\", \"hit\", \"hit\", \"hit\", \"import\", \"import\", \"include\", \"increase\", \"increase\", \"increase\", \"index\", \"index\", \"index\", \"industry\", \"inflation\", \"inflation\", \"inflation\", \"inventory\", \"inventory\", \"inventory\", \"investors_covere\", \"investors_covere\", \"issue\", \"japanese\", \"japanese\", \"key\", \"key\", \"key\", \"large\", \"large\", \"large\", \"launch\", \"launch\", \"likely\", \"likely\", \"link\", \"link\", \"loan\", \"low\", \"low\", \"low\", \"make\", \"make\", \"make\", \"margin\", \"market\", \"market\", \"market\", \"mln\", \"mln\", \"mln\", \"month\", \"month\", \"month\", \"natural\", \"natural\", \"natural\", \"oil\", \"oil\", \"oil\", \"ongoing\", \"outlook\", \"outlook\", \"output\", \"output\", \"output\", \"overseas_buyer\", \"owner\", \"owner\", \"participant\", \"participant\", \"participant\", \"period\", \"period\", \"period\", \"plantation\", \"plantation\", \"plantation\", \"power\", \"prevent\", \"prevent\", \"previous\", \"previous\", \"price\", \"price\", \"price\", \"producing_countrie\", \"producing_countrie\", \"product\", \"production\", \"production\", \"profit_booking\", \"profit_booking\", \"quarter\", \"quarter\", \"quote\", \"quote\", \"rainfall\", \"rainfall\", \"rainfall\", \"raise\", \"raise\", \"raise\", \"rate\", \"rate\", \"rate\", \"refinance\", \"release\", \"release\", \"release\", \"report\", \"report\", \"report\", \"revise\", \"rise\", \"rise\", \"rise\", \"rss\", \"rss\", \"rss\", \"rubber\", \"rubber\", \"rubber\", \"rupee\", \"rupee\", \"rupee\", \"sale\", \"sector\", \"see\", \"see\", \"sell\", \"sell\", \"session\", \"session\", \"session\", \"settle\", \"settle\", \"settle\", \"sharp\", \"sharp\", \"sharp\", \"short_covering\", \"short_covering\", \"short_covering\", \"show\", \"show\", \"shut\", \"shut\", \"shut\", \"smr\", \"smr\", \"smr\", \"spot\", \"spot\", \"state\", \"state\", \"state\", \"stockist\", \"strength\", \"strength\", \"strength\", \"subdue\", \"subdue\", \"substitute\", \"substitute\", \"supply\", \"supply\", \"support\", \"support\", \"support\", \"tax\", \"time\", \"tocom\", \"tocom\", \"total\", \"trader\", \"trader\", \"trader\", \"unchanged\", \"unchanged\", \"variety\", \"vehicle\", \"volume\", \"warehouse\", \"warehouse\", \"warehouse\", \"week\", \"week\", \"week\", \"weigh\", \"weigh\", \"weigh\", \"weight\", \"wholesale\", \"wholesale\", \"wholesale\", \"widely_trade\", \"widely_trade\", \"widely_trade\", \"year\", \"year\", \"year\", \"yen\", \"yen\", \"yen\"]}, \"R\": 30, \"lambda.step\": 0.01, \"plot.opts\": {\"xlab\": \"PC1\", \"ylab\": \"PC2\"}, \"topic.order\": [1, 2, 3]};\n",
       "\n",
       "function LDAvis_load_lib(url, callback){\n",
       "  var s = document.createElement('script');\n",
       "  s.src = url;\n",
       "  s.async = true;\n",
       "  s.onreadystatechange = s.onload = callback;\n",
       "  s.onerror = function(){console.warn(\"failed to load library \" + url);};\n",
       "  document.getElementsByTagName(\"head\")[0].appendChild(s);\n",
       "}\n",
       "\n",
       "if(typeof(LDAvis) !== \"undefined\"){\n",
       "   // already loaded: just create the visualization\n",
       "   !function(LDAvis){\n",
       "       new LDAvis(\"#\" + \"ldavis_el4876122074490801864553720953\", ldavis_el4876122074490801864553720953_data);\n",
       "   }(LDAvis);\n",
       "}else if(typeof define === \"function\" && define.amd){\n",
       "   // require.js is available: use it to load d3/LDAvis\n",
       "   require.config({paths: {d3: \"https://cdnjs.cloudflare.com/ajax/libs/d3/3.5.5/d3.min\"}});\n",
       "   require([\"d3\"], function(d3){\n",
       "      window.d3 = d3;\n",
       "      LDAvis_load_lib(\"https://cdn.rawgit.com/bmabey/pyLDAvis/files/ldavis.v1.0.0.js\", function(){\n",
       "        new LDAvis(\"#\" + \"ldavis_el4876122074490801864553720953\", ldavis_el4876122074490801864553720953_data);\n",
       "      });\n",
       "    });\n",
       "}else{\n",
       "    // require.js not available: dynamically load d3 & LDAvis\n",
       "    LDAvis_load_lib(\"https://cdnjs.cloudflare.com/ajax/libs/d3/3.5.5/d3.min.js\", function(){\n",
       "         LDAvis_load_lib(\"https://cdn.rawgit.com/bmabey/pyLDAvis/files/ldavis.v1.0.0.js\", function(){\n",
       "                 new LDAvis(\"#\" + \"ldavis_el4876122074490801864553720953\", ldavis_el4876122074490801864553720953_data);\n",
       "            })\n",
       "         });\n",
       "}\n",
       "</script>"
      ],
      "text/plain": [
       "<IPython.core.display.HTML object>"
      ]
     },
     "execution_count": 51,
     "metadata": {},
     "output_type": "execute_result"
    }
   ],
   "source": [
    "lda_display = pyLDAvis.gensim.prepare(lda_model_best_3, corpus, dictionary, sort_topics=False)\n",
    "pyLDAvis.display(lda_display)"
   ]
  },
  {
   "cell_type": "markdown",
   "metadata": {},
   "source": [
    "## Topic-3: Train Data Mapping"
   ]
  },
  {
   "cell_type": "code",
   "execution_count": 91,
   "metadata": {},
   "outputs": [],
   "source": [
    "documents_copy= documents.copy()"
   ]
  },
  {
   "cell_type": "code",
   "execution_count": 92,
   "metadata": {},
   "outputs": [],
   "source": [
    "df_lemma = pd.DataFrame({'lemmatized':data_lemmatized})"
   ]
  },
  {
   "cell_type": "code",
   "execution_count": 93,
   "metadata": {},
   "outputs": [],
   "source": [
    "documents_copy_df_lemma= pd.concat([documents_copy,df_lemma],axis=1)"
   ]
  },
  {
   "cell_type": "code",
   "execution_count": 94,
   "metadata": {},
   "outputs": [
    {
     "data": {
      "text/html": [
       "<div>\n",
       "<style scoped>\n",
       "    .dataframe tbody tr th:only-of-type {\n",
       "        vertical-align: middle;\n",
       "    }\n",
       "\n",
       "    .dataframe tbody tr th {\n",
       "        vertical-align: top;\n",
       "    }\n",
       "\n",
       "    .dataframe thead th {\n",
       "        text-align: right;\n",
       "    }\n",
       "</style>\n",
       "<table border=\"1\" class=\"dataframe\">\n",
       "  <thead>\n",
       "    <tr style=\"text-align: right;\">\n",
       "      <th></th>\n",
       "      <th>Full.story</th>\n",
       "      <th>full_story</th>\n",
       "      <th>lemmatized</th>\n",
       "    </tr>\n",
       "  </thead>\n",
       "  <tbody>\n",
       "    <tr>\n",
       "      <th>0</th>\n",
       "      <td>sumitomo rubber industries has established a n...</td>\n",
       "      <td>sumitomo rubber industries has established a n...</td>\n",
       "      <td>[industry, establish, natural, rubber, subsidi...</td>\n",
       "    </tr>\n",
       "    <tr>\n",
       "      <th>1</th>\n",
       "      <td>spot rubber closed unchanged on thursday. rss ...</td>\n",
       "      <td>spot rubber closed unchanged on thursday rss  ...</td>\n",
       "      <td>[spot, rubber, close, unchanged, rss, quote, s...</td>\n",
       "    </tr>\n",
       "    <tr>\n",
       "      <th>2</th>\n",
       "      <td>delegate registration for india rubber meet 20...</td>\n",
       "      <td>delegate registration for india rubber meet  i...</td>\n",
       "      <td>[meet, hold]</td>\n",
       "    </tr>\n",
       "    <tr>\n",
       "      <th>3</th>\n",
       "      <td>mumbai – futures contracts of rubber on the in...</td>\n",
       "      <td>mumbai  futures contracts of rubber on the ind...</td>\n",
       "      <td>[rise, ongoing, supply, crunch, market, trader...</td>\n",
       "    </tr>\n",
       "    <tr>\n",
       "      <th>4</th>\n",
       "      <td>tapping has been delayed despite the fact that...</td>\n",
       "      <td>tapping has been delayed despite the fact that...</td>\n",
       "      <td>[tap, delay, fact, peak_season, decline, impor...</td>\n",
       "    </tr>\n",
       "    <tr>\n",
       "      <th>...</th>\n",
       "      <td>...</td>\n",
       "      <td>...</td>\n",
       "      <td>...</td>\n",
       "    </tr>\n",
       "    <tr>\n",
       "      <th>5270</th>\n",
       "      <td>cogencis, wednesday, apr 11 new delhi – india’...</td>\n",
       "      <td>cogencis wednesday apr  new delhi  india s nat...</td>\n",
       "      <td>[rubber, production, fall, year, accord, relea...</td>\n",
       "    </tr>\n",
       "    <tr>\n",
       "      <th>5271</th>\n",
       "      <td>cogencis, tuesday, apr 10 by prabhnoor nanda n...</td>\n",
       "      <td>cogencis tuesday apr  by prabhnoor nanda new d...</td>\n",
       "      <td>[contract, rubber, exchange, likely, fall, ses...</td>\n",
       "    </tr>\n",
       "    <tr>\n",
       "      <th>5272</th>\n",
       "      <td>outlook futures contracts of natural rubber ma...</td>\n",
       "      <td>outlook futures contracts of natural rubber ma...</td>\n",
       "      <td>[contract, natural, rubber, trade, low, sessio...</td>\n",
       "    </tr>\n",
       "    <tr>\n",
       "      <th>5273</th>\n",
       "      <td>cogencis, tuesday, apr 10 by shikha singh new ...</td>\n",
       "      <td>cogencis tuesday apr  by shikha singh new delh...</td>\n",
       "      <td>[price, natural, rubber, fall, spot, market, p...</td>\n",
       "    </tr>\n",
       "    <tr>\n",
       "      <th>5274</th>\n",
       "      <td>cogencis, monday, apr 9 by prabhnoor nanda new...</td>\n",
       "      <td>cogencis monday apr  by prabhnoor nanda new de...</td>\n",
       "      <td>[contract, rubber, exchange, settle, marginall...</td>\n",
       "    </tr>\n",
       "  </tbody>\n",
       "</table>\n",
       "<p>5275 rows × 3 columns</p>\n",
       "</div>"
      ],
      "text/plain": [
       "                                             Full.story  \\\n",
       "0     sumitomo rubber industries has established a n...   \n",
       "1     spot rubber closed unchanged on thursday. rss ...   \n",
       "2     delegate registration for india rubber meet 20...   \n",
       "3     mumbai – futures contracts of rubber on the in...   \n",
       "4     tapping has been delayed despite the fact that...   \n",
       "...                                                 ...   \n",
       "5270  cogencis, wednesday, apr 11 new delhi – india’...   \n",
       "5271  cogencis, tuesday, apr 10 by prabhnoor nanda n...   \n",
       "5272  outlook futures contracts of natural rubber ma...   \n",
       "5273  cogencis, tuesday, apr 10 by shikha singh new ...   \n",
       "5274  cogencis, monday, apr 9 by prabhnoor nanda new...   \n",
       "\n",
       "                                             full_story  \\\n",
       "0     sumitomo rubber industries has established a n...   \n",
       "1     spot rubber closed unchanged on thursday rss  ...   \n",
       "2     delegate registration for india rubber meet  i...   \n",
       "3     mumbai  futures contracts of rubber on the ind...   \n",
       "4     tapping has been delayed despite the fact that...   \n",
       "...                                                 ...   \n",
       "5270  cogencis wednesday apr  new delhi  india s nat...   \n",
       "5271  cogencis tuesday apr  by prabhnoor nanda new d...   \n",
       "5272  outlook futures contracts of natural rubber ma...   \n",
       "5273  cogencis tuesday apr  by shikha singh new delh...   \n",
       "5274  cogencis monday apr  by prabhnoor nanda new de...   \n",
       "\n",
       "                                             lemmatized  \n",
       "0     [industry, establish, natural, rubber, subsidi...  \n",
       "1     [spot, rubber, close, unchanged, rss, quote, s...  \n",
       "2                                          [meet, hold]  \n",
       "3     [rise, ongoing, supply, crunch, market, trader...  \n",
       "4     [tap, delay, fact, peak_season, decline, impor...  \n",
       "...                                                 ...  \n",
       "5270  [rubber, production, fall, year, accord, relea...  \n",
       "5271  [contract, rubber, exchange, likely, fall, ses...  \n",
       "5272  [contract, natural, rubber, trade, low, sessio...  \n",
       "5273  [price, natural, rubber, fall, spot, market, p...  \n",
       "5274  [contract, rubber, exchange, settle, marginall...  \n",
       "\n",
       "[5275 rows x 3 columns]"
      ]
     },
     "execution_count": 94,
     "metadata": {},
     "output_type": "execute_result"
    }
   ],
   "source": [
    "documents_copy_df_lemma"
   ]
  },
  {
   "cell_type": "code",
   "execution_count": 95,
   "metadata": {},
   "outputs": [],
   "source": [
    "def identify_topic_sentence_120(row):\n",
    "    bow_vector = id2word.doc2bow(row['lemmatized'])\n",
    "    row2= sorted(bow_vector, key=lambda x: (x[1]), reverse=True)\n",
    "    main_keywords = \",\".join([id2word[wor[0]] for index, wor in enumerate(row2)])\n",
    "    row['Main_keywords']= main_keywords\n",
    "                                                                                                           \n",
    "    row1= lda_model_best_3[bow_vector]\n",
    "    row1 = sorted(row1, key=lambda x: (x[1]), reverse=True)\n",
    "\n",
    "    if len(row1)== 1:\n",
    "        first_topic_num= int(row1[0][0])\n",
    "        first_topic_num+= 1\n",
    "        first_prop_topic= row1[0][1]\n",
    "        second_topic_num= 0\n",
    "        second_prop_topic= 0\n",
    "    else:\n",
    "        first_topic_num= int(row1[0][0])\n",
    "        first_topic_num+= 1\n",
    "        first_prop_topic= row1[0][1]\n",
    "        second_topic_num= int(row1[1][0])\n",
    "        second_topic_num+= 1\n",
    "        second_prop_topic= row1[1][1]\n",
    "\n",
    "    row['First_topic_number']= int(first_topic_num) \n",
    "    if int(first_topic_num)== 1:\n",
    "        row['First_topic_name']= 'Global economy'\n",
    "    elif int(first_topic_num)== 2:\n",
    "        row['First_topic_name']= 'Rate change'\n",
    "    else:\n",
    "        row['First_topic_name']= 'Rubber trade' \n",
    "    row['First_topic_propability']= round(first_prop_topic,3)\n",
    "\n",
    "\n",
    "    row['Second_topic_number']= int(second_topic_num)\n",
    "    if int(second_topic_num)== 1:\n",
    "        row['Second_topic_name']= 'Global economy'\n",
    "    elif int(second_topic_num)== 2:\n",
    "        row['Second_topic_name']= 'Rate change'\n",
    "    elif int(second_topic_num)== 3:\n",
    "        row['Second_topic_name']= 'Rubber trade' \n",
    "    else:\n",
    "        row['Second_topic_name']= 'Unidentified'\n",
    "    row['Second_topic_propability']= round(second_prop_topic,3)\n",
    "    \n",
    "    \n",
    "    return row    "
   ]
  },
  {
   "cell_type": "code",
   "execution_count": 96,
   "metadata": {},
   "outputs": [],
   "source": [
    "doc120= documents_copy_df_lemma.apply(identify_topic_sentence_120,axis=1)"
   ]
  },
  {
   "cell_type": "code",
   "execution_count": 97,
   "metadata": {},
   "outputs": [
    {
     "data": {
      "text/html": [
       "<div>\n",
       "<style scoped>\n",
       "    .dataframe tbody tr th:only-of-type {\n",
       "        vertical-align: middle;\n",
       "    }\n",
       "\n",
       "    .dataframe tbody tr th {\n",
       "        vertical-align: top;\n",
       "    }\n",
       "\n",
       "    .dataframe thead th {\n",
       "        text-align: right;\n",
       "    }\n",
       "</style>\n",
       "<table border=\"1\" class=\"dataframe\">\n",
       "  <thead>\n",
       "    <tr style=\"text-align: right;\">\n",
       "      <th></th>\n",
       "      <th>Full.story</th>\n",
       "      <th>full_story</th>\n",
       "      <th>lemmatized</th>\n",
       "      <th>Main_keywords</th>\n",
       "      <th>First_topic_number</th>\n",
       "      <th>First_topic_name</th>\n",
       "      <th>First_topic_propability</th>\n",
       "      <th>Second_topic_number</th>\n",
       "      <th>Second_topic_name</th>\n",
       "      <th>Second_topic_propability</th>\n",
       "    </tr>\n",
       "  </thead>\n",
       "  <tbody>\n",
       "    <tr>\n",
       "      <th>0</th>\n",
       "      <td>sumitomo rubber industries has established a n...</td>\n",
       "      <td>sumitomo rubber industries has established a n...</td>\n",
       "      <td>[industry, establish, natural, rubber, subsidi...</td>\n",
       "      <td>natural,rubber,establish,hub,industry,large,su...</td>\n",
       "      <td>2</td>\n",
       "      <td>Rate change</td>\n",
       "      <td>0.521</td>\n",
       "      <td>1</td>\n",
       "      <td>Global economy</td>\n",
       "      <td>0.466</td>\n",
       "    </tr>\n",
       "    <tr>\n",
       "      <th>1</th>\n",
       "      <td>spot rubber closed unchanged on thursday. rss ...</td>\n",
       "      <td>spot rubber closed unchanged on thursday rss  ...</td>\n",
       "      <td>[spot, rubber, close, unchanged, rss, quote, s...</td>\n",
       "      <td>rubber,accord,close,dealer,finish,flat,quote,r...</td>\n",
       "      <td>3</td>\n",
       "      <td>Rubber trade</td>\n",
       "      <td>0.978</td>\n",
       "      <td>2</td>\n",
       "      <td>Rate change</td>\n",
       "      <td>0.016</td>\n",
       "    </tr>\n",
       "    <tr>\n",
       "      <th>2</th>\n",
       "      <td>delegate registration for india rubber meet 20...</td>\n",
       "      <td>delegate registration for india rubber meet  i...</td>\n",
       "      <td>[meet, hold]</td>\n",
       "      <td>hold,meet</td>\n",
       "      <td>1</td>\n",
       "      <td>Global economy</td>\n",
       "      <td>0.857</td>\n",
       "      <td>2</td>\n",
       "      <td>Rate change</td>\n",
       "      <td>0.085</td>\n",
       "    </tr>\n",
       "    <tr>\n",
       "      <th>3</th>\n",
       "      <td>mumbai – futures contracts of rubber on the in...</td>\n",
       "      <td>mumbai  futures contracts of rubber on the ind...</td>\n",
       "      <td>[rise, ongoing, supply, crunch, market, trader...</td>\n",
       "      <td>close,trader,active,contract,crunch,end,market...</td>\n",
       "      <td>3</td>\n",
       "      <td>Rubber trade</td>\n",
       "      <td>0.529</td>\n",
       "      <td>2</td>\n",
       "      <td>Rate change</td>\n",
       "      <td>0.464</td>\n",
       "    </tr>\n",
       "    <tr>\n",
       "      <th>4</th>\n",
       "      <td>tapping has been delayed despite the fact that...</td>\n",
       "      <td>tapping has been delayed despite the fact that...</td>\n",
       "      <td>[tap, delay, fact, peak_season, decline, impor...</td>\n",
       "      <td>rubber,trader,supply,base,decline,deepen,delay...</td>\n",
       "      <td>2</td>\n",
       "      <td>Rate change</td>\n",
       "      <td>0.834</td>\n",
       "      <td>1</td>\n",
       "      <td>Global economy</td>\n",
       "      <td>0.155</td>\n",
       "    </tr>\n",
       "    <tr>\n",
       "      <th>...</th>\n",
       "      <td>...</td>\n",
       "      <td>...</td>\n",
       "      <td>...</td>\n",
       "      <td>...</td>\n",
       "      <td>...</td>\n",
       "      <td>...</td>\n",
       "      <td>...</td>\n",
       "      <td>...</td>\n",
       "      <td>...</td>\n",
       "      <td>...</td>\n",
       "    </tr>\n",
       "    <tr>\n",
       "      <th>5270</th>\n",
       "      <td>cogencis, wednesday, apr 11 new delhi – india’...</td>\n",
       "      <td>cogencis wednesday apr  new delhi  india s nat...</td>\n",
       "      <td>[rubber, production, fall, year, accord, relea...</td>\n",
       "      <td>year,rubber,end,rise,natural,month,consumption...</td>\n",
       "      <td>2</td>\n",
       "      <td>Rate change</td>\n",
       "      <td>0.666</td>\n",
       "      <td>1</td>\n",
       "      <td>Global economy</td>\n",
       "      <td>0.330</td>\n",
       "    </tr>\n",
       "    <tr>\n",
       "      <th>5271</th>\n",
       "      <td>cogencis, tuesday, apr 10 by prabhnoor nanda n...</td>\n",
       "      <td>cogencis tuesday apr  by prabhnoor nanda new d...</td>\n",
       "      <td>[contract, rubber, exchange, likely, fall, ses...</td>\n",
       "      <td>rubber,price,fall,natural,demand,likely,week,c...</td>\n",
       "      <td>2</td>\n",
       "      <td>Rate change</td>\n",
       "      <td>0.703</td>\n",
       "      <td>3</td>\n",
       "      <td>Rubber trade</td>\n",
       "      <td>0.168</td>\n",
       "    </tr>\n",
       "    <tr>\n",
       "      <th>5272</th>\n",
       "      <td>outlook futures contracts of natural rubber ma...</td>\n",
       "      <td>outlook futures contracts of natural rubber ma...</td>\n",
       "      <td>[contract, natural, rubber, trade, low, sessio...</td>\n",
       "      <td>rubber,price,natural,crude,oil,track,contract,...</td>\n",
       "      <td>2</td>\n",
       "      <td>Rate change</td>\n",
       "      <td>0.794</td>\n",
       "      <td>3</td>\n",
       "      <td>Rubber trade</td>\n",
       "      <td>0.204</td>\n",
       "    </tr>\n",
       "    <tr>\n",
       "      <th>5273</th>\n",
       "      <td>cogencis, tuesday, apr 10 by shikha singh new ...</td>\n",
       "      <td>cogencis tuesday apr  by shikha singh new delh...</td>\n",
       "      <td>[price, natural, rubber, fall, spot, market, p...</td>\n",
       "      <td>rubber,close,price,natural,market,previous,rup...</td>\n",
       "      <td>2</td>\n",
       "      <td>Rate change</td>\n",
       "      <td>0.485</td>\n",
       "      <td>3</td>\n",
       "      <td>Rubber trade</td>\n",
       "      <td>0.447</td>\n",
       "    </tr>\n",
       "    <tr>\n",
       "      <th>5274</th>\n",
       "      <td>cogencis, monday, apr 9 by prabhnoor nanda new...</td>\n",
       "      <td>cogencis monday apr  by prabhnoor nanda new de...</td>\n",
       "      <td>[contract, rubber, exchange, settle, marginall...</td>\n",
       "      <td>rubber,price,close,contract,exchange,market,ri...</td>\n",
       "      <td>3</td>\n",
       "      <td>Rubber trade</td>\n",
       "      <td>0.531</td>\n",
       "      <td>2</td>\n",
       "      <td>Rate change</td>\n",
       "      <td>0.469</td>\n",
       "    </tr>\n",
       "  </tbody>\n",
       "</table>\n",
       "<p>5275 rows × 10 columns</p>\n",
       "</div>"
      ],
      "text/plain": [
       "                                             Full.story  \\\n",
       "0     sumitomo rubber industries has established a n...   \n",
       "1     spot rubber closed unchanged on thursday. rss ...   \n",
       "2     delegate registration for india rubber meet 20...   \n",
       "3     mumbai – futures contracts of rubber on the in...   \n",
       "4     tapping has been delayed despite the fact that...   \n",
       "...                                                 ...   \n",
       "5270  cogencis, wednesday, apr 11 new delhi – india’...   \n",
       "5271  cogencis, tuesday, apr 10 by prabhnoor nanda n...   \n",
       "5272  outlook futures contracts of natural rubber ma...   \n",
       "5273  cogencis, tuesday, apr 10 by shikha singh new ...   \n",
       "5274  cogencis, monday, apr 9 by prabhnoor nanda new...   \n",
       "\n",
       "                                             full_story  \\\n",
       "0     sumitomo rubber industries has established a n...   \n",
       "1     spot rubber closed unchanged on thursday rss  ...   \n",
       "2     delegate registration for india rubber meet  i...   \n",
       "3     mumbai  futures contracts of rubber on the ind...   \n",
       "4     tapping has been delayed despite the fact that...   \n",
       "...                                                 ...   \n",
       "5270  cogencis wednesday apr  new delhi  india s nat...   \n",
       "5271  cogencis tuesday apr  by prabhnoor nanda new d...   \n",
       "5272  outlook futures contracts of natural rubber ma...   \n",
       "5273  cogencis tuesday apr  by shikha singh new delh...   \n",
       "5274  cogencis monday apr  by prabhnoor nanda new de...   \n",
       "\n",
       "                                             lemmatized  \\\n",
       "0     [industry, establish, natural, rubber, subsidi...   \n",
       "1     [spot, rubber, close, unchanged, rss, quote, s...   \n",
       "2                                          [meet, hold]   \n",
       "3     [rise, ongoing, supply, crunch, market, trader...   \n",
       "4     [tap, delay, fact, peak_season, decline, impor...   \n",
       "...                                                 ...   \n",
       "5270  [rubber, production, fall, year, accord, relea...   \n",
       "5271  [contract, rubber, exchange, likely, fall, ses...   \n",
       "5272  [contract, natural, rubber, trade, low, sessio...   \n",
       "5273  [price, natural, rubber, fall, spot, market, p...   \n",
       "5274  [contract, rubber, exchange, settle, marginall...   \n",
       "\n",
       "                                          Main_keywords  First_topic_number  \\\n",
       "0     natural,rubber,establish,hub,industry,large,su...                   2   \n",
       "1     rubber,accord,close,dealer,finish,flat,quote,r...                   3   \n",
       "2                                             hold,meet                   1   \n",
       "3     close,trader,active,contract,crunch,end,market...                   3   \n",
       "4     rubber,trader,supply,base,decline,deepen,delay...                   2   \n",
       "...                                                 ...                 ...   \n",
       "5270  year,rubber,end,rise,natural,month,consumption...                   2   \n",
       "5271  rubber,price,fall,natural,demand,likely,week,c...                   2   \n",
       "5272  rubber,price,natural,crude,oil,track,contract,...                   2   \n",
       "5273  rubber,close,price,natural,market,previous,rup...                   2   \n",
       "5274  rubber,price,close,contract,exchange,market,ri...                   3   \n",
       "\n",
       "     First_topic_name  First_topic_propability  Second_topic_number  \\\n",
       "0         Rate change                    0.521                    1   \n",
       "1        Rubber trade                    0.978                    2   \n",
       "2      Global economy                    0.857                    2   \n",
       "3        Rubber trade                    0.529                    2   \n",
       "4         Rate change                    0.834                    1   \n",
       "...               ...                      ...                  ...   \n",
       "5270      Rate change                    0.666                    1   \n",
       "5271      Rate change                    0.703                    3   \n",
       "5272      Rate change                    0.794                    3   \n",
       "5273      Rate change                    0.485                    3   \n",
       "5274     Rubber trade                    0.531                    2   \n",
       "\n",
       "     Second_topic_name  Second_topic_propability  \n",
       "0       Global economy                     0.466  \n",
       "1          Rate change                     0.016  \n",
       "2          Rate change                     0.085  \n",
       "3          Rate change                     0.464  \n",
       "4       Global economy                     0.155  \n",
       "...                ...                       ...  \n",
       "5270    Global economy                     0.330  \n",
       "5271      Rubber trade                     0.168  \n",
       "5272      Rubber trade                     0.204  \n",
       "5273      Rubber trade                     0.447  \n",
       "5274       Rate change                     0.469  \n",
       "\n",
       "[5275 rows x 10 columns]"
      ]
     },
     "execution_count": 97,
     "metadata": {},
     "output_type": "execute_result"
    }
   ],
   "source": [
    "doc120"
   ]
  },
  {
   "cell_type": "code",
   "execution_count": 98,
   "metadata": {},
   "outputs": [],
   "source": [
    "doc120.drop(['lemmatized', 'full_story'],axis=1, inplace=True)"
   ]
  },
  {
   "cell_type": "code",
   "execution_count": 99,
   "metadata": {},
   "outputs": [],
   "source": [
    "doc120= doc120[['First_topic_number', 'First_topic_propability', 'First_topic_name',\n",
    "                'Second_topic_number','Second_topic_propability','Second_topic_name',\n",
    "                'Main_keywords','Full.story']]"
   ]
  },
  {
   "cell_type": "code",
   "execution_count": 100,
   "metadata": {},
   "outputs": [],
   "source": [
    "doc120.to_excel('Topic_modelling_3.xlsx', float_format= \"%.2f\", index= False)"
   ]
  },
  {
   "cell_type": "code",
   "execution_count": null,
   "metadata": {},
   "outputs": [],
   "source": []
  },
  {
   "cell_type": "code",
   "execution_count": null,
   "metadata": {},
   "outputs": [],
   "source": []
  },
  {
   "cell_type": "code",
   "execution_count": null,
   "metadata": {},
   "outputs": [],
   "source": []
  },
  {
   "cell_type": "code",
   "execution_count": null,
   "metadata": {},
   "outputs": [],
   "source": []
  },
  {
   "cell_type": "markdown",
   "metadata": {},
   "source": [
    "## Tuning Hyperparameters of LDA"
   ]
  },
  {
   "cell_type": "code",
   "execution_count": 81,
   "metadata": {},
   "outputs": [],
   "source": [
    "def compute_coherence_values(corpus, dictionary, k, a, b):\n",
    "    \n",
    "    lda_model_hyper = gensim.models.LdaMulticore(corpus=corpus,\n",
    "                                           id2word=dictionary,\n",
    "                                           num_topics=k, \n",
    "                                           random_state=100,\n",
    "                                           chunksize=100,\n",
    "                                           passes=10,\n",
    "                                           alpha=a,\n",
    "                                           eta=b)\n",
    "    \n",
    "    coherence_model_lda = CoherenceModel(model=lda_model_hyper, texts=data_lemmatized, dictionary=id2word, coherence='c_v')\n",
    "    \n",
    "    return coherence_model_lda.get_coherence()"
   ]
  },
  {
   "cell_type": "code",
   "execution_count": 83,
   "metadata": {},
   "outputs": [
    {
     "name": "stderr",
     "output_type": "stream",
     "text": [
      "100%|██████████████████████████████████████████████████████████████████████████████| 270/270 [1:38:06<00:00, 21.80s/it]\n"
     ]
    }
   ],
   "source": [
    "grid = {}\n",
    "grid['Validation_Set'] = {}\n",
    "\n",
    "min_topics = 2\n",
    "max_topics = 11\n",
    "step_size = 1\n",
    "topics_range = range(min_topics, max_topics, step_size)\n",
    "\n",
    "alpha = list(np.arange(0.01, 1, 0.3))\n",
    "alpha.append('symmetric')\n",
    "alpha.append('asymmetric')\n",
    "\n",
    "beta = list(np.arange(0.01, 1, 0.3))\n",
    "beta.append('symmetric')\n",
    "\n",
    "# Validation sets\n",
    "num_of_docs = len(corpus)\n",
    "corpus_sets = [corpus]\n",
    "\n",
    "corpus_title = ['100% Corpus']\n",
    "\n",
    "model_results = {'Validation_Set': [],\n",
    "                 'Topics': [],\n",
    "                 'Alpha': [],\n",
    "                 'Beta': [],\n",
    "                 'Coherence': []\n",
    "                }\n",
    "\n",
    "if 1 == 1:\n",
    "    pbar = tqdm.tqdm(total=(len(beta)*len(alpha)*len(topics_range)*len(corpus_title)))\n",
    "    \n",
    "    for i in range(len(corpus_sets)):\n",
    "        for k in topics_range:       #topic iterate\n",
    "            for a in alpha:         # alpha iterate\n",
    "                for b in beta:      #beta iterate\n",
    "                    cv = compute_coherence_values(corpus=corpus_sets[i], dictionary=id2word, k=k, a=a, b=b)\n",
    "                    # Save the model results\n",
    "                    model_results['Validation_Set'].append(corpus_title[i])\n",
    "                    model_results['Topics'].append(k)\n",
    "                    model_results['Alpha'].append(a)\n",
    "                    model_results['Beta'].append(b)\n",
    "                    model_results['Coherence'].append(cv)\n",
    "                    \n",
    "                    pbar.update(1)\n",
    "    pd.DataFrame(model_results).to_csv('lda_bow_ngram_tuning_results.csv', index=False)\n",
    "    pbar.close()"
   ]
  }
 ],
 "metadata": {
  "kernelspec": {
   "display_name": "Python 3",
   "language": "python",
   "name": "python3"
  },
  "language_info": {
   "codemirror_mode": {
    "name": "ipython",
    "version": 3
   },
   "file_extension": ".py",
   "mimetype": "text/x-python",
   "name": "python",
   "nbconvert_exporter": "python",
   "pygments_lexer": "ipython3",
   "version": "3.7.5"
  }
 },
 "nbformat": 4,
 "nbformat_minor": 2
}
