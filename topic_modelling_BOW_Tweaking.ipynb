{
 "cells": [
  {
   "cell_type": "code",
   "execution_count": 1,
   "metadata": {},
   "outputs": [],
   "source": [
    "import numpy as np\n",
    "import pandas as pd"
   ]
  },
  {
   "cell_type": "code",
   "execution_count": 2,
   "metadata": {},
   "outputs": [],
   "source": [
    "import nltk\n",
    "from nltk.stem import WordNetLemmatizer, SnowballStemmer\n",
    "from nltk.stem.porter import *\n",
    "from nltk.corpus import wordnet\n",
    "from nltk import FreqDist\n",
    "\n",
    "import gensim\n",
    "from gensim.utils import simple_preprocess\n",
    "from gensim.parsing.preprocessing import STOPWORDS\n",
    "from gensim.models.ldamodel import LdaModel\n",
    "np.random.seed(2018)"
   ]
  },
  {
   "cell_type": "code",
   "execution_count": 3,
   "metadata": {},
   "outputs": [],
   "source": [
    "import matplotlib.pyplot as plt\n",
    "import seaborn as sns\n",
    "%matplotlib inline"
   ]
  },
  {
   "cell_type": "code",
   "execution_count": 4,
   "metadata": {
    "scrolled": true
   },
   "outputs": [],
   "source": [
    "data = pd.read_excel('Rubber News(Client Shared File).xlsx', error_bad_lines=False);"
   ]
  },
  {
   "cell_type": "code",
   "execution_count": 5,
   "metadata": {
    "scrolled": true
   },
   "outputs": [
    {
     "data": {
      "text/plain": [
       "(5275, 6)"
      ]
     },
     "execution_count": 5,
     "metadata": {},
     "output_type": "execute_result"
    }
   ],
   "source": [
    "data.shape"
   ]
  },
  {
   "cell_type": "code",
   "execution_count": 6,
   "metadata": {},
   "outputs": [],
   "source": [
    "data = data[[\"Full.story\"]]"
   ]
  },
  {
   "cell_type": "code",
   "execution_count": 7,
   "metadata": {},
   "outputs": [
    {
     "data": {
      "text/plain": [
       "(5275, 1)"
      ]
     },
     "execution_count": 7,
     "metadata": {},
     "output_type": "execute_result"
    }
   ],
   "source": [
    "data.shape"
   ]
  },
  {
   "cell_type": "code",
   "execution_count": 8,
   "metadata": {},
   "outputs": [
    {
     "data": {
      "text/html": [
       "<div>\n",
       "<style scoped>\n",
       "    .dataframe tbody tr th:only-of-type {\n",
       "        vertical-align: middle;\n",
       "    }\n",
       "\n",
       "    .dataframe tbody tr th {\n",
       "        vertical-align: top;\n",
       "    }\n",
       "\n",
       "    .dataframe thead th {\n",
       "        text-align: right;\n",
       "    }\n",
       "</style>\n",
       "<table border=\"1\" class=\"dataframe\">\n",
       "  <thead>\n",
       "    <tr style=\"text-align: right;\">\n",
       "      <th></th>\n",
       "      <th>Full.story</th>\n",
       "    </tr>\n",
       "  </thead>\n",
       "  <tbody>\n",
       "    <tr>\n",
       "      <td>0</td>\n",
       "      <td>Sumitomo Rubber Industries has established a n...</td>\n",
       "    </tr>\n",
       "    <tr>\n",
       "      <td>1</td>\n",
       "      <td>Spot rubber closed unchanged on Thursday. RSS ...</td>\n",
       "    </tr>\n",
       "    <tr>\n",
       "      <td>2</td>\n",
       "      <td>Delegate registration for India Rubber Meet 20...</td>\n",
       "    </tr>\n",
       "    <tr>\n",
       "      <td>3</td>\n",
       "      <td>MUMBAI – Futures contracts of rubber on the In...</td>\n",
       "    </tr>\n",
       "    <tr>\n",
       "      <td>4</td>\n",
       "      <td>Tapping has been delayed despite the fact that...</td>\n",
       "    </tr>\n",
       "    <tr>\n",
       "      <td>...</td>\n",
       "      <td>...</td>\n",
       "    </tr>\n",
       "    <tr>\n",
       "      <td>5270</td>\n",
       "      <td>Cogencis, Wednesday, Apr 11 NEW DELHI – India’...</td>\n",
       "    </tr>\n",
       "    <tr>\n",
       "      <td>5271</td>\n",
       "      <td>Cogencis, Tuesday, Apr 10 By Prabhnoor Nanda N...</td>\n",
       "    </tr>\n",
       "    <tr>\n",
       "      <td>5272</td>\n",
       "      <td>OUTLOOK Futures contracts of natural rubber ma...</td>\n",
       "    </tr>\n",
       "    <tr>\n",
       "      <td>5273</td>\n",
       "      <td>Cogencis, Tuesday, Apr 10 By Shikha Singh NEW ...</td>\n",
       "    </tr>\n",
       "    <tr>\n",
       "      <td>5274</td>\n",
       "      <td>Cogencis, Monday, Apr 9 By Prabhnoor Nanda NEW...</td>\n",
       "    </tr>\n",
       "  </tbody>\n",
       "</table>\n",
       "<p>5275 rows × 1 columns</p>\n",
       "</div>"
      ],
      "text/plain": [
       "                                             Full.story\n",
       "0     Sumitomo Rubber Industries has established a n...\n",
       "1     Spot rubber closed unchanged on Thursday. RSS ...\n",
       "2     Delegate registration for India Rubber Meet 20...\n",
       "3     MUMBAI – Futures contracts of rubber on the In...\n",
       "4     Tapping has been delayed despite the fact that...\n",
       "...                                                 ...\n",
       "5270  Cogencis, Wednesday, Apr 11 NEW DELHI – India’...\n",
       "5271  Cogencis, Tuesday, Apr 10 By Prabhnoor Nanda N...\n",
       "5272  OUTLOOK Futures contracts of natural rubber ma...\n",
       "5273  Cogencis, Tuesday, Apr 10 By Shikha Singh NEW ...\n",
       "5274  Cogencis, Monday, Apr 9 By Prabhnoor Nanda NEW...\n",
       "\n",
       "[5275 rows x 1 columns]"
      ]
     },
     "execution_count": 8,
     "metadata": {},
     "output_type": "execute_result"
    }
   ],
   "source": [
    "data"
   ]
  },
  {
   "cell_type": "code",
   "execution_count": 9,
   "metadata": {
    "scrolled": true
   },
   "outputs": [],
   "source": [
    "data.rename(columns = {'Full.story':'full_story'}, inplace = True)"
   ]
  },
  {
   "cell_type": "code",
   "execution_count": 10,
   "metadata": {},
   "outputs": [
    {
     "data": {
      "text/html": [
       "<div>\n",
       "<style scoped>\n",
       "    .dataframe tbody tr th:only-of-type {\n",
       "        vertical-align: middle;\n",
       "    }\n",
       "\n",
       "    .dataframe tbody tr th {\n",
       "        vertical-align: top;\n",
       "    }\n",
       "\n",
       "    .dataframe thead th {\n",
       "        text-align: right;\n",
       "    }\n",
       "</style>\n",
       "<table border=\"1\" class=\"dataframe\">\n",
       "  <thead>\n",
       "    <tr style=\"text-align: right;\">\n",
       "      <th></th>\n",
       "      <th>full_story</th>\n",
       "    </tr>\n",
       "  </thead>\n",
       "  <tbody>\n",
       "    <tr>\n",
       "      <td>0</td>\n",
       "      <td>Sumitomo Rubber Industries has established a n...</td>\n",
       "    </tr>\n",
       "    <tr>\n",
       "      <td>1</td>\n",
       "      <td>Spot rubber closed unchanged on Thursday. RSS ...</td>\n",
       "    </tr>\n",
       "    <tr>\n",
       "      <td>2</td>\n",
       "      <td>Delegate registration for India Rubber Meet 20...</td>\n",
       "    </tr>\n",
       "    <tr>\n",
       "      <td>3</td>\n",
       "      <td>MUMBAI – Futures contracts of rubber on the In...</td>\n",
       "    </tr>\n",
       "    <tr>\n",
       "      <td>4</td>\n",
       "      <td>Tapping has been delayed despite the fact that...</td>\n",
       "    </tr>\n",
       "    <tr>\n",
       "      <td>...</td>\n",
       "      <td>...</td>\n",
       "    </tr>\n",
       "    <tr>\n",
       "      <td>5270</td>\n",
       "      <td>Cogencis, Wednesday, Apr 11 NEW DELHI – India’...</td>\n",
       "    </tr>\n",
       "    <tr>\n",
       "      <td>5271</td>\n",
       "      <td>Cogencis, Tuesday, Apr 10 By Prabhnoor Nanda N...</td>\n",
       "    </tr>\n",
       "    <tr>\n",
       "      <td>5272</td>\n",
       "      <td>OUTLOOK Futures contracts of natural rubber ma...</td>\n",
       "    </tr>\n",
       "    <tr>\n",
       "      <td>5273</td>\n",
       "      <td>Cogencis, Tuesday, Apr 10 By Shikha Singh NEW ...</td>\n",
       "    </tr>\n",
       "    <tr>\n",
       "      <td>5274</td>\n",
       "      <td>Cogencis, Monday, Apr 9 By Prabhnoor Nanda NEW...</td>\n",
       "    </tr>\n",
       "  </tbody>\n",
       "</table>\n",
       "<p>5275 rows × 1 columns</p>\n",
       "</div>"
      ],
      "text/plain": [
       "                                             full_story\n",
       "0     Sumitomo Rubber Industries has established a n...\n",
       "1     Spot rubber closed unchanged on Thursday. RSS ...\n",
       "2     Delegate registration for India Rubber Meet 20...\n",
       "3     MUMBAI – Futures contracts of rubber on the In...\n",
       "4     Tapping has been delayed despite the fact that...\n",
       "...                                                 ...\n",
       "5270  Cogencis, Wednesday, Apr 11 NEW DELHI – India’...\n",
       "5271  Cogencis, Tuesday, Apr 10 By Prabhnoor Nanda N...\n",
       "5272  OUTLOOK Futures contracts of natural rubber ma...\n",
       "5273  Cogencis, Tuesday, Apr 10 By Shikha Singh NEW ...\n",
       "5274  Cogencis, Monday, Apr 9 By Prabhnoor Nanda NEW...\n",
       "\n",
       "[5275 rows x 1 columns]"
      ]
     },
     "execution_count": 10,
     "metadata": {},
     "output_type": "execute_result"
    }
   ],
   "source": [
    "data"
   ]
  },
  {
   "cell_type": "code",
   "execution_count": 11,
   "metadata": {},
   "outputs": [
    {
     "data": {
      "text/plain": [
       "(5275, 1)"
      ]
     },
     "execution_count": 11,
     "metadata": {},
     "output_type": "execute_result"
    }
   ],
   "source": [
    "documents = data[['full_story']]\n",
    "documents.shape"
   ]
  },
  {
   "cell_type": "code",
   "execution_count": 12,
   "metadata": {},
   "outputs": [
    {
     "data": {
      "text/html": [
       "<div>\n",
       "<style scoped>\n",
       "    .dataframe tbody tr th:only-of-type {\n",
       "        vertical-align: middle;\n",
       "    }\n",
       "\n",
       "    .dataframe tbody tr th {\n",
       "        vertical-align: top;\n",
       "    }\n",
       "\n",
       "    .dataframe thead th {\n",
       "        text-align: right;\n",
       "    }\n",
       "</style>\n",
       "<table border=\"1\" class=\"dataframe\">\n",
       "  <thead>\n",
       "    <tr style=\"text-align: right;\">\n",
       "      <th></th>\n",
       "      <th>full_story</th>\n",
       "    </tr>\n",
       "  </thead>\n",
       "  <tbody>\n",
       "    <tr>\n",
       "      <td>0</td>\n",
       "      <td>Sumitomo Rubber Industries has established a n...</td>\n",
       "    </tr>\n",
       "    <tr>\n",
       "      <td>1</td>\n",
       "      <td>Spot rubber closed unchanged on Thursday. RSS ...</td>\n",
       "    </tr>\n",
       "    <tr>\n",
       "      <td>2</td>\n",
       "      <td>Delegate registration for India Rubber Meet 20...</td>\n",
       "    </tr>\n",
       "    <tr>\n",
       "      <td>3</td>\n",
       "      <td>MUMBAI – Futures contracts of rubber on the In...</td>\n",
       "    </tr>\n",
       "    <tr>\n",
       "      <td>4</td>\n",
       "      <td>Tapping has been delayed despite the fact that...</td>\n",
       "    </tr>\n",
       "    <tr>\n",
       "      <td>...</td>\n",
       "      <td>...</td>\n",
       "    </tr>\n",
       "    <tr>\n",
       "      <td>5270</td>\n",
       "      <td>Cogencis, Wednesday, Apr 11 NEW DELHI – India’...</td>\n",
       "    </tr>\n",
       "    <tr>\n",
       "      <td>5271</td>\n",
       "      <td>Cogencis, Tuesday, Apr 10 By Prabhnoor Nanda N...</td>\n",
       "    </tr>\n",
       "    <tr>\n",
       "      <td>5272</td>\n",
       "      <td>OUTLOOK Futures contracts of natural rubber ma...</td>\n",
       "    </tr>\n",
       "    <tr>\n",
       "      <td>5273</td>\n",
       "      <td>Cogencis, Tuesday, Apr 10 By Shikha Singh NEW ...</td>\n",
       "    </tr>\n",
       "    <tr>\n",
       "      <td>5274</td>\n",
       "      <td>Cogencis, Monday, Apr 9 By Prabhnoor Nanda NEW...</td>\n",
       "    </tr>\n",
       "  </tbody>\n",
       "</table>\n",
       "<p>5275 rows × 1 columns</p>\n",
       "</div>"
      ],
      "text/plain": [
       "                                             full_story\n",
       "0     Sumitomo Rubber Industries has established a n...\n",
       "1     Spot rubber closed unchanged on Thursday. RSS ...\n",
       "2     Delegate registration for India Rubber Meet 20...\n",
       "3     MUMBAI – Futures contracts of rubber on the In...\n",
       "4     Tapping has been delayed despite the fact that...\n",
       "...                                                 ...\n",
       "5270  Cogencis, Wednesday, Apr 11 NEW DELHI – India’...\n",
       "5271  Cogencis, Tuesday, Apr 10 By Prabhnoor Nanda N...\n",
       "5272  OUTLOOK Futures contracts of natural rubber ma...\n",
       "5273  Cogencis, Tuesday, Apr 10 By Shikha Singh NEW ...\n",
       "5274  Cogencis, Monday, Apr 9 By Prabhnoor Nanda NEW...\n",
       "\n",
       "[5275 rows x 1 columns]"
      ]
     },
     "execution_count": 12,
     "metadata": {},
     "output_type": "execute_result"
    }
   ],
   "source": [
    "documents"
   ]
  },
  {
   "cell_type": "code",
   "execution_count": 13,
   "metadata": {},
   "outputs": [
    {
     "data": {
      "text/html": [
       "<div>\n",
       "<style scoped>\n",
       "    .dataframe tbody tr th:only-of-type {\n",
       "        vertical-align: middle;\n",
       "    }\n",
       "\n",
       "    .dataframe tbody tr th {\n",
       "        vertical-align: top;\n",
       "    }\n",
       "\n",
       "    .dataframe thead th {\n",
       "        text-align: right;\n",
       "    }\n",
       "</style>\n",
       "<table border=\"1\" class=\"dataframe\">\n",
       "  <thead>\n",
       "    <tr style=\"text-align: right;\">\n",
       "      <th></th>\n",
       "      <th>full_story</th>\n",
       "    </tr>\n",
       "  </thead>\n",
       "  <tbody>\n",
       "    <tr>\n",
       "      <td>4310</td>\n",
       "      <td>Rubber futures on TOCOM were trading higher du...</td>\n",
       "    </tr>\n",
       "  </tbody>\n",
       "</table>\n",
       "</div>"
      ],
      "text/plain": [
       "                                             full_story\n",
       "4310  Rubber futures on TOCOM were trading higher du..."
      ]
     },
     "execution_count": 13,
     "metadata": {},
     "output_type": "execute_result"
    }
   ],
   "source": [
    "documents[documents.index == 4310]"
   ]
  },
  {
   "cell_type": "markdown",
   "metadata": {},
   "source": [
    "## EDA"
   ]
  },
  {
   "cell_type": "code",
   "execution_count": 14,
   "metadata": {},
   "outputs": [],
   "source": [
    "# !pip install wordcloud"
   ]
  },
  {
   "cell_type": "code",
   "execution_count": 15,
   "metadata": {},
   "outputs": [],
   "source": [
    "from wordcloud import WordCloud"
   ]
  },
  {
   "cell_type": "code",
   "execution_count": 16,
   "metadata": {},
   "outputs": [],
   "source": [
    "# Join the different processed titles together.\n",
    "long_string = ','.join(list(documents['full_story'].values))"
   ]
  },
  {
   "cell_type": "code",
   "execution_count": 17,
   "metadata": {},
   "outputs": [
    {
     "data": {
      "image/png": "[encoded data removed]",
      "text/plain": [
       "<PIL.Image.Image image mode=RGB size=400x200 at 0x228F3EB7588>"
      ]
     },
     "execution_count": 17,
     "metadata": {},
     "output_type": "execute_result"
    }
   ],
   "source": [
    "wordcloud = WordCloud(background_color=\"white\", max_words=5000, contour_width=8, contour_color='steelblue')\n",
    "wordcloud.generate(long_string)\n",
    "wordcloud.to_image()"
   ]
  },
  {
   "cell_type": "code",
   "execution_count": 18,
   "metadata": {},
   "outputs": [],
   "source": [
    "def freq_words(x, terms = 30):\n",
    "    all_words = ' '.join([text for text in x])\n",
    "    all_words = all_words.split()\n",
    "\n",
    "    fdist = FreqDist(all_words)\n",
    "    words_df = pd.DataFrame({'word':list(fdist.keys()), 'count':list(fdist.values())})\n",
    "\n",
    "    d = words_df.nlargest(columns=\"count\", n = terms) \n",
    "    plt.figure(figsize=(20,5))\n",
    "    ax = sns.barplot(data=d, x= \"word\", y = \"count\")\n",
    "    ax.set(ylabel = 'Count')\n",
    "    plt.show()"
   ]
  },
  {
   "cell_type": "code",
   "execution_count": 19,
   "metadata": {},
   "outputs": [
    {
     "data": {
      "image/png": "[encoded data removed]",
      "text/plain": [
       "<Figure size 1440x360 with 1 Axes>"
      ]
     },
     "metadata": {
      "needs_background": "light"
     },
     "output_type": "display_data"
    }
   ],
   "source": [
    "freq_words(documents['full_story'])"
   ]
  },
  {
   "cell_type": "code",
   "execution_count": 20,
   "metadata": {},
   "outputs": [],
   "source": [
    "documents['full_story'] = documents['full_story'].str.replace(\"[^a-zA-Z#@]\", \" \")"
   ]
  },
  {
   "cell_type": "markdown",
   "metadata": {},
   "source": [
    "## Data processing"
   ]
  },
  {
   "cell_type": "code",
   "execution_count": 21,
   "metadata": {},
   "outputs": [],
   "source": [
    "# import nltk\n",
    "# nltk.download('wordnet')"
   ]
  },
  {
   "cell_type": "code",
   "execution_count": 22,
   "metadata": {},
   "outputs": [],
   "source": [
    "# stop_words.extend(['from', 'subject', 're', 'edu', 'use'])"
   ]
  },
  {
   "cell_type": "code",
   "execution_count": 105,
   "metadata": {},
   "outputs": [],
   "source": [
    "my_stop_words = STOPWORDS.union(set(['send', 'comment', 'feedback', 'today', 'come', 'harsh', 'akshit', 'nishant', 'chakraborty', 'augustine',\n",
    "                                    'cogencis', 'com', 'rahul', 'dhuri', 'end-users','rupeesedited', 'mugunthan', 'kesavan', 'says', 'said', 'say'\n",
    "                                     'monday', 'tuesday', 'wednesday', 'thursday', 'friday', 'saturday', 'sunday', \n",
    "                                     'january', 'february', 'march', 'april', 'may', 'june', 'july', 'august', 'september', 'october', \n",
    "                                     'november', 'december','kerela','delhi','kottayam','india','china','japanese','thailand','malaysia','tokyo'\n",
    "                                    , \"come\",\"chinese\",\"prabhnoor\",\"shikha\",\"singh\",\"mumbai\",\"rubber\",\"kerala\",\"kochi\",\"make\",\"board\",\"data\",\"grade\"\n",
    "                                    ,\"cents\",\"show\",\"table\",\"detail\",\"change\",\"give\",\"nanda\",\"geojit\",\"iran\"])) "
   ]
  },
  {
   "cell_type": "code",
   "execution_count": 106,
   "metadata": {},
   "outputs": [],
   "source": [
    "def lemmatize_stemming(text):\n",
    "#     ps=SnowballStemmer(language='english')\n",
    "    return WordNetLemmatizer().lemmatize(text, pos='v')\n",
    "\n",
    "def preprocess(text):\n",
    "    result = []\n",
    "    for token in gensim.utils.simple_preprocess(text):\n",
    "        if token not in gensim.parsing.preprocessing.STOPWORDS and token not in my_stop_words and len(token) > 3:\n",
    "            result.append(lemmatize_stemming(token))\n",
    "    return result"
   ]
  },
  {
   "cell_type": "code",
   "execution_count": 107,
   "metadata": {},
   "outputs": [],
   "source": [
    "doc_sample = documents[documents.index == 4310].values[0][0]"
   ]
  },
  {
   "cell_type": "code",
   "execution_count": 108,
   "metadata": {},
   "outputs": [
    {
     "data": {
      "text/plain": [
       "'Rubber futures on TOCOM were trading higher due to signs of a recovery in the Chinese economy  after the release of stronger than expected data on Friday  analysts said  China is the largest consumer of natural rubber '"
      ]
     },
     "execution_count": 108,
     "metadata": {},
     "output_type": "execute_result"
    }
   ],
   "source": [
    "doc_sample"
   ]
  },
  {
   "cell_type": "code",
   "execution_count": 109,
   "metadata": {},
   "outputs": [
    {
     "name": "stdout",
     "output_type": "stream",
     "text": [
      "original document: \n",
      "['Rubber', 'futures', 'on', 'TOCOM', 'were', 'trading', 'higher', 'due', 'to', 'signs', 'of', 'a', 'recovery', 'in', 'the', 'Chinese', 'economy', '', 'after', 'the', 'release', 'of', 'stronger', 'than', 'expected', 'data', 'on', 'Friday', '', 'analysts', 'said', '', 'China', 'is', 'the', 'largest', 'consumer', 'of', 'natural', 'rubber', '']\n",
      "\n",
      "Tokenized and Lemmatized document: \n",
      "['futures', 'tocom', 'trade', 'higher', 'sign', 'recovery', 'economy', 'release', 'stronger', 'expect', 'analysts', 'largest', 'consumer', 'natural']\n"
     ]
    }
   ],
   "source": [
    "print('original document: ')\n",
    "words = []\n",
    "for word in doc_sample.split(' '):\n",
    "    words.append(word)\n",
    "print(words)\n",
    "\n",
    "print('\\nTokenized and Lemmatized document: ')\n",
    "print(preprocess(doc_sample))"
   ]
  },
  {
   "cell_type": "code",
   "execution_count": 110,
   "metadata": {},
   "outputs": [
    {
     "data": {
      "text/plain": [
       "0       [sumitomo, industries, establish, natural, pro...\n",
       "1       [spot, close, unchanged, quote, steady, trader...\n",
       "2       [delegate, registration, meet, begin, meet, ho...\n",
       "3       [futures, contract, indian, commodity, exchang...\n",
       "4       [tap, delay, despite, fact, peak, season, decl...\n",
       "                              ...                        \n",
       "5270    [natural, production, fell, year, accord, prov...\n",
       "5271    [futures, contract, national, multi, commodity...\n",
       "5272    [outlook, futures, contract, natural, trade, l...\n",
       "5273    [price, natural, fell, spot, market, poor, dem...\n",
       "5274    [monday, futures, contract, national, multi, c...\n",
       "Name: full_story, Length: 5275, dtype: object"
      ]
     },
     "execution_count": 110,
     "metadata": {},
     "output_type": "execute_result"
    }
   ],
   "source": [
    "processed_docs = documents['full_story'].map(preprocess)\n",
    "processed_docs"
   ]
  },
  {
   "cell_type": "code",
   "execution_count": 111,
   "metadata": {},
   "outputs": [],
   "source": [
    "def merging_preprocess(row):\n",
    "    values = ' '.join(str(row[v]) for v in range(len(row)))\n",
    "    return values"
   ]
  },
  {
   "cell_type": "code",
   "execution_count": 112,
   "metadata": {},
   "outputs": [],
   "source": [
    "documents['preprocess_join']=processed_docs.apply(merging_preprocess)"
   ]
  },
  {
   "cell_type": "code",
   "execution_count": 113,
   "metadata": {},
   "outputs": [
    {
     "data": {
      "text/plain": [
       "0       sumitomo industries establish natural procurem...\n",
       "1       spot close unchanged quote steady traders fini...\n",
       "2       delegate registration meet begin meet hold rad...\n",
       "3       futures contract indian commodity exchange ris...\n",
       "4       tap delay despite fact peak season decline imp...\n",
       "                              ...                        \n",
       "5270    natural production fell year accord provisiona...\n",
       "5271    futures contract national multi commodity exch...\n",
       "5272    outlook futures contract natural trade lower s...\n",
       "5273    price natural fell spot market poor demand tra...\n",
       "5274    monday futures contract national multi commodi...\n",
       "Name: preprocess_join, Length: 5275, dtype: object"
      ]
     },
     "execution_count": 113,
     "metadata": {},
     "output_type": "execute_result"
    }
   ],
   "source": [
    "documents['preprocess_join']"
   ]
  },
  {
   "cell_type": "code",
   "execution_count": 114,
   "metadata": {},
   "outputs": [
    {
     "data": {
      "image/png": "[encoded data removed]",
      "text/plain": [
       "<Figure size 1440x360 with 1 Axes>"
      ]
     },
     "metadata": {
      "needs_background": "light"
     },
     "output_type": "display_data"
    }
   ],
   "source": [
    "freq_words(documents['preprocess_join'])"
   ]
  },
  {
   "cell_type": "markdown",
   "metadata": {},
   "source": [
    "## Filters"
   ]
  },
  {
   "cell_type": "markdown",
   "metadata": {},
   "source": [
    "-- filter tokens less than 15 documents\n",
    "-- keep only 100000 words"
   ]
  },
  {
   "cell_type": "code",
   "execution_count": 115,
   "metadata": {
    "scrolled": true
   },
   "outputs": [
    {
     "name": "stdout",
     "output_type": "stream",
     "text": [
      "0 establish\n",
      "1 industries\n",
      "2 largest\n",
      "3 natural\n",
      "4 procurement\n",
      "5 singapore\n"
     ]
    }
   ],
   "source": [
    "dictionary = gensim.corpora.Dictionary(processed_docs)\n",
    "\n",
    "count = 0\n",
    "for k, v in dictionary.iteritems():\n",
    "    print(k, v)\n",
    "    count += 1\n",
    "    if count > 5:\n",
    "        break"
   ]
  },
  {
   "cell_type": "code",
   "execution_count": 116,
   "metadata": {},
   "outputs": [
    {
     "data": {
      "text/plain": [
       "<gensim.corpora.dictionary.Dictionary at 0x228fc082688>"
      ]
     },
     "execution_count": 116,
     "metadata": {},
     "output_type": "execute_result"
    }
   ],
   "source": [
    "dictionary"
   ]
  },
  {
   "cell_type": "code",
   "execution_count": 117,
   "metadata": {},
   "outputs": [],
   "source": [
    "dictionary.filter_extremes(no_below=15, no_above=0.5, keep_n=100000)"
   ]
  },
  {
   "cell_type": "markdown",
   "metadata": {},
   "source": [
    "## Gensim doc2bow-- Creating dictionary from the data"
   ]
  },
  {
   "cell_type": "code",
   "execution_count": 118,
   "metadata": {
    "scrolled": true
   },
   "outputs": [],
   "source": [
    "bow_corpus = [dictionary.doc2bow(doc) for doc in processed_docs]"
   ]
  },
  {
   "cell_type": "code",
   "execution_count": 119,
   "metadata": {},
   "outputs": [
    {
     "name": "stdout",
     "output_type": "stream",
     "text": [
      "Word 1 (\"largest\") appears 1 time.\n",
      "Word 2 (\"natural\") appears 1 time.\n",
      "Word 4 (\"trade\") appears 1 time.\n",
      "Word 27 (\"futures\") appears 1 time.\n",
      "Word 79 (\"analysts\") appears 1 time.\n",
      "Word 89 (\"consumer\") appears 1 time.\n",
      "Word 130 (\"tocom\") appears 1 time.\n",
      "Word 142 (\"expect\") appears 1 time.\n",
      "Word 143 (\"higher\") appears 1 time.\n",
      "Word 161 (\"economy\") appears 1 time.\n",
      "Word 382 (\"release\") appears 1 time.\n",
      "Word 572 (\"sign\") appears 1 time.\n",
      "Word 621 (\"recovery\") appears 1 time.\n"
     ]
    }
   ],
   "source": [
    "bow_doc_4310 = bow_corpus[4310]\n",
    "for i in range(len(bow_doc_4310)):\n",
    "    print(\"Word {} (\\\"{}\\\") appears {} time.\".format(bow_doc_4310[i][0], \n",
    "                                               dictionary[bow_doc_4310[i][0]], \n",
    "                                                     bow_doc_4310[i][1]))"
   ]
  },
  {
   "cell_type": "markdown",
   "metadata": {},
   "source": [
    "## Saving pickle files"
   ]
  },
  {
   "cell_type": "code",
   "execution_count": 120,
   "metadata": {},
   "outputs": [],
   "source": [
    "import pickle\n",
    "pickle.dump(bow_corpus, open('corpus.pkl', 'wb'))\n",
    "dictionary.save('dictionary.gensim')"
   ]
  },
  {
   "cell_type": "markdown",
   "metadata": {},
   "source": [
    "## LDA"
   ]
  },
  {
   "cell_type": "code",
   "execution_count": 121,
   "metadata": {},
   "outputs": [],
   "source": [
    "lda_model_batch = gensim.models.ldamodel.LdaModel(corpus=bow_corpus,\n",
    "                                           id2word=dictionary,\n",
    "                                           num_topics=20, \n",
    "                                           random_state=100,\n",
    "                                           update_every=1,\n",
    "                                           chunksize=100,\n",
    "                                           passes=10,\n",
    "                                           alpha='auto',\n",
    "                                           per_word_topics=True)"
   ]
  },
  {
   "cell_type": "code",
   "execution_count": 122,
   "metadata": {},
   "outputs": [],
   "source": [
    "lda_model_batch.save('model_lda.gensim')"
   ]
  },
  {
   "cell_type": "code",
   "execution_count": 123,
   "metadata": {
    "scrolled": true
   },
   "outputs": [
    {
     "name": "stdout",
     "output_type": "stream",
     "text": [
      "[(0, '0.261*\"state\" + 0.181*\"continue\" + 0.156*\"increase\" + 0.090*\"cheaper\" + 0.083*\"research\" + 0.049*\"recent\" + 0.045*\"worry\" + 0.044*\"flat\" + 0.027*\"economic\" + 0.027*\"tepid\"'), (1, '0.308*\"produce\" + 0.138*\"face\" + 0.098*\"plantations\" + 0.087*\"group\" + 0.079*\"producers\" + 0.075*\"plan\" + 0.071*\"current\" + 0.048*\"vietnam\" + 0.033*\"latex\" + 0.018*\"expand\"'), (2, '0.201*\"contract\" + 0.155*\"exchange\" + 0.121*\"commodity\" + 0.074*\"rupees\" + 0.060*\"week\" + 0.058*\"gain\" + 0.054*\"benchmark\" + 0.046*\"higher\" + 0.043*\"track\" + 0.033*\"futures\"'), (3, '0.235*\"rupees\" + 0.124*\"widely\" + 0.113*\"rupee\" + 0.088*\"unchanged\" + 0.081*\"sell\" + 0.071*\"variety\" + 0.067*\"show\" + 0.059*\"trade\" + 0.044*\"traders\" + 0.036*\"cap\"'), (4, '0.298*\"analysts\" + 0.111*\"lower\" + 0.084*\"global\" + 0.078*\"largest\" + 0.042*\"investors\" + 0.041*\"world\" + 0.037*\"consumer\" + 0.035*\"firm\" + 0.035*\"fall\" + 0.033*\"profit\"'), (5, '0.190*\"see\" + 0.161*\"base\" + 0.121*\"tap\" + 0.086*\"season\" + 0.061*\"alencherry\" + 0.046*\"owner\" + 0.042*\"grow\" + 0.035*\"areas\" + 0.035*\"gain\" + 0.034*\"peak\"'), (6, '0.254*\"close\" + 0.235*\"rupees\" + 0.119*\"previous\" + 0.100*\"bourse\" + 0.096*\"come\" + 0.076*\"contract\" + 0.057*\"active\" + 0.049*\"end\" + 0.009*\"affect\" + 0.004*\"step\"'), (7, '0.327*\"year\" + 0.190*\"outlook\" + 0.185*\"natural\" + 0.125*\"global\" + 0.084*\"association\" + 0.023*\"president\" + 0.021*\"economy\" + 0.014*\"forecast\" + 0.007*\"line\" + 0.007*\"slow\"'), (8, '0.188*\"trader\" + 0.167*\"decline\" + 0.140*\"weigh\" + 0.120*\"base\" + 0.076*\"largely\" + 0.065*\"financial\" + 0.058*\"buy\" + 0.031*\"tyres\" + 0.030*\"boost\" + 0.026*\"bank\"'), (9, '0.205*\"market\" + 0.106*\"natural\" + 0.102*\"spot\" + 0.097*\"domestic\" + 0.083*\"demand\" + 0.082*\"likely\" + 0.074*\"traders\" + 0.070*\"supply\" + 0.047*\"rise\" + 0.027*\"price\"'), (10, '0.383*\"expect\" + 0.234*\"output\" + 0.102*\"estimate\" + 0.068*\"cover\" + 0.054*\"tree\" + 0.043*\"plant\" + 0.030*\"agriculture\" + 0.029*\"ministry\" + 0.021*\"authority\" + 0.011*\"million\"'), (11, '0.333*\"accord\" + 0.257*\"tyre\" + 0.091*\"steady\" + 0.050*\"quote\" + 0.050*\"improve\" + 0.043*\"sector\" + 0.034*\"strength\" + 0.032*\"mix\" + 0.031*\"open\" + 0.026*\"respectively\"'), (12, '0.190*\"icex\" + 0.180*\"remain\" + 0.129*\"account\" + 0.083*\"trend\" + 0.082*\"level\" + 0.063*\"capital\" + 0.061*\"short\" + 0.056*\"resistance\" + 0.051*\"term\" + 0.034*\"director\"'), (13, '0.228*\"production\" + 0.182*\"stock\" + 0.117*\"high\" + 0.081*\"earlier\" + 0.055*\"growth\" + 0.046*\"average\" + 0.040*\"deal\" + 0.037*\"industry\" + 0.034*\"compare\" + 0.028*\"industrial\"'), (14, '0.221*\"trade\" + 0.207*\"follow\" + 0.191*\"monday\" + 0.165*\"compare\" + 0.052*\"add\" + 0.038*\"strong\" + 0.029*\"early\" + 0.025*\"product\" + 0.019*\"ahead\" + 0.015*\"slightly\"'), (15, '0.182*\"crude\" + 0.159*\"futures\" + 0.120*\"tocom\" + 0.093*\"cue\" + 0.055*\"dollar\" + 0.053*\"trade\" + 0.051*\"shanghai\" + 0.046*\"weakness\" + 0.044*\"international\" + 0.042*\"weak\"'), (16, '0.249*\"export\" + 0.218*\"report\" + 0.142*\"consumption\" + 0.103*\"government\" + 0.075*\"place\" + 0.054*\"second\" + 0.047*\"share\" + 0.032*\"farmers\" + 0.016*\"uncertainty\" + 0.013*\"force\"'), (17, '0.569*\"price\" + 0.152*\"rise\" + 0.113*\"fall\" + 0.072*\"fell\" + 0.025*\"variety\" + 0.024*\"sharp\" + 0.015*\"show\" + 0.007*\"prevent\" + 0.005*\"source\" + 0.004*\"water\"'), (18, '0.447*\"import\" + 0.383*\"month\" + 0.067*\"general\" + 0.020*\"statistics\" + 0.016*\"directorate\" + 0.016*\"natural\" + 0.015*\"commercial\" + 0.009*\"show\" + 0.005*\"intelligence\" + 0.003*\"fell\"'), (19, '0.289*\"support\" + 0.146*\"take\" + 0.089*\"near\" + 0.062*\"pressure\" + 0.052*\"begin\" + 0.043*\"plantation\" + 0.037*\"hold\" + 0.037*\"position\" + 0.027*\"result\" + 0.027*\"meet\"')]\n"
     ]
    }
   ],
   "source": [
    "print(lda_model_batch.print_topics())\n",
    "doc_lda = lda_model_batch[bow_corpus]"
   ]
  },
  {
   "cell_type": "code",
   "execution_count": 124,
   "metadata": {},
   "outputs": [
    {
     "name": "stdout",
     "output_type": "stream",
     "text": [
      "(0, '0.261*\"state\" + 0.181*\"continue\" + 0.156*\"increase\" + 0.090*\"cheaper\" + 0.083*\"research\"')\n",
      "(1, '0.308*\"produce\" + 0.138*\"face\" + 0.098*\"plantations\" + 0.087*\"group\" + 0.079*\"producers\"')\n",
      "(2, '0.201*\"contract\" + 0.155*\"exchange\" + 0.121*\"commodity\" + 0.074*\"rupees\" + 0.060*\"week\"')\n",
      "(3, '0.235*\"rupees\" + 0.124*\"widely\" + 0.113*\"rupee\" + 0.088*\"unchanged\" + 0.081*\"sell\"')\n",
      "(4, '0.298*\"analysts\" + 0.111*\"lower\" + 0.084*\"global\" + 0.078*\"largest\" + 0.042*\"investors\"')\n",
      "(5, '0.190*\"see\" + 0.161*\"base\" + 0.121*\"tap\" + 0.086*\"season\" + 0.061*\"alencherry\"')\n",
      "(6, '0.254*\"close\" + 0.235*\"rupees\" + 0.119*\"previous\" + 0.100*\"bourse\" + 0.096*\"come\"')\n",
      "(7, '0.327*\"year\" + 0.190*\"outlook\" + 0.185*\"natural\" + 0.125*\"global\" + 0.084*\"association\"')\n",
      "(8, '0.188*\"trader\" + 0.167*\"decline\" + 0.140*\"weigh\" + 0.120*\"base\" + 0.076*\"largely\"')\n",
      "(9, '0.205*\"market\" + 0.106*\"natural\" + 0.102*\"spot\" + 0.097*\"domestic\" + 0.083*\"demand\"')\n",
      "(10, '0.383*\"expect\" + 0.234*\"output\" + 0.102*\"estimate\" + 0.068*\"cover\" + 0.054*\"tree\"')\n",
      "(11, '0.333*\"accord\" + 0.257*\"tyre\" + 0.091*\"steady\" + 0.050*\"quote\" + 0.050*\"improve\"')\n",
      "(12, '0.190*\"icex\" + 0.180*\"remain\" + 0.129*\"account\" + 0.083*\"trend\" + 0.082*\"level\"')\n",
      "(13, '0.228*\"production\" + 0.182*\"stock\" + 0.117*\"high\" + 0.081*\"earlier\" + 0.055*\"growth\"')\n",
      "(14, '0.221*\"trade\" + 0.207*\"follow\" + 0.191*\"monday\" + 0.165*\"compare\" + 0.052*\"add\"')\n",
      "(15, '0.182*\"crude\" + 0.159*\"futures\" + 0.120*\"tocom\" + 0.093*\"cue\" + 0.055*\"dollar\"')\n",
      "(16, '0.249*\"export\" + 0.218*\"report\" + 0.142*\"consumption\" + 0.103*\"government\" + 0.075*\"place\"')\n",
      "(17, '0.569*\"price\" + 0.152*\"rise\" + 0.113*\"fall\" + 0.072*\"fell\" + 0.025*\"variety\"')\n",
      "(18, '0.447*\"import\" + 0.383*\"month\" + 0.067*\"general\" + 0.020*\"statistics\" + 0.016*\"directorate\"')\n",
      "(19, '0.289*\"support\" + 0.146*\"take\" + 0.089*\"near\" + 0.062*\"pressure\" + 0.052*\"begin\"')\n"
     ]
    }
   ],
   "source": [
    "topics = lda_model_batch.print_topics(num_words=5)\n",
    "for topic in topics:\n",
    "    print(topic)"
   ]
  },
  {
   "cell_type": "code",
   "execution_count": 125,
   "metadata": {},
   "outputs": [
    {
     "name": "stdout",
     "output_type": "stream",
     "text": [
      "(0, '0.261*\"state\" + 0.181*\"continue\" + 0.156*\"increase\" + 0.090*\"cheaper\" + 0.083*\"research\" + 0.049*\"recent\" + 0.045*\"worry\" + 0.044*\"flat\"')\n",
      "(1, '0.308*\"produce\" + 0.138*\"face\" + 0.098*\"plantations\" + 0.087*\"group\" + 0.079*\"producers\" + 0.075*\"plan\" + 0.071*\"current\" + 0.048*\"vietnam\"')\n",
      "(2, '0.201*\"contract\" + 0.155*\"exchange\" + 0.121*\"commodity\" + 0.074*\"rupees\" + 0.060*\"week\" + 0.058*\"gain\" + 0.054*\"benchmark\" + 0.046*\"higher\"')\n",
      "(3, '0.235*\"rupees\" + 0.124*\"widely\" + 0.113*\"rupee\" + 0.088*\"unchanged\" + 0.081*\"sell\" + 0.071*\"variety\" + 0.067*\"show\" + 0.059*\"trade\"')\n",
      "(4, '0.298*\"analysts\" + 0.111*\"lower\" + 0.084*\"global\" + 0.078*\"largest\" + 0.042*\"investors\" + 0.041*\"world\" + 0.037*\"consumer\" + 0.035*\"firm\"')\n",
      "(5, '0.190*\"see\" + 0.161*\"base\" + 0.121*\"tap\" + 0.086*\"season\" + 0.061*\"alencherry\" + 0.046*\"owner\" + 0.042*\"grow\" + 0.035*\"areas\"')\n",
      "(6, '0.254*\"close\" + 0.235*\"rupees\" + 0.119*\"previous\" + 0.100*\"bourse\" + 0.096*\"come\" + 0.076*\"contract\" + 0.057*\"active\" + 0.049*\"end\"')\n",
      "(7, '0.327*\"year\" + 0.190*\"outlook\" + 0.185*\"natural\" + 0.125*\"global\" + 0.084*\"association\" + 0.023*\"president\" + 0.021*\"economy\" + 0.014*\"forecast\"')\n",
      "(8, '0.188*\"trader\" + 0.167*\"decline\" + 0.140*\"weigh\" + 0.120*\"base\" + 0.076*\"largely\" + 0.065*\"financial\" + 0.058*\"buy\" + 0.031*\"tyres\"')\n",
      "(9, '0.205*\"market\" + 0.106*\"natural\" + 0.102*\"spot\" + 0.097*\"domestic\" + 0.083*\"demand\" + 0.082*\"likely\" + 0.074*\"traders\" + 0.070*\"supply\"')\n",
      "(10, '0.383*\"expect\" + 0.234*\"output\" + 0.102*\"estimate\" + 0.068*\"cover\" + 0.054*\"tree\" + 0.043*\"plant\" + 0.030*\"agriculture\" + 0.029*\"ministry\"')\n",
      "(11, '0.333*\"accord\" + 0.257*\"tyre\" + 0.091*\"steady\" + 0.050*\"quote\" + 0.050*\"improve\" + 0.043*\"sector\" + 0.034*\"strength\" + 0.032*\"mix\"')\n",
      "(12, '0.190*\"icex\" + 0.180*\"remain\" + 0.129*\"account\" + 0.083*\"trend\" + 0.082*\"level\" + 0.063*\"capital\" + 0.061*\"short\" + 0.056*\"resistance\"')\n",
      "(13, '0.228*\"production\" + 0.182*\"stock\" + 0.117*\"high\" + 0.081*\"earlier\" + 0.055*\"growth\" + 0.046*\"average\" + 0.040*\"deal\" + 0.037*\"industry\"')\n",
      "(14, '0.221*\"trade\" + 0.207*\"follow\" + 0.191*\"monday\" + 0.165*\"compare\" + 0.052*\"add\" + 0.038*\"strong\" + 0.029*\"early\" + 0.025*\"product\"')\n",
      "(15, '0.182*\"crude\" + 0.159*\"futures\" + 0.120*\"tocom\" + 0.093*\"cue\" + 0.055*\"dollar\" + 0.053*\"trade\" + 0.051*\"shanghai\" + 0.046*\"weakness\"')\n",
      "(16, '0.249*\"export\" + 0.218*\"report\" + 0.142*\"consumption\" + 0.103*\"government\" + 0.075*\"place\" + 0.054*\"second\" + 0.047*\"share\" + 0.032*\"farmers\"')\n",
      "(17, '0.569*\"price\" + 0.152*\"rise\" + 0.113*\"fall\" + 0.072*\"fell\" + 0.025*\"variety\" + 0.024*\"sharp\" + 0.015*\"show\" + 0.007*\"prevent\"')\n",
      "(18, '0.447*\"import\" + 0.383*\"month\" + 0.067*\"general\" + 0.020*\"statistics\" + 0.016*\"directorate\" + 0.016*\"natural\" + 0.015*\"commercial\" + 0.009*\"show\"')\n",
      "(19, '0.289*\"support\" + 0.146*\"take\" + 0.089*\"near\" + 0.062*\"pressure\" + 0.052*\"begin\" + 0.043*\"plantation\" + 0.037*\"hold\" + 0.037*\"position\"')\n"
     ]
    }
   ],
   "source": [
    "topics = lda_model_batch.print_topics(num_words=8)\n",
    "for topic in topics:\n",
    "    print(topic)"
   ]
  },
  {
   "cell_type": "markdown",
   "metadata": {},
   "source": [
    "## Model Metrics"
   ]
  },
  {
   "cell_type": "code",
   "execution_count": 126,
   "metadata": {
    "scrolled": true
   },
   "outputs": [
    {
     "name": "stdout",
     "output_type": "stream",
     "text": [
      "Perplexity:  -11.818964763758563\n"
     ]
    }
   ],
   "source": [
    "print('Perplexity: ', lda_model_batch.log_perplexity(bow_corpus)) "
   ]
  },
  {
   "cell_type": "code",
   "execution_count": 127,
   "metadata": {},
   "outputs": [
    {
     "name": "stdout",
     "output_type": "stream",
     "text": [
      "Coherence Score for c_v:  0.3965778953756843\n"
     ]
    }
   ],
   "source": [
    "from gensim.models import CoherenceModel\n",
    "coherence_model_lda_c_v = CoherenceModel(model=lda_model_batch, texts=processed_docs, dictionary=dictionary, coherence='c_v')\n",
    "coherence_lda = coherence_model_lda_c_v.get_coherence()\n",
    "print('Coherence Score for c_v: ', coherence_lda)"
   ]
  },
  {
   "cell_type": "code",
   "execution_count": 128,
   "metadata": {},
   "outputs": [
    {
     "name": "stdout",
     "output_type": "stream",
     "text": [
      "Coherence Score for u_mass:  -4.673057546428844\n"
     ]
    }
   ],
   "source": [
    "coherence_model_lda_u_mass = CoherenceModel(model=lda_model_batch, texts=processed_docs, dictionary=dictionary, coherence=\"u_mass\")\n",
    "coherence_lda = coherence_model_lda_u_mass.get_coherence()\n",
    "print('Coherence Score for u_mass: ', coherence_lda)"
   ]
  },
  {
   "cell_type": "markdown",
   "metadata": {},
   "source": [
    "## Optimal Topics"
   ]
  },
  {
   "cell_type": "code",
   "execution_count": 129,
   "metadata": {},
   "outputs": [],
   "source": [
    "def compute_coherence_values(dictionary, corpus, texts, limit, start=2, step=1):\n",
    "    coherence_values = []\n",
    "    model_list = []\n",
    "    for num_topics in range(start, limit, step):\n",
    "        model=LdaModel(corpus=corpus, id2word=dictionary, num_topics=num_topics)\n",
    "        model_list.append(model)\n",
    "        coherencemodel = CoherenceModel(model=model, texts=texts, dictionary=dictionary, coherence='c_v')\n",
    "        coherence_values.append(coherencemodel.get_coherence())\n",
    "\n",
    "    return model_list, coherence_values"
   ]
  },
  {
   "cell_type": "code",
   "execution_count": 48,
   "metadata": {},
   "outputs": [
    {
     "ename": "KeyboardInterrupt",
     "evalue": "",
     "output_type": "error",
     "traceback": [
      "\u001b[1;31m---------------------------------------------------------------------------\u001b[0m",
      "\u001b[1;31mKeyboardInterrupt\u001b[0m                         Traceback (most recent call last)",
      "\u001b[1;32m<ipython-input-48-3d9160704996>\u001b[0m in \u001b[0;36m<module>\u001b[1;34m\u001b[0m\n\u001b[1;32m----> 1\u001b[1;33m \u001b[0mmodel_list\u001b[0m\u001b[1;33m,\u001b[0m \u001b[0mcoherence_values\u001b[0m \u001b[1;33m=\u001b[0m \u001b[0mcompute_coherence_values\u001b[0m\u001b[1;33m(\u001b[0m\u001b[0mdictionary\u001b[0m\u001b[1;33m=\u001b[0m\u001b[0mdictionary\u001b[0m\u001b[1;33m,\u001b[0m \u001b[0mcorpus\u001b[0m\u001b[1;33m=\u001b[0m\u001b[0mbow_corpus\u001b[0m\u001b[1;33m,\u001b[0m \u001b[0mtexts\u001b[0m\u001b[1;33m=\u001b[0m\u001b[0mprocessed_docs\u001b[0m\u001b[1;33m,\u001b[0m \u001b[0mstart\u001b[0m\u001b[1;33m=\u001b[0m\u001b[1;36m2\u001b[0m\u001b[1;33m,\u001b[0m \u001b[0mlimit\u001b[0m\u001b[1;33m=\u001b[0m\u001b[1;36m20\u001b[0m\u001b[1;33m,\u001b[0m \u001b[0mstep\u001b[0m\u001b[1;33m=\u001b[0m\u001b[1;36m1\u001b[0m\u001b[1;33m)\u001b[0m\u001b[1;33m\u001b[0m\u001b[1;33m\u001b[0m\u001b[0m\n\u001b[0m\u001b[0;32m      2\u001b[0m \u001b[0mlimit\u001b[0m\u001b[1;33m=\u001b[0m\u001b[1;36m20\u001b[0m\u001b[1;33m;\u001b[0m \u001b[0mstart\u001b[0m\u001b[1;33m=\u001b[0m\u001b[1;36m2\u001b[0m\u001b[1;33m;\u001b[0m \u001b[0mstep\u001b[0m\u001b[1;33m=\u001b[0m\u001b[1;36m1\u001b[0m\u001b[1;33m;\u001b[0m\u001b[1;33m\u001b[0m\u001b[1;33m\u001b[0m\u001b[0m\n\u001b[0;32m      3\u001b[0m \u001b[0mx\u001b[0m \u001b[1;33m=\u001b[0m \u001b[0mrange\u001b[0m\u001b[1;33m(\u001b[0m\u001b[0mstart\u001b[0m\u001b[1;33m,\u001b[0m \u001b[0mlimit\u001b[0m\u001b[1;33m,\u001b[0m \u001b[0mstep\u001b[0m\u001b[1;33m)\u001b[0m\u001b[1;33m\u001b[0m\u001b[1;33m\u001b[0m\u001b[0m\n\u001b[0;32m      4\u001b[0m \u001b[0mplt\u001b[0m\u001b[1;33m.\u001b[0m\u001b[0mplot\u001b[0m\u001b[1;33m(\u001b[0m\u001b[0mx\u001b[0m\u001b[1;33m,\u001b[0m \u001b[0mcoherence_values\u001b[0m\u001b[1;33m)\u001b[0m\u001b[1;33m\u001b[0m\u001b[1;33m\u001b[0m\u001b[0m\n\u001b[0;32m      5\u001b[0m \u001b[0mplt\u001b[0m\u001b[1;33m.\u001b[0m\u001b[0mxlabel\u001b[0m\u001b[1;33m(\u001b[0m\u001b[1;34m\"Num Topics\"\u001b[0m\u001b[1;33m)\u001b[0m\u001b[1;33m\u001b[0m\u001b[1;33m\u001b[0m\u001b[0m\n",
      "\u001b[1;32m<ipython-input-47-5d81a79733ea>\u001b[0m in \u001b[0;36mcompute_coherence_values\u001b[1;34m(dictionary, corpus, texts, limit, start, step)\u001b[0m\n\u001b[0;32m      3\u001b[0m     \u001b[0mmodel_list\u001b[0m \u001b[1;33m=\u001b[0m \u001b[1;33m[\u001b[0m\u001b[1;33m]\u001b[0m\u001b[1;33m\u001b[0m\u001b[1;33m\u001b[0m\u001b[0m\n\u001b[0;32m      4\u001b[0m     \u001b[1;32mfor\u001b[0m \u001b[0mnum_topics\u001b[0m \u001b[1;32min\u001b[0m \u001b[0mrange\u001b[0m\u001b[1;33m(\u001b[0m\u001b[0mstart\u001b[0m\u001b[1;33m,\u001b[0m \u001b[0mlimit\u001b[0m\u001b[1;33m,\u001b[0m \u001b[0mstep\u001b[0m\u001b[1;33m)\u001b[0m\u001b[1;33m:\u001b[0m\u001b[1;33m\u001b[0m\u001b[1;33m\u001b[0m\u001b[0m\n\u001b[1;32m----> 5\u001b[1;33m         \u001b[0mmodel\u001b[0m\u001b[1;33m=\u001b[0m\u001b[0mLdaModel\u001b[0m\u001b[1;33m(\u001b[0m\u001b[0mcorpus\u001b[0m\u001b[1;33m=\u001b[0m\u001b[0mcorpus\u001b[0m\u001b[1;33m,\u001b[0m \u001b[0mid2word\u001b[0m\u001b[1;33m=\u001b[0m\u001b[0mdictionary\u001b[0m\u001b[1;33m,\u001b[0m \u001b[0mnum_topics\u001b[0m\u001b[1;33m=\u001b[0m\u001b[0mnum_topics\u001b[0m\u001b[1;33m)\u001b[0m\u001b[1;33m\u001b[0m\u001b[1;33m\u001b[0m\u001b[0m\n\u001b[0m\u001b[0;32m      6\u001b[0m         \u001b[0mmodel_list\u001b[0m\u001b[1;33m.\u001b[0m\u001b[0mappend\u001b[0m\u001b[1;33m(\u001b[0m\u001b[0mmodel\u001b[0m\u001b[1;33m)\u001b[0m\u001b[1;33m\u001b[0m\u001b[1;33m\u001b[0m\u001b[0m\n\u001b[0;32m      7\u001b[0m         \u001b[0mcoherencemodel\u001b[0m \u001b[1;33m=\u001b[0m \u001b[0mCoherenceModel\u001b[0m\u001b[1;33m(\u001b[0m\u001b[0mmodel\u001b[0m\u001b[1;33m=\u001b[0m\u001b[0mmodel\u001b[0m\u001b[1;33m,\u001b[0m \u001b[0mtexts\u001b[0m\u001b[1;33m=\u001b[0m\u001b[0mtexts\u001b[0m\u001b[1;33m,\u001b[0m \u001b[0mdictionary\u001b[0m\u001b[1;33m=\u001b[0m\u001b[0mdictionary\u001b[0m\u001b[1;33m,\u001b[0m \u001b[0mcoherence\u001b[0m\u001b[1;33m=\u001b[0m\u001b[1;34m'c_v'\u001b[0m\u001b[1;33m)\u001b[0m\u001b[1;33m\u001b[0m\u001b[1;33m\u001b[0m\u001b[0m\n",
      "\u001b[1;32mC:\\ProgramData\\Anaconda3\\lib\\site-packages\\gensim-3.8.1-py3.7-win-amd64.egg\\gensim\\models\\ldamodel.py\u001b[0m in \u001b[0;36m__init__\u001b[1;34m(self, corpus, num_topics, id2word, distributed, chunksize, passes, update_every, alpha, eta, decay, offset, eval_every, iterations, gamma_threshold, minimum_probability, random_state, ns_conf, minimum_phi_value, per_word_topics, callbacks, dtype)\u001b[0m\n\u001b[0;32m    517\u001b[0m         \u001b[1;32mif\u001b[0m \u001b[0mcorpus\u001b[0m \u001b[1;32mis\u001b[0m \u001b[1;32mnot\u001b[0m \u001b[1;32mNone\u001b[0m\u001b[1;33m:\u001b[0m\u001b[1;33m\u001b[0m\u001b[1;33m\u001b[0m\u001b[0m\n\u001b[0;32m    518\u001b[0m             \u001b[0muse_numpy\u001b[0m \u001b[1;33m=\u001b[0m \u001b[0mself\u001b[0m\u001b[1;33m.\u001b[0m\u001b[0mdispatcher\u001b[0m \u001b[1;32mis\u001b[0m \u001b[1;32mnot\u001b[0m \u001b[1;32mNone\u001b[0m\u001b[1;33m\u001b[0m\u001b[1;33m\u001b[0m\u001b[0m\n\u001b[1;32m--> 519\u001b[1;33m             \u001b[0mself\u001b[0m\u001b[1;33m.\u001b[0m\u001b[0mupdate\u001b[0m\u001b[1;33m(\u001b[0m\u001b[0mcorpus\u001b[0m\u001b[1;33m,\u001b[0m \u001b[0mchunks_as_numpy\u001b[0m\u001b[1;33m=\u001b[0m\u001b[0muse_numpy\u001b[0m\u001b[1;33m)\u001b[0m\u001b[1;33m\u001b[0m\u001b[1;33m\u001b[0m\u001b[0m\n\u001b[0m\u001b[0;32m    520\u001b[0m \u001b[1;33m\u001b[0m\u001b[0m\n\u001b[0;32m    521\u001b[0m     \u001b[1;32mdef\u001b[0m \u001b[0minit_dir_prior\u001b[0m\u001b[1;33m(\u001b[0m\u001b[0mself\u001b[0m\u001b[1;33m,\u001b[0m \u001b[0mprior\u001b[0m\u001b[1;33m,\u001b[0m \u001b[0mname\u001b[0m\u001b[1;33m)\u001b[0m\u001b[1;33m:\u001b[0m\u001b[1;33m\u001b[0m\u001b[1;33m\u001b[0m\u001b[0m\n",
      "\u001b[1;32mC:\\ProgramData\\Anaconda3\\lib\\site-packages\\gensim-3.8.1-py3.7-win-amd64.egg\\gensim\\models\\ldamodel.py\u001b[0m in \u001b[0;36mupdate\u001b[1;34m(self, corpus, chunksize, decay, offset, passes, update_every, eval_every, iterations, gamma_threshold, chunks_as_numpy)\u001b[0m\n\u001b[0;32m    978\u001b[0m                         \u001b[0mpass_\u001b[0m\u001b[1;33m,\u001b[0m \u001b[0mchunk_no\u001b[0m \u001b[1;33m*\u001b[0m \u001b[0mchunksize\u001b[0m \u001b[1;33m+\u001b[0m \u001b[0mlen\u001b[0m\u001b[1;33m(\u001b[0m\u001b[0mchunk\u001b[0m\u001b[1;33m)\u001b[0m\u001b[1;33m,\u001b[0m \u001b[0mlencorpus\u001b[0m\u001b[1;33m\u001b[0m\u001b[1;33m\u001b[0m\u001b[0m\n\u001b[0;32m    979\u001b[0m                     )\n\u001b[1;32m--> 980\u001b[1;33m                     \u001b[0mgammat\u001b[0m \u001b[1;33m=\u001b[0m \u001b[0mself\u001b[0m\u001b[1;33m.\u001b[0m\u001b[0mdo_estep\u001b[0m\u001b[1;33m(\u001b[0m\u001b[0mchunk\u001b[0m\u001b[1;33m,\u001b[0m \u001b[0mother\u001b[0m\u001b[1;33m)\u001b[0m\u001b[1;33m\u001b[0m\u001b[1;33m\u001b[0m\u001b[0m\n\u001b[0m\u001b[0;32m    981\u001b[0m \u001b[1;33m\u001b[0m\u001b[0m\n\u001b[0;32m    982\u001b[0m                     \u001b[1;32mif\u001b[0m \u001b[0mself\u001b[0m\u001b[1;33m.\u001b[0m\u001b[0moptimize_alpha\u001b[0m\u001b[1;33m:\u001b[0m\u001b[1;33m\u001b[0m\u001b[1;33m\u001b[0m\u001b[0m\n",
      "\u001b[1;32mC:\\ProgramData\\Anaconda3\\lib\\site-packages\\gensim-3.8.1-py3.7-win-amd64.egg\\gensim\\models\\ldamodel.py\u001b[0m in \u001b[0;36mdo_estep\u001b[1;34m(self, chunk, state)\u001b[0m\n\u001b[0;32m    740\u001b[0m         \u001b[1;32mif\u001b[0m \u001b[0mstate\u001b[0m \u001b[1;32mis\u001b[0m \u001b[1;32mNone\u001b[0m\u001b[1;33m:\u001b[0m\u001b[1;33m\u001b[0m\u001b[1;33m\u001b[0m\u001b[0m\n\u001b[0;32m    741\u001b[0m             \u001b[0mstate\u001b[0m \u001b[1;33m=\u001b[0m \u001b[0mself\u001b[0m\u001b[1;33m.\u001b[0m\u001b[0mstate\u001b[0m\u001b[1;33m\u001b[0m\u001b[1;33m\u001b[0m\u001b[0m\n\u001b[1;32m--> 742\u001b[1;33m         \u001b[0mgamma\u001b[0m\u001b[1;33m,\u001b[0m \u001b[0msstats\u001b[0m \u001b[1;33m=\u001b[0m \u001b[0mself\u001b[0m\u001b[1;33m.\u001b[0m\u001b[0minference\u001b[0m\u001b[1;33m(\u001b[0m\u001b[0mchunk\u001b[0m\u001b[1;33m,\u001b[0m \u001b[0mcollect_sstats\u001b[0m\u001b[1;33m=\u001b[0m\u001b[1;32mTrue\u001b[0m\u001b[1;33m)\u001b[0m\u001b[1;33m\u001b[0m\u001b[1;33m\u001b[0m\u001b[0m\n\u001b[0m\u001b[0;32m    743\u001b[0m         \u001b[0mstate\u001b[0m\u001b[1;33m.\u001b[0m\u001b[0msstats\u001b[0m \u001b[1;33m+=\u001b[0m \u001b[0msstats\u001b[0m\u001b[1;33m\u001b[0m\u001b[1;33m\u001b[0m\u001b[0m\n\u001b[0;32m    744\u001b[0m         \u001b[0mstate\u001b[0m\u001b[1;33m.\u001b[0m\u001b[0mnumdocs\u001b[0m \u001b[1;33m+=\u001b[0m \u001b[0mgamma\u001b[0m\u001b[1;33m.\u001b[0m\u001b[0mshape\u001b[0m\u001b[1;33m[\u001b[0m\u001b[1;36m0\u001b[0m\u001b[1;33m]\u001b[0m  \u001b[1;31m# avoids calling len(chunk) on a generator\u001b[0m\u001b[1;33m\u001b[0m\u001b[1;33m\u001b[0m\u001b[0m\n",
      "\u001b[1;32mC:\\ProgramData\\Anaconda3\\lib\\site-packages\\gensim-3.8.1-py3.7-win-amd64.egg\\gensim\\models\\ldamodel.py\u001b[0m in \u001b[0;36minference\u001b[1;34m(self, chunk, collect_sstats)\u001b[0m\n\u001b[0;32m    694\u001b[0m                 \u001b[0mElogthetad\u001b[0m \u001b[1;33m=\u001b[0m \u001b[0mdirichlet_expectation\u001b[0m\u001b[1;33m(\u001b[0m\u001b[0mgammad\u001b[0m\u001b[1;33m)\u001b[0m\u001b[1;33m\u001b[0m\u001b[1;33m\u001b[0m\u001b[0m\n\u001b[0;32m    695\u001b[0m                 \u001b[0mexpElogthetad\u001b[0m \u001b[1;33m=\u001b[0m \u001b[0mnp\u001b[0m\u001b[1;33m.\u001b[0m\u001b[0mexp\u001b[0m\u001b[1;33m(\u001b[0m\u001b[0mElogthetad\u001b[0m\u001b[1;33m)\u001b[0m\u001b[1;33m\u001b[0m\u001b[1;33m\u001b[0m\u001b[0m\n\u001b[1;32m--> 696\u001b[1;33m                 \u001b[0mphinorm\u001b[0m \u001b[1;33m=\u001b[0m \u001b[0mnp\u001b[0m\u001b[1;33m.\u001b[0m\u001b[0mdot\u001b[0m\u001b[1;33m(\u001b[0m\u001b[0mexpElogthetad\u001b[0m\u001b[1;33m,\u001b[0m \u001b[0mexpElogbetad\u001b[0m\u001b[1;33m)\u001b[0m \u001b[1;33m+\u001b[0m \u001b[0mepsilon\u001b[0m\u001b[1;33m\u001b[0m\u001b[1;33m\u001b[0m\u001b[0m\n\u001b[0m\u001b[0;32m    697\u001b[0m                 \u001b[1;31m# If gamma hasn't changed much, we're done.\u001b[0m\u001b[1;33m\u001b[0m\u001b[1;33m\u001b[0m\u001b[1;33m\u001b[0m\u001b[0m\n\u001b[0;32m    698\u001b[0m                 \u001b[0mmeanchange\u001b[0m \u001b[1;33m=\u001b[0m \u001b[0mmean_absolute_difference\u001b[0m\u001b[1;33m(\u001b[0m\u001b[0mgammad\u001b[0m\u001b[1;33m,\u001b[0m \u001b[0mlastgamma\u001b[0m\u001b[1;33m)\u001b[0m\u001b[1;33m\u001b[0m\u001b[1;33m\u001b[0m\u001b[0m\n",
      "\u001b[1;31mKeyboardInterrupt\u001b[0m: "
     ]
    }
   ],
   "source": [
    "model_list, coherence_values = compute_coherence_values(dictionary=dictionary, corpus=bow_corpus, texts=processed_docs, start=2, limit=20, step=1)\n",
    "limit=20; start=2; step=1;\n",
    "x = range(start, limit, step)\n",
    "plt.plot(x, coherence_values)\n",
    "plt.xlabel(\"Num Topics\")\n",
    "plt.ylabel(\"Coherence score\")\n",
    "plt.xticks(x)\n",
    "plt.legend((\"coherence_values\"), loc='best')\n",
    "plt.show()"
   ]
  },
  {
   "cell_type": "markdown",
   "metadata": {},
   "source": [
    "## Best model run"
   ]
  },
  {
   "cell_type": "code",
   "execution_count": 130,
   "metadata": {},
   "outputs": [],
   "source": [
    "lda_model_best = gensim.models.ldamodel.LdaModel(corpus=bow_corpus,\n",
    "                                           id2word=dictionary,\n",
    "                                           num_topics=4, \n",
    "                                           random_state=100,\n",
    "                                           update_every=1,\n",
    "                                           chunksize=100,\n",
    "                                           passes=10,\n",
    "                                           alpha='auto',\n",
    "                                           per_word_topics=True)"
   ]
  },
  {
   "cell_type": "code",
   "execution_count": 131,
   "metadata": {},
   "outputs": [],
   "source": [
    "lda_model_best.save('model_bow_best.gensim')"
   ]
  },
  {
   "cell_type": "code",
   "execution_count": 132,
   "metadata": {
    "scrolled": true
   },
   "outputs": [
    {
     "name": "stdout",
     "output_type": "stream",
     "text": [
      "[(0, '0.057*\"price\" + 0.048*\"market\" + 0.037*\"rise\" + 0.036*\"natural\" + 0.036*\"domestic\" + 0.033*\"demand\" + 0.032*\"likely\" + 0.030*\"supply\" + 0.027*\"fall\" + 0.025*\"spot\"'), (1, '0.021*\"month\" + 0.020*\"year\" + 0.018*\"national\" + 0.017*\"give\" + 0.016*\"multi\" + 0.015*\"company\" + 0.014*\"index\" + 0.013*\"price\" + 0.013*\"heavy\" + 0.012*\"state\"'), (2, '0.129*\"rupees\" + 0.074*\"price\" + 0.073*\"contract\" + 0.064*\"close\" + 0.046*\"commodity\" + 0.043*\"exchange\" + 0.034*\"previous\" + 0.032*\"market\" + 0.027*\"end\" + 0.026*\"active\"'), (3, '0.064*\"price\" + 0.056*\"contract\" + 0.051*\"crude\" + 0.051*\"futures\" + 0.048*\"exchange\" + 0.046*\"analysts\" + 0.038*\"tocom\" + 0.030*\"fell\" + 0.028*\"accord\" + 0.026*\"cue\"')]\n"
     ]
    }
   ],
   "source": [
    "print(lda_model_best.print_topics())\n",
    "doc_lda_best = lda_model_best[bow_corpus]"
   ]
  },
  {
   "cell_type": "code",
   "execution_count": 133,
   "metadata": {},
   "outputs": [
    {
     "name": "stdout",
     "output_type": "stream",
     "text": [
      "(0, '0.057*\"price\" + 0.048*\"market\" + 0.037*\"rise\" + 0.036*\"natural\" + 0.036*\"domestic\"')\n",
      "(1, '0.021*\"month\" + 0.020*\"year\" + 0.018*\"national\" + 0.017*\"give\" + 0.016*\"multi\"')\n",
      "(2, '0.129*\"rupees\" + 0.074*\"price\" + 0.073*\"contract\" + 0.064*\"close\" + 0.046*\"commodity\"')\n",
      "(3, '0.064*\"price\" + 0.056*\"contract\" + 0.051*\"crude\" + 0.051*\"futures\" + 0.048*\"exchange\"')\n"
     ]
    }
   ],
   "source": [
    "topics_best = lda_model_best.print_topics(num_words=5)\n",
    "for topic in topics_best:\n",
    "    print(topic)"
   ]
  },
  {
   "cell_type": "code",
   "execution_count": 134,
   "metadata": {},
   "outputs": [
    {
     "name": "stdout",
     "output_type": "stream",
     "text": [
      "(0, '0.057*\"price\" + 0.048*\"market\" + 0.037*\"rise\" + 0.036*\"natural\" + 0.036*\"domestic\" + 0.033*\"demand\" + 0.032*\"likely\" + 0.030*\"supply\"')\n",
      "(1, '0.021*\"month\" + 0.020*\"year\" + 0.018*\"national\" + 0.017*\"give\" + 0.016*\"multi\" + 0.015*\"company\" + 0.014*\"index\" + 0.013*\"price\"')\n",
      "(2, '0.129*\"rupees\" + 0.074*\"price\" + 0.073*\"contract\" + 0.064*\"close\" + 0.046*\"commodity\" + 0.043*\"exchange\" + 0.034*\"previous\" + 0.032*\"market\"')\n",
      "(3, '0.064*\"price\" + 0.056*\"contract\" + 0.051*\"crude\" + 0.051*\"futures\" + 0.048*\"exchange\" + 0.046*\"analysts\" + 0.038*\"tocom\" + 0.030*\"fell\"')\n"
     ]
    }
   ],
   "source": [
    "topics_best = lda_model_best.print_topics(num_words=8)\n",
    "for topic in topics_best:\n",
    "    print(topic)"
   ]
  },
  {
   "cell_type": "code",
   "execution_count": 135,
   "metadata": {
    "scrolled": true
   },
   "outputs": [
    {
     "name": "stdout",
     "output_type": "stream",
     "text": [
      "Perplexity:  -5.768329720101713\n"
     ]
    }
   ],
   "source": [
    "print('Perplexity: ', lda_model_best.log_perplexity(bow_corpus)) "
   ]
  },
  {
   "cell_type": "code",
   "execution_count": 136,
   "metadata": {},
   "outputs": [
    {
     "name": "stdout",
     "output_type": "stream",
     "text": [
      "Coherence Score for c_v:  0.7160431196112311\n"
     ]
    }
   ],
   "source": [
    "from gensim.models import CoherenceModel\n",
    "coherence_model_lda_c_v = CoherenceModel(model=lda_model_best, texts=processed_docs, dictionary=dictionary, coherence='c_v')\n",
    "coherence_lda = coherence_model_lda_c_v.get_coherence()\n",
    "print('Coherence Score for c_v: ', coherence_lda)"
   ]
  },
  {
   "cell_type": "code",
   "execution_count": 137,
   "metadata": {},
   "outputs": [],
   "source": [
    "def get_lda_topics(model, num_topics):\n",
    "    word_dict = {};\n",
    "    for i in range(num_topics):\n",
    "        words = model.show_topic(i, topn = 40);\n",
    "        word_dict['Topic #' + '{:02d}'.format(i)] = [i[0] for i in words];\n",
    "    return pd.DataFrame(word_dict)"
   ]
  },
  {
   "cell_type": "code",
   "execution_count": 138,
   "metadata": {},
   "outputs": [
    {
     "data": {
      "text/html": [
       "<div>\n",
       "<style scoped>\n",
       "    .dataframe tbody tr th:only-of-type {\n",
       "        vertical-align: middle;\n",
       "    }\n",
       "\n",
       "    .dataframe tbody tr th {\n",
       "        vertical-align: top;\n",
       "    }\n",
       "\n",
       "    .dataframe thead th {\n",
       "        text-align: right;\n",
       "    }\n",
       "</style>\n",
       "<table border=\"1\" class=\"dataframe\">\n",
       "  <thead>\n",
       "    <tr style=\"text-align: right;\">\n",
       "      <th></th>\n",
       "      <th>Topic #00</th>\n",
       "      <th>Topic #01</th>\n",
       "      <th>Topic #02</th>\n",
       "      <th>Topic #03</th>\n",
       "    </tr>\n",
       "  </thead>\n",
       "  <tbody>\n",
       "    <tr>\n",
       "      <td>0</td>\n",
       "      <td>price</td>\n",
       "      <td>month</td>\n",
       "      <td>rupees</td>\n",
       "      <td>price</td>\n",
       "    </tr>\n",
       "    <tr>\n",
       "      <td>1</td>\n",
       "      <td>market</td>\n",
       "      <td>year</td>\n",
       "      <td>price</td>\n",
       "      <td>contract</td>\n",
       "    </tr>\n",
       "    <tr>\n",
       "      <td>2</td>\n",
       "      <td>rise</td>\n",
       "      <td>national</td>\n",
       "      <td>contract</td>\n",
       "      <td>crude</td>\n",
       "    </tr>\n",
       "    <tr>\n",
       "      <td>3</td>\n",
       "      <td>natural</td>\n",
       "      <td>give</td>\n",
       "      <td>close</td>\n",
       "      <td>futures</td>\n",
       "    </tr>\n",
       "    <tr>\n",
       "      <td>4</td>\n",
       "      <td>domestic</td>\n",
       "      <td>multi</td>\n",
       "      <td>commodity</td>\n",
       "      <td>exchange</td>\n",
       "    </tr>\n",
       "    <tr>\n",
       "      <td>5</td>\n",
       "      <td>demand</td>\n",
       "      <td>company</td>\n",
       "      <td>exchange</td>\n",
       "      <td>analysts</td>\n",
       "    </tr>\n",
       "    <tr>\n",
       "      <td>6</td>\n",
       "      <td>likely</td>\n",
       "      <td>index</td>\n",
       "      <td>previous</td>\n",
       "      <td>tocom</td>\n",
       "    </tr>\n",
       "    <tr>\n",
       "      <td>7</td>\n",
       "      <td>supply</td>\n",
       "      <td>price</td>\n",
       "      <td>market</td>\n",
       "      <td>fell</td>\n",
       "    </tr>\n",
       "    <tr>\n",
       "      <td>8</td>\n",
       "      <td>fall</td>\n",
       "      <td>heavy</td>\n",
       "      <td>end</td>\n",
       "      <td>accord</td>\n",
       "    </tr>\n",
       "    <tr>\n",
       "      <td>9</td>\n",
       "      <td>spot</td>\n",
       "      <td>state</td>\n",
       "      <td>active</td>\n",
       "      <td>cue</td>\n",
       "    </tr>\n",
       "    <tr>\n",
       "      <td>10</td>\n",
       "      <td>traders</td>\n",
       "      <td>export</td>\n",
       "      <td>bourse</td>\n",
       "      <td>natural</td>\n",
       "    </tr>\n",
       "    <tr>\n",
       "      <td>11</td>\n",
       "      <td>come</td>\n",
       "      <td>increase</td>\n",
       "      <td>trade</td>\n",
       "      <td>trade</td>\n",
       "    </tr>\n",
       "    <tr>\n",
       "      <td>12</td>\n",
       "      <td>base</td>\n",
       "      <td>currency</td>\n",
       "      <td>traders</td>\n",
       "      <td>rise</td>\n",
       "    </tr>\n",
       "    <tr>\n",
       "      <td>13</td>\n",
       "      <td>tyre</td>\n",
       "      <td>make</td>\n",
       "      <td>settle</td>\n",
       "      <td>nmce</td>\n",
       "    </tr>\n",
       "    <tr>\n",
       "      <td>14</td>\n",
       "      <td>days</td>\n",
       "      <td>high</td>\n",
       "      <td>variety</td>\n",
       "      <td>week</td>\n",
       "    </tr>\n",
       "    <tr>\n",
       "      <td>15</td>\n",
       "      <td>rain</td>\n",
       "      <td>international</td>\n",
       "      <td>widely</td>\n",
       "      <td>synthetic</td>\n",
       "    </tr>\n",
       "    <tr>\n",
       "      <td>16</td>\n",
       "      <td>comment</td>\n",
       "      <td>compare</td>\n",
       "      <td>spot</td>\n",
       "      <td>dollar</td>\n",
       "    </tr>\n",
       "    <tr>\n",
       "      <td>17</td>\n",
       "      <td>import</td>\n",
       "      <td>expect</td>\n",
       "      <td>rupee</td>\n",
       "      <td>substitute</td>\n",
       "    </tr>\n",
       "    <tr>\n",
       "      <td>18</td>\n",
       "      <td>trader</td>\n",
       "      <td>near</td>\n",
       "      <td>monday</td>\n",
       "      <td>fall</td>\n",
       "    </tr>\n",
       "    <tr>\n",
       "      <td>19</td>\n",
       "      <td>outlook</td>\n",
       "      <td>wholesale</td>\n",
       "      <td>week</td>\n",
       "      <td>commodity</td>\n",
       "    </tr>\n",
       "    <tr>\n",
       "      <td>20</td>\n",
       "      <td>see</td>\n",
       "      <td>market</td>\n",
       "      <td>follow</td>\n",
       "      <td>shanghai</td>\n",
       "    </tr>\n",
       "    <tr>\n",
       "      <td>21</td>\n",
       "      <td>output</td>\n",
       "      <td>denominate</td>\n",
       "      <td>rise</td>\n",
       "      <td>benchmark</td>\n",
       "    </tr>\n",
       "    <tr>\n",
       "      <td>22</td>\n",
       "      <td>gain</td>\n",
       "      <td>manufacture</td>\n",
       "      <td>detail</td>\n",
       "      <td>mercantile</td>\n",
       "    </tr>\n",
       "    <tr>\n",
       "      <td>23</td>\n",
       "      <td>global</td>\n",
       "      <td>report</td>\n",
       "      <td>benchmark</td>\n",
       "      <td>york</td>\n",
       "    </tr>\n",
       "    <tr>\n",
       "      <td>24</td>\n",
       "      <td>production</td>\n",
       "      <td>months</td>\n",
       "      <td>show</td>\n",
       "      <td>warehouse</td>\n",
       "    </tr>\n",
       "    <tr>\n",
       "      <td>25</td>\n",
       "      <td>endus</td>\n",
       "      <td>major</td>\n",
       "      <td>unchanged</td>\n",
       "      <td>track</td>\n",
       "    </tr>\n",
       "    <tr>\n",
       "      <td>26</td>\n",
       "      <td>largest</td>\n",
       "      <td>service</td>\n",
       "      <td>indian</td>\n",
       "      <td>manufacture</td>\n",
       "    </tr>\n",
       "    <tr>\n",
       "      <td>27</td>\n",
       "      <td>expectations</td>\n",
       "      <td>production</td>\n",
       "      <td>sell</td>\n",
       "      <td>gain</td>\n",
       "    </tr>\n",
       "    <tr>\n",
       "      <td>28</td>\n",
       "      <td>remain</td>\n",
       "      <td>country</td>\n",
       "      <td>icex</td>\n",
       "      <td>global</td>\n",
       "    </tr>\n",
       "    <tr>\n",
       "      <td>29</td>\n",
       "      <td>countries</td>\n",
       "      <td>products</td>\n",
       "      <td>higher</td>\n",
       "      <td>stock</td>\n",
       "    </tr>\n",
       "    <tr>\n",
       "      <td>30</td>\n",
       "      <td>tap</td>\n",
       "      <td>release</td>\n",
       "      <td>track</td>\n",
       "      <td>decline</td>\n",
       "    </tr>\n",
       "    <tr>\n",
       "      <td>31</td>\n",
       "      <td>expect</td>\n",
       "      <td>buyers</td>\n",
       "      <td>futures</td>\n",
       "      <td>compare</td>\n",
       "    </tr>\n",
       "    <tr>\n",
       "      <td>32</td>\n",
       "      <td>arrivals</td>\n",
       "      <td>department</td>\n",
       "      <td>gain</td>\n",
       "      <td>support</td>\n",
       "    </tr>\n",
       "    <tr>\n",
       "      <td>33</td>\n",
       "      <td>support</td>\n",
       "      <td>period</td>\n",
       "      <td>high</td>\n",
       "      <td>higher</td>\n",
       "    </tr>\n",
       "    <tr>\n",
       "      <td>34</td>\n",
       "      <td>sharp</td>\n",
       "      <td>stock</td>\n",
       "      <td>lower</td>\n",
       "      <td>weigh</td>\n",
       "    </tr>\n",
       "    <tr>\n",
       "      <td>35</td>\n",
       "      <td>stockists</td>\n",
       "      <td>earlier</td>\n",
       "      <td>weakness</td>\n",
       "      <td>month</td>\n",
       "    </tr>\n",
       "    <tr>\n",
       "      <td>36</td>\n",
       "      <td>sessions</td>\n",
       "      <td>auto</td>\n",
       "      <td>month</td>\n",
       "      <td>accredit</td>\n",
       "    </tr>\n",
       "    <tr>\n",
       "      <td>37</td>\n",
       "      <td>manufacturers</td>\n",
       "      <td>flood</td>\n",
       "      <td>buy</td>\n",
       "      <td>lower</td>\n",
       "    </tr>\n",
       "    <tr>\n",
       "      <td>38</td>\n",
       "      <td>association</td>\n",
       "      <td>quarter</td>\n",
       "      <td>natural</td>\n",
       "      <td>weak</td>\n",
       "    </tr>\n",
       "    <tr>\n",
       "      <td>39</td>\n",
       "      <td>season</td>\n",
       "      <td>take</td>\n",
       "      <td>steady</td>\n",
       "      <td>concern</td>\n",
       "    </tr>\n",
       "  </tbody>\n",
       "</table>\n",
       "</div>"
      ],
      "text/plain": [
       "        Topic #00      Topic #01  Topic #02    Topic #03\n",
       "0           price          month     rupees        price\n",
       "1          market           year      price     contract\n",
       "2            rise       national   contract        crude\n",
       "3         natural           give      close      futures\n",
       "4        domestic          multi  commodity     exchange\n",
       "5          demand        company   exchange     analysts\n",
       "6          likely          index   previous        tocom\n",
       "7          supply          price     market         fell\n",
       "8            fall          heavy        end       accord\n",
       "9            spot          state     active          cue\n",
       "10        traders         export     bourse      natural\n",
       "11           come       increase      trade        trade\n",
       "12           base       currency    traders         rise\n",
       "13           tyre           make     settle         nmce\n",
       "14           days           high    variety         week\n",
       "15           rain  international     widely    synthetic\n",
       "16        comment        compare       spot       dollar\n",
       "17         import         expect      rupee   substitute\n",
       "18         trader           near     monday         fall\n",
       "19        outlook      wholesale       week    commodity\n",
       "20            see         market     follow     shanghai\n",
       "21         output     denominate       rise    benchmark\n",
       "22           gain    manufacture     detail   mercantile\n",
       "23         global         report  benchmark         york\n",
       "24     production         months       show    warehouse\n",
       "25          endus          major  unchanged        track\n",
       "26        largest        service     indian  manufacture\n",
       "27   expectations     production       sell         gain\n",
       "28         remain        country       icex       global\n",
       "29      countries       products     higher        stock\n",
       "30            tap        release      track      decline\n",
       "31         expect         buyers    futures      compare\n",
       "32       arrivals     department       gain      support\n",
       "33        support         period       high       higher\n",
       "34          sharp          stock      lower        weigh\n",
       "35      stockists        earlier   weakness        month\n",
       "36       sessions           auto      month     accredit\n",
       "37  manufacturers          flood        buy        lower\n",
       "38    association        quarter    natural         weak\n",
       "39         season           take     steady      concern"
      ]
     },
     "execution_count": 138,
     "metadata": {},
     "output_type": "execute_result"
    }
   ],
   "source": [
    "get_lda_topics(lda_model_best, 4)"
   ]
  },
  {
   "cell_type": "markdown",
   "metadata": {},
   "source": [
    "## Visualize topic keywords from best model"
   ]
  },
  {
   "cell_type": "code",
   "execution_count": 139,
   "metadata": {
    "scrolled": true
   },
   "outputs": [],
   "source": [
    "dictionary = gensim.corpora.Dictionary.load('dictionary.gensim')\n",
    "corpus = pickle.load(open('corpus.pkl', 'rb'))\n",
    "lda = gensim.models.ldamodel.LdaModel.load('model_bow_best.gensim')"
   ]
  },
  {
   "cell_type": "code",
   "execution_count": 140,
   "metadata": {},
   "outputs": [
    {
     "name": "stderr",
     "output_type": "stream",
     "text": [
      "C:\\ProgramData\\Anaconda3\\lib\\site-packages\\pyLDAvis\\_prepare.py:257: FutureWarning: Sorting because non-concatenation axis is not aligned. A future version\n",
      "of pandas will change to not sort by default.\n",
      "\n",
      "To accept the future behavior, pass 'sort=False'.\n",
      "\n",
      "To retain the current behavior and silence the warning, pass 'sort=True'.\n",
      "\n",
      "  return pd.concat([default_term_info] + list(topic_dfs))\n"
     ]
    },
    {
     "data": {
      "text/html": [
       "\n",
       "<link rel=\"stylesheet\" type=\"text/css\" href=\"https://cdn.rawgit.com/bmabey/pyLDAvis/files/ldavis.v1.0.0.css\">\n",
       "\n",
       "\n",
       "<div id=\"ldavis_el2370423750629687768955476595\"></div>\n",
       "<script type=\"text/javascript\">\n",
       "\n",
       "var ldavis_el2370423750629687768955476595_data = {\"mdsDat\": {\"x\": [0.02377976942788677, 0.3571468698836535, -0.23917309878150117, -0.1417535405300391], \"y\": [0.33408540539014564, -0.12536055254270548, -0.0743194516617314, -0.1344054011857086], \"topics\": [1, 2, 3, 4], \"cluster\": [1, 1, 1, 1], \"Freq\": [27.7921199798584, 30.717424392700195, 22.963382720947266, 18.527074813842773]}, \"tinfo\": {\"Category\": [\"Default\", \"Default\", \"Default\", \"Default\", \"Default\", \"Default\", \"Default\", \"Default\", \"Default\", \"Default\", \"Default\", \"Default\", \"Default\", \"Default\", \"Default\", \"Default\", \"Default\", \"Default\", \"Default\", \"Default\", \"Default\", \"Default\", \"Default\", \"Default\", \"Default\", \"Default\", \"Default\", \"Default\", \"Default\", \"Default\", \"Topic1\", \"Topic1\", \"Topic1\", \"Topic1\", \"Topic1\", \"Topic1\", \"Topic1\", \"Topic1\", \"Topic1\", \"Topic1\", \"Topic1\", \"Topic1\", \"Topic1\", \"Topic1\", \"Topic1\", \"Topic1\", \"Topic1\", \"Topic1\", \"Topic1\", \"Topic1\", \"Topic1\", \"Topic1\", \"Topic1\", \"Topic1\", \"Topic1\", \"Topic1\", \"Topic1\", \"Topic1\", \"Topic1\", \"Topic1\", \"Topic1\", \"Topic1\", \"Topic1\", \"Topic1\", \"Topic1\", \"Topic1\", \"Topic1\", \"Topic1\", \"Topic1\", \"Topic1\", \"Topic1\", \"Topic1\", \"Topic1\", \"Topic1\", \"Topic1\", \"Topic1\", \"Topic1\", \"Topic2\", \"Topic2\", \"Topic2\", \"Topic2\", \"Topic2\", \"Topic2\", \"Topic2\", \"Topic2\", \"Topic2\", \"Topic2\", \"Topic2\", \"Topic2\", \"Topic2\", \"Topic2\", \"Topic2\", \"Topic2\", \"Topic2\", \"Topic2\", \"Topic2\", \"Topic2\", \"Topic2\", \"Topic2\", \"Topic2\", \"Topic2\", \"Topic2\", \"Topic2\", \"Topic2\", \"Topic2\", \"Topic2\", \"Topic2\", \"Topic2\", \"Topic2\", \"Topic2\", \"Topic2\", \"Topic2\", \"Topic2\", \"Topic2\", \"Topic2\", \"Topic2\", \"Topic2\", \"Topic2\", \"Topic2\", \"Topic2\", \"Topic2\", \"Topic2\", \"Topic2\", \"Topic2\", \"Topic2\", \"Topic2\", \"Topic2\", \"Topic2\", \"Topic2\", \"Topic2\", \"Topic3\", \"Topic3\", \"Topic3\", \"Topic3\", \"Topic3\", \"Topic3\", \"Topic3\", \"Topic3\", \"Topic3\", \"Topic3\", \"Topic3\", \"Topic3\", \"Topic3\", \"Topic3\", \"Topic3\", \"Topic3\", \"Topic3\", \"Topic3\", \"Topic3\", \"Topic3\", \"Topic3\", \"Topic3\", \"Topic3\", \"Topic3\", \"Topic3\", \"Topic3\", \"Topic3\", \"Topic3\", \"Topic3\", \"Topic3\", \"Topic3\", \"Topic3\", \"Topic3\", \"Topic3\", \"Topic3\", \"Topic3\", \"Topic3\", \"Topic3\", \"Topic3\", \"Topic3\", \"Topic3\", \"Topic3\", \"Topic3\", \"Topic3\", \"Topic3\", \"Topic4\", \"Topic4\", \"Topic4\", \"Topic4\", \"Topic4\", \"Topic4\", \"Topic4\", \"Topic4\", \"Topic4\", \"Topic4\", \"Topic4\", \"Topic4\", \"Topic4\", \"Topic4\", \"Topic4\", \"Topic4\", \"Topic4\", \"Topic4\", \"Topic4\", \"Topic4\", \"Topic4\", \"Topic4\", \"Topic4\", \"Topic4\", \"Topic4\", \"Topic4\", \"Topic4\", \"Topic4\", \"Topic4\", \"Topic4\", \"Topic4\", \"Topic4\", \"Topic4\", \"Topic4\", \"Topic4\", \"Topic4\", \"Topic4\", \"Topic4\", \"Topic4\", \"Topic4\", \"Topic4\", \"Topic4\", \"Topic4\", \"Topic4\", \"Topic4\", \"Topic4\", \"Topic4\", \"Topic4\", \"Topic4\", \"Topic4\", \"Topic4\", \"Topic4\", \"Topic4\", \"Topic4\", \"Topic4\", \"Topic4\", \"Topic4\"], \"Freq\": [3275.0, 3001.0, 1624.0, 2088.0, 1055.0, 955.0, 1316.0, 1457.0, 783.0, 1005.0, 872.0, 1001.0, 1173.0, 912.0, 5426.0, 2525.0, 619.0, 679.0, 1678.0, 638.0, 541.0, 1161.0, 749.0, 687.0, 687.0, 1272.0, 1228.0, 619.0, 1940.0, 599.0, 1000.8927612304688, 1005.1502685546875, 912.1898193359375, 687.0571899414062, 599.2318115234375, 559.251953125, 619.501220703125, 411.9082336425781, 386.6861267089844, 438.22149658203125, 398.20501708984375, 266.81298828125, 253.41102600097656, 253.78131103515625, 238.63702392578125, 207.8889617919922, 199.1474151611328, 181.6395263671875, 161.40098571777344, 159.83187866210938, 179.02830505371094, 303.19000244140625, 119.28887176513672, 130.87808227539062, 127.17708587646484, 155.51715087890625, 148.07431030273438, 103.7482681274414, 96.51902770996094, 148.33599853515625, 549.8950805664062, 275.7835693359375, 1096.860595703125, 214.48956298828125, 449.7287902832031, 488.9850158691406, 846.81298828125, 1101.5081787109375, 1468.8951416015625, 1132.6434326171875, 775.8512573242188, 748.3973388671875, 1756.91162109375, 263.0513610839844, 341.2895812988281, 370.79071044921875, 309.0084228515625, 466.9926452636719, 440.5916442871094, 347.1192321777344, 324.8032531738281, 317.1893005371094, 317.92486572265625, 208.19517517089844, 222.21051025390625, 200.6990509033203, 194.50811767578125, 168.1986846923828, 184.668212890625, 160.40943908691406, 184.51962280273438, 212.70619201660156, 174.11851501464844, 143.96885681152344, 147.12158203125, 179.9251251220703, 139.21234130859375, 137.1063995361328, 153.06393432617188, 129.12388610839844, 127.29920959472656, 120.96500396728516, 252.87184143066406, 115.4546890258789, 134.55819702148438, 113.81404113769531, 126.80397033691406, 619.4052124023438, 589.4766845703125, 544.8421630859375, 238.0348663330078, 162.31716918945312, 253.79537963867188, 527.3597412109375, 687.66015625, 417.4352111816406, 718.7188720703125, 289.7720031738281, 230.31080627441406, 184.94732666015625, 210.7843780517578, 308.0540771484375, 206.75460815429688, 275.8232727050781, 260.3274841308594, 237.7349395751953, 458.11932373046875, 212.7509765625, 244.5031280517578, 212.2575225830078, 3274.91259765625, 1623.77490234375, 872.1401977539062, 679.5234375, 638.2022705078125, 473.3097229003906, 482.85638427734375, 425.58929443359375, 470.4169616699219, 376.5284423828125, 331.74420166015625, 306.5627136230469, 309.64666748046875, 294.940673828125, 119.67354583740234, 78.73442077636719, 75.66629028320312, 64.19791412353516, 63.741973876953125, 64.7403793334961, 48.52939224243164, 34.146820068359375, 27.587024688720703, 99.98372650146484, 30.527963638305664, 654.3922119140625, 62.12393569946289, 10.393622398376465, 5.226426124572754, 355.6670837402344, 405.5029602050781, 1160.723388671875, 397.11431884765625, 1852.8787841796875, 1094.398681640625, 368.4711608886719, 1890.516845703125, 562.3298950195312, 398.42657470703125, 280.6483154296875, 523.3692626953125, 811.5974731445312, 452.31805419921875, 281.2535095214844, 383.7574157714844, 1054.6361083984375, 954.8843383789062, 783.3317260742188, 541.2555541992188, 618.6317749023438, 315.15771484375, 293.1177978515625, 281.9574890136719, 316.0506591796875, 277.0955505371094, 144.00758361816406, 125.7565689086914, 90.94359588623047, 74.68599700927734, 67.74617767333984, 60.546775817871094, 52.876461029052734, 44.23090744018555, 40.893428802490234, 40.638980865478516, 55.69514083862305, 35.13760757446289, 38.50431823730469, 31.074804306030273, 23.765933990478516, 30.797948837280273, 36.298404693603516, 21.57274627685547, 15.904739379882812, 19.96952247619629, 328.2768859863281, 124.85851287841797, 42.713584899902344, 340.2575378417969, 1042.1376953125, 575.2091674804688, 251.24085998535156, 92.82322692871094, 127.67403411865234, 993.792236328125, 109.35552215576172, 1148.5087890625, 93.18197631835938, 337.37933349609375, 448.5704345703125, 1321.4407958984375, 203.5179901123047, 283.6703796386719, 206.09432983398438, 222.42050170898438, 238.18838500976562, 466.4076843261719, 424.36029052734375, 314.0745544433594, 296.2788391113281, 206.1057586669922, 221.36448669433594], \"Term\": [\"rupees\", \"contract\", \"close\", \"exchange\", \"crude\", \"analysts\", \"futures\", \"commodity\", \"tocom\", \"demand\", \"previous\", \"likely\", \"domestic\", \"supply\", \"price\", \"market\", \"fell\", \"end\", \"natural\", \"bourse\", \"cue\", \"fall\", \"accord\", \"come\", \"active\", \"traders\", \"spot\", \"base\", \"rise\", \"tyre\", \"likely\", \"demand\", \"supply\", \"come\", \"tyre\", \"days\", \"base\", \"outlook\", \"output\", \"trader\", \"see\", \"expectations\", \"tap\", \"countries\", \"arrivals\", \"stockists\", \"sessions\", \"association\", \"crunch\", \"subdue\", \"season\", \"endus\", \"ongoing\", \"extend\", \"alencherry\", \"consumption\", \"add\", \"expectation\", \"owner\", \"sentiment\", \"rain\", \"largest\", \"domestic\", \"sharp\", \"import\", \"comment\", \"fall\", \"natural\", \"market\", \"rise\", \"spot\", \"traders\", \"price\", \"remain\", \"global\", \"gain\", \"production\", \"index\", \"heavy\", \"export\", \"increase\", \"make\", \"currency\", \"products\", \"months\", \"department\", \"period\", \"power\", \"auto\", \"fuel\", \"flood\", \"service\", \"research\", \"government\", \"growth\", \"quarter\", \"capital\", \"sales\", \"meteorological\", \"total\", \"raise\", \"rate\", \"wholesale\", \"time\", \"short\", \"food\", \"receive\", \"national\", \"give\", \"multi\", \"denominate\", \"overseas\", \"near\", \"company\", \"year\", \"state\", \"month\", \"international\", \"report\", \"earlier\", \"country\", \"high\", \"release\", \"compare\", \"expect\", \"manufacture\", \"price\", \"major\", \"market\", \"production\", \"rupees\", \"close\", \"previous\", \"end\", \"bourse\", \"variety\", \"settle\", \"rupee\", \"widely\", \"detail\", \"unchanged\", \"sell\", \"indian\", \"icex\", \"buy\", \"shut\", \"participants\", \"unavailable\", \"tail\", \"flat\", \"bargain\", \"resume\", \"sellers\", \"quote\", \"holiday\", \"active\", \"fresh\", \"volumes\", \"bangkok\", \"show\", \"monday\", \"commodity\", \"follow\", \"contract\", \"exchange\", \"benchmark\", \"price\", \"trade\", \"week\", \"track\", \"traders\", \"market\", \"spot\", \"higher\", \"rise\", \"crude\", \"analysts\", \"tocom\", \"cue\", \"fell\", \"substitute\", \"shanghai\", \"mercantile\", \"dollar\", \"york\", \"accredit\", \"nymex\", \"book\", \"deal\", \"tariff\", \"tensions\", \"escalate\", \"trump\", \"barrel\", \"delivery\", \"singapore\", \"donald\", \"sanction\", \"slip\", \"upside\", \"lacklustre\", \"session\", \"economies\", \"information\", \"touch\", \"synthetic\", \"investors\", \"president\", \"nmce\", \"futures\", \"accord\", \"warehouse\", \"analyst\", \"inventory\", \"exchange\", \"cheaper\", \"contract\", \"firm\", \"week\", \"trade\", \"price\", \"decline\", \"benchmark\", \"stock\", \"manufacture\", \"track\", \"natural\", \"rise\", \"fall\", \"commodity\", \"global\", \"gain\"], \"Total\": [3275.0, 3001.0, 1624.0, 2088.0, 1055.0, 955.0, 1316.0, 1457.0, 783.0, 1005.0, 872.0, 1001.0, 1173.0, 912.0, 5426.0, 2525.0, 619.0, 679.0, 1678.0, 638.0, 541.0, 1161.0, 749.0, 687.0, 687.0, 1272.0, 1228.0, 619.0, 1940.0, 599.0, 1001.2977905273438, 1005.559326171875, 912.6143798828125, 687.4683837890625, 599.654296875, 559.6652221679688, 619.9949340820312, 412.3668518066406, 387.1180419921875, 438.725341796875, 398.67132568359375, 267.2115173339844, 253.82850646972656, 254.2029266357422, 239.0464630126953, 208.2606201171875, 199.55831909179688, 182.0441436767578, 161.77366638183594, 160.23504638671875, 179.536865234375, 304.0825500488281, 119.66647338867188, 131.29603576660156, 127.6181640625, 156.07427978515625, 148.63462829589844, 104.14805603027344, 96.89192199707031, 148.91566467285156, 553.1302490234375, 277.13214111328125, 1173.9981689453125, 226.3661346435547, 516.178955078125, 593.5455932617188, 1161.2247314453125, 1678.3369140625, 2525.12109375, 1940.9638671875, 1228.459228515625, 1272.040771484375, 5426.98876953125, 328.5077209472656, 547.6888427734375, 811.9423828125, 521.5045166015625, 467.37518310546875, 441.0358581542969, 347.5047302246094, 325.1645812988281, 317.6112365722656, 318.3831787109375, 208.53732299804688, 222.59542846679688, 201.0771942138672, 194.87844848632812, 168.5394744873047, 185.06103515625, 160.75253295898438, 184.91648864746094, 213.1837921142578, 174.52557373046875, 144.30575561523438, 147.4659423828125, 180.35813903808594, 139.55259704589844, 137.4552001953125, 153.4718780517578, 129.47723388671875, 127.65425872802734, 121.30270385742188, 253.58584594726562, 115.80193328857422, 134.96682739257812, 114.16490173339844, 127.20386505126953, 621.4495849609375, 592.792724609375, 548.5380859375, 238.88658142089844, 162.91348266601562, 257.9397888183594, 608.5088500976562, 855.0625610351562, 515.6066284179688, 998.7402954101562, 345.0049133300781, 282.75811767578125, 207.65576171875, 269.86749267578125, 608.73779296875, 269.3045349121094, 565.9459838867188, 509.63226318359375, 460.4018249511719, 5426.98876953125, 358.9831848144531, 2525.12109375, 521.5045166015625, 3275.366943359375, 1624.210205078125, 872.564208984375, 679.9407348632812, 638.6372680664062, 473.6956481933594, 483.32257080078125, 426.025634765625, 470.8992614746094, 376.9874572753906, 332.1678466796875, 306.9796142578125, 310.0865783691406, 295.42645263671875, 120.18019104003906, 79.15116119384766, 76.07686614990234, 64.61663818359375, 64.2056884765625, 65.25564575195312, 48.927955627441406, 34.584938049316406, 28.168546676635742, 104.21831512451172, 32.01512145996094, 687.5669555664062, 65.49158477783203, 11.092997550964355, 5.664456367492676, 392.5554504394531, 486.38238525390625, 1457.3408203125, 541.884521484375, 3001.68212890625, 2088.4912109375, 652.43994140625, 5426.98876953125, 1125.637939453125, 736.177734375, 519.1353759765625, 1272.040771484375, 2525.12109375, 1228.459228515625, 568.0541381835938, 1940.9638671875, 1055.061279296875, 955.321044921875, 783.7412109375, 541.6666870117188, 619.1087646484375, 315.56475830078125, 293.52099609375, 282.35247802734375, 316.49395751953125, 277.49017333984375, 144.42269897460938, 126.1667709350586, 91.3630599975586, 75.13597869873047, 68.18562316894531, 60.968894958496094, 53.343257904052734, 44.64667892456055, 41.29329299926758, 41.06770706176758, 56.35008239746094, 35.55107116699219, 38.98051452636719, 31.56607437133789, 24.19382095336914, 31.400636672973633, 37.108516693115234, 22.117136001586914, 16.3121337890625, 20.54248809814453, 353.09991455078125, 134.96133422851562, 44.825862884521484, 398.1680908203125, 1316.607177734375, 749.373291015625, 308.22637939453125, 105.53145599365234, 165.1602783203125, 2088.4912109375, 142.97714233398438, 3001.68212890625, 122.4574203491211, 736.177734375, 1125.637939453125, 5426.98876953125, 384.0614013671875, 652.43994140625, 399.34307861328125, 460.4018249511719, 519.1353759765625, 1678.3369140625, 1940.9638671875, 1161.2247314453125, 1457.3408203125, 547.6888427734375, 811.9423828125], \"loglift\": [30.0, 29.0, 28.0, 27.0, 26.0, 25.0, 24.0, 23.0, 22.0, 21.0, 20.0, 19.0, 18.0, 17.0, 16.0, 15.0, 14.0, 13.0, 12.0, 11.0, 10.0, 9.0, 8.0, 7.0, 6.0, 5.0, 4.0, 3.0, 2.0, 1.0, 1.2799999713897705, 1.2799999713897705, 1.2799999713897705, 1.2798000574111938, 1.2797000408172607, 1.2797000408172607, 1.2796000242233276, 1.2792999744415283, 1.2792999744415283, 1.2792999744415283, 1.2791999578475952, 1.2789000272750854, 1.2788000106811523, 1.2788000106811523, 1.2786999940872192, 1.2785999774932861, 1.27839994430542, 1.2782000303268433, 1.2781000137329102, 1.277899980545044, 1.2776000499725342, 1.277500033378601, 1.2773000001907349, 1.2771999835968018, 1.2769999504089355, 1.2768000364303589, 1.2766000032424927, 1.2766000032424927, 1.2766000032424927, 1.2764999866485596, 1.2746000289916992, 1.2755000591278076, 1.212499976158142, 1.2265000343322754, 1.1426000595092773, 1.0865999460220337, 0.9646999835968018, 0.8593000173568726, 0.7386000156402588, 0.7418000102043152, 0.820900022983551, 0.75, 0.1526000052690506, 1.0582000017166138, 0.8073999881744385, 0.4966000020503998, 0.757099986076355, 1.1794999837875366, 1.1792999505996704, 1.1792000532150269, 1.1792000532150269, 1.1790000200271606, 1.1789000034332275, 1.1786999702453613, 1.1785999536514282, 1.1785000562667847, 1.1784000396728516, 1.1783000230789185, 1.1782000064849854, 1.1782000064849854, 1.1782000064849854, 1.1780999898910522, 1.1779999732971191, 1.1779999732971191, 1.1779999732971191, 1.177899956703186, 1.177899956703186, 1.1778000593185425, 1.1777000427246094, 1.1776000261306763, 1.1776000261306763, 1.1776000261306763, 1.1775000095367432, 1.177299976348877, 1.177299976348877, 1.177299976348877, 1.1771999597549438, 1.1770000457763672, 1.1747000217437744, 1.1735999584197998, 1.176800012588501, 1.1766999959945679, 1.1641000509262085, 1.0371999740600586, 0.9624999761581421, 0.9690999984741211, 0.8513000011444092, 1.0059000253677368, 0.9751999974250793, 1.0644999742507935, 0.9332000017166138, 0.4991999864578247, 0.9160000085830688, 0.46160000562667847, 0.5085999965667725, 0.5194000005722046, -1.291700005531311, 0.6571999788284302, -1.1545000076293945, 0.28139999508857727, 1.4710999727249146, 1.4709999561309814, 1.4708000421524048, 1.4707000255584717, 1.4706000089645386, 1.4704999923706055, 1.4702999591827393, 1.4701999425888062, 1.4701999425888062, 1.4701000452041626, 1.4700000286102295, 1.4699000120162964, 1.4697999954223633, 1.469599962234497, 1.4670000076293945, 1.465999960899353, 1.46589994430542, 1.4648000001907349, 1.4639999866485596, 1.4632999897003174, 1.4630999565124512, 1.4585000276565552, 1.4503999948501587, 1.429800033569336, 1.423699975013733, 1.4218000173568726, 1.4184999465942383, 1.4061000347137451, 1.3907999992370605, 1.3725999593734741, 1.2893999814987183, 1.2437000274658203, 1.1604000329971313, 0.9887999892234802, 0.824999988079071, 0.8999000191688538, 0.41670000553131104, 0.7773000001907349, 0.8572999835014343, 0.8561999797821045, 0.5831999778747559, 0.3361999988555908, 0.47209998965263367, 0.7682999968528748, -0.14970000088214874, 1.6855000257492065, 1.6855000257492065, 1.6854000091552734, 1.6851999759674072, 1.6851999759674072, 1.6845999956130981, 1.6845999956130981, 1.684499979019165, 1.684499979019165, 1.684499979019165, 1.6830999851226807, 1.6827000379562378, 1.6813000440597534, 1.679900050163269, 1.6794999837875366, 1.6790000200271606, 1.6770999431610107, 1.6765999794006348, 1.676200032234192, 1.6754000186920166, 1.6742000579833984, 1.6742000579833984, 1.6735999584197998, 1.670300006866455, 1.6680999994277954, 1.666599988937378, 1.6639000177383423, 1.6610000133514404, 1.660599946975708, 1.6576000452041626, 1.6130000352859497, 1.6081000566482544, 1.6376999616622925, 1.5288000106811523, 1.4522000551223755, 1.4213999509811401, 1.4815000295639038, 1.5576000213623047, 1.4285000562667847, 0.9433000087738037, 1.4178999662399292, 0.7251999974250793, 1.4127000570297241, 0.9057000279426575, 0.7659000158309937, 0.2732999920845032, 1.0508999824523926, 0.8529999852180481, 1.0245000123977661, 0.9584000110626221, 0.9067999720573425, 0.40540000796318054, 0.1656000018119812, 0.3783000111579895, 0.09290000051259995, 0.7085999846458435, 0.3862999975681305], \"logprob\": [30.0, 29.0, 28.0, 27.0, 26.0, 25.0, 24.0, 23.0, 22.0, 21.0, 20.0, 19.0, 18.0, 17.0, 16.0, 15.0, 14.0, 13.0, 12.0, 11.0, 10.0, 9.0, 8.0, 7.0, 6.0, 5.0, 4.0, 3.0, 2.0, 1.0, -3.4274001121520996, -3.423099994659424, -3.52020001411438, -3.8036000728607178, -3.9403998851776123, -4.009399890899658, -3.907099962234497, -4.315199851989746, -4.378399848937988, -4.253300189971924, -4.349100112915039, -4.749499797821045, -4.801000118255615, -4.799600124359131, -4.861100196838379, -4.999000072479248, -5.041999816894531, -5.133999824523926, -5.252099990844727, -5.261899948120117, -5.148499965667725, -4.621699810028076, -5.554500102996826, -5.4618000984191895, -5.4903998374938965, -5.289299964904785, -5.3383002281188965, -5.6940999031066895, -5.766300201416016, -5.33650016784668, -4.026299953460693, -4.716400146484375, -3.3357999324798584, -4.967800140380859, -4.227399826049805, -4.143700122833252, -3.5945000648498535, -3.3315999507904053, -3.043800115585327, -3.3036999702453613, -3.6821000576019287, -3.718100070953369, -2.8647000789642334, -4.763700008392334, -4.503300189971924, -4.420400142669678, -4.602700233459473, -4.28980016708374, -4.3480000495910645, -4.586400032043457, -4.652900218963623, -4.676599979400635, -4.674300193786621, -5.097599983215332, -5.03249979019165, -5.134300231933594, -5.165599822998047, -5.310999870300293, -5.21750020980835, -5.358399868011475, -5.218400001525879, -5.076200008392334, -5.276400089263916, -5.4664998054504395, -5.444799900054932, -5.243599891662598, -5.500100135803223, -5.515399932861328, -5.405300140380859, -5.575300216674805, -5.589600086212158, -5.640600204467773, -4.903200149536133, -5.68720006942749, -5.53410005569458, -5.701499938964844, -5.593500137329102, -4.007299900054932, -4.0569000244140625, -4.1356000900268555, -4.963699817657471, -5.34660005569458, -4.899600028991699, -4.1682000160217285, -3.9028000831604004, -4.4019999504089355, -3.858599901199341, -4.767000198364258, -4.996699810028076, -5.216000080108643, -5.085299968719482, -4.7058000564575195, -5.104599952697754, -4.816299915313721, -4.874199867248535, -4.965000152587891, -4.309000015258789, -5.076000213623047, -4.9369001388549805, -5.0782999992370605, -2.051100015640259, -2.752700090408325, -3.3742001056671143, -3.623800039291382, -3.686500072479248, -3.9853999614715576, -3.9655001163482666, -4.091700077056885, -3.9916000366210938, -4.214200019836426, -4.340799808502197, -4.4197998046875, -4.4096999168396, -4.458399772644043, -5.360400199890137, -5.779099941253662, -5.81879997253418, -5.9832000732421875, -5.990300178527832, -5.974800109863281, -6.263000011444092, -6.614500045776367, -6.8277997970581055, -5.540200233459473, -6.726500034332275, -3.6614999771118164, -6.015999794006348, -7.803999900817871, -8.491399765014648, -4.271200180053711, -4.139999866485596, -3.088399887084961, -4.160999774932861, -2.620699882507324, -3.147200107574463, -4.235799789428711, -2.600600004196167, -3.8131000995635986, -4.157700061798096, -4.5081000328063965, -3.8849000930786133, -3.446199893951416, -4.030799865722656, -4.505899906158447, -4.195199966430664, -2.969599962234497, -3.0689001083374023, -3.2669999599456787, -3.6366000175476074, -3.503000020980835, -4.1774001121521, -4.249899864196777, -4.28879976272583, -4.174600124359131, -4.306099891662598, -4.960599899291992, -5.096199989318848, -5.420300006866455, -5.617199897766113, -5.714700222015381, -5.827099800109863, -5.962600231170654, -6.14109992980957, -6.2195000648498535, -6.225800037384033, -5.910600185394287, -6.371200084686279, -6.279699802398682, -6.494100093841553, -6.76230001449585, -6.5030999183654785, -6.338699817657471, -6.859099864959717, -7.163899898529053, -6.936299800872803, -4.13670015335083, -5.103300094604492, -6.176000118255615, -4.100800037384033, -2.9814999103546143, -3.5757999420166016, -4.404099941253662, -5.399799823760986, -5.080999851226807, -3.0290000438690186, -5.235899925231934, -2.8842999935150146, -5.395999908447266, -4.109300136566162, -3.824399948120117, -2.74399995803833, -4.614799976348877, -4.282700061798096, -4.602200031280518, -4.525899887084961, -4.457399845123291, -3.7855000495910645, -3.8798999786376953, -4.1809000968933105, -4.239200115203857, -4.602099895477295, -4.530700206756592]}, \"token.table\": {\"Topic\": [2, 4, 4, 3, 4, 1, 1, 2, 4, 4, 1, 1, 2, 3, 3, 4, 1, 3, 4, 4, 3, 3, 2, 2, 4, 3, 1, 1, 2, 3, 4, 1, 2, 2, 3, 4, 1, 3, 4, 1, 1, 2, 4, 4, 1, 4, 2, 1, 4, 1, 2, 4, 4, 1, 2, 4, 2, 3, 4, 1, 3, 4, 2, 4, 4, 3, 1, 4, 3, 4, 1, 2, 1, 1, 2, 1, 1, 4, 4, 2, 3, 4, 3, 2, 1, 3, 2, 3, 4, 2, 3, 4, 1, 3, 4, 2, 3, 1, 4, 2, 2, 2, 2, 3, 4, 1, 3, 4, 2, 3, 3, 1, 4, 2, 2, 3, 4, 1, 2, 2, 4, 3, 4, 4, 1, 2, 1, 1, 2, 2, 2, 4, 1, 2, 3, 4, 2, 2, 3, 4, 2, 3, 4, 2, 2, 3, 4, 2, 3, 4, 1, 3, 4, 2, 4, 1, 2, 3, 4, 4, 1, 1, 1, 2, 1, 3, 2, 2, 2, 4, 3, 1, 2, 3, 4, 1, 2, 2, 2, 3, 4, 1, 2, 2, 2, 2, 1, 2, 1, 2, 2, 4, 2, 3, 1, 3, 4, 3, 3, 2, 4, 1, 1, 3, 3, 1, 2, 1, 4, 1, 3, 4, 1, 4, 2, 3, 4, 3, 4, 4, 1, 3, 1, 2, 4, 2, 4, 1, 1, 4, 1, 2, 4, 3, 1, 4, 4, 2, 4, 2, 4, 3, 4, 2, 3, 4, 1, 1, 3, 4, 1, 3, 3, 4, 3, 3, 2, 4, 3, 4, 2, 3, 1, 2, 4], \"Freq\": [0.23219402134418488, 0.7673078179359436, 0.9970731735229492, 0.951180100440979, 0.047995325177907944, 0.9957302808761597, 0.9951561689376831, 0.11371017247438431, 0.8812538385391235, 0.9996639490127563, 0.9998056292533875, 0.9997575283050537, 0.9996702075004578, 0.8826972246170044, 1.0014724731445312, 0.9928973317146301, 1.000008225440979, 0.5640366077423096, 0.4352891147136688, 0.9960261583328247, 0.9990021586418152, 0.998500645160675, 0.9960402250289917, 0.2308061271905899, 0.762359619140625, 0.9998705983161926, 0.9993186593055725, 0.8238625526428223, 0.17521820962429047, 0.7966564893722534, 0.20310966670513153, 0.13311228156089783, 0.8660514950752258, 0.48767906427383423, 0.15902577340602875, 0.3533906042575836, 0.9995240569114685, 0.6173205375671387, 0.3827853798866272, 0.9992017149925232, 0.11116566509008408, 0.7818651795387268, 0.1074601486325264, 0.9999419450759888, 0.9952176213264465, 0.9987691640853882, 0.9987964630126953, 0.9988113641738892, 0.9981902241706848, 0.26297879219055176, 0.20830002427101135, 0.5311650633811951, 0.9983513355255127, 0.999443769454956, 0.9962887167930603, 0.004186086822301149, 0.9996160864830017, 1.0000332593917847, 0.9984393119812012, 0.934413731098175, 0.0655878335237503, 0.9844991564750671, 0.8908975124359131, 0.10594456642866135, 0.9947038292884827, 1.0000871419906616, 0.9964399337768555, 0.9935650825500488, 0.5238231420516968, 0.47594165802001953, 0.4885875880718231, 0.5101717710494995, 0.9985784292221069, 0.9992084503173828, 0.9985475540161133, 0.9977452754974365, 0.7294023036956787, 0.2704041600227356, 0.9998243451118469, 0.22865089774131775, 0.00816610362380743, 0.7594476342201233, 0.9960824251174927, 1.0004515647888184, 0.2657392621040344, 0.7326284050941467, 0.998555600643158, 0.9466865062713623, 0.04580741375684738, 0.9953187108039856, 0.20811067521572113, 0.7914281487464905, 0.45692896842956543, 0.2709551751613617, 0.272186815738678, 0.99360191822052, 0.005060791037976742, 0.6226162910461426, 0.3761259615421295, 0.9978811740875244, 0.9968403577804565, 0.9999186992645264, 0.505964994430542, 0.330191433429718, 0.16427433490753174, 0.2130078673362732, 0.49467116594314575, 0.29046526551246643, 0.031235240399837494, 0.9682924151420593, 0.9985564947128296, 0.8717906475067139, 0.12786263227462769, 0.9994938373565674, 0.999197244644165, 0.9997208118438721, 0.980864942073822, 0.1594180166721344, 0.8405677676200867, 0.22402481734752655, 0.7750047445297241, 0.07409529387950897, 0.9261912107467651, 0.9872411489486694, 0.9959148168563843, 0.0036083869636058807, 0.9997025728225708, 0.40670427680015564, 0.5933425426483154, 0.998075544834137, 0.5169397592544556, 0.4821874797344208, 0.5817542672157288, 0.09702505171298981, 0.32156872749328613, 0.9987516403198242, 0.9969252943992615, 0.002055995399132371, 0.8347342014312744, 0.16447964310646057, 0.7199068665504456, 0.1241564005613327, 0.15619675815105438, 0.99732506275177, 0.9935499429702759, 0.0018230275018140674, 0.0036460550036281347, 0.9960582852363586, 0.001609141007065773, 0.001609141007065773, 0.6566023826599121, 0.06554107367992401, 0.27765581011772156, 0.9847259521484375, 0.015507495030760765, 0.010046008042991161, 0.08790257573127747, 0.04771853983402252, 0.8539107441902161, 0.9986781477928162, 0.9944306015968323, 0.9991104006767273, 0.9996950626373291, 0.9943928122520447, 1.0011154413223267, 0.9989896416664124, 1.0006237030029297, 0.996799111366272, 0.044617101550102234, 0.9592676758766174, 0.9993534088134766, 0.3237522840499878, 0.08439302444458008, 0.3484436869621277, 0.2434130758047104, 0.5925164222717285, 0.4065161347389221, 0.9974233508110046, 0.9980142712593079, 0.9595242142677307, 0.03838096931576729, 0.9943408370018005, 0.0054236771538853645, 0.9948747754096985, 0.9975045323371887, 0.9983973503112793, 0.2302226424217224, 0.7686465382575989, 0.8005900382995605, 0.19786445796489716, 0.813416063785553, 0.183902770280838, 0.9969885349273682, 0.983086884021759, 0.5837305784225464, 0.1978398561477661, 0.21844816207885742, 0.9999397993087769, 0.9998879432678223, 0.9966883659362793, 1.0004998445510864, 0.9970096945762634, 0.9983161091804504, 1.0000663995742798, 0.9940164685249329, 0.9938511252403259, 0.9991378784179688, 0.02694799192249775, 0.9701277017593384, 0.9972022175788879, 0.99933260679245, 0.9982250332832336, 0.9453710913658142, 0.0530114620923996, 1.0002458095550537, 0.9068782329559326, 0.09425420314073563, 0.9980902075767517, 0.9937873482704163, 0.9820669889450073, 0.6316856145858765, 0.3679405748844147, 0.16097542643547058, 0.8087561130523682, 0.02909194491803646, 0.48329371213912964, 0.5158472061157227, 0.9987486004829407, 0.9985331296920776, 0.9982103109359741, 0.999326765537262, 0.07080148905515671, 0.9289155602455139, 0.9967964291572571, 0.9967359304428101, 0.9972776770591736, 1.0005102157592773, 0.9930749535560608, 0.9990542531013489, 0.9963141679763794, 0.9735919237136841, 0.5412846207618713, 0.45845460891723633, 0.10216429084539413, 0.4992724359035492, 0.39888492226600647, 0.9983466863632202, 0.5880314707756042, 0.41115033626556396, 0.9855156540870667, 0.9989088773727417, 0.9904569983482361, 0.9994946718215942, 0.9919888377189636, 0.9985314607620239, 0.9014695882797241, 0.1849290132522583, 0.8143365383148193, 0.5406303405761719, 0.45776990056037903, 0.9976897239685059, 0.9980903267860413, 0.19530734419822693, 0.8046194911003113, 0.9982335567474365], \"Term\": [\"accord\", \"accord\", \"accredit\", \"active\", \"active\", \"add\", \"alencherry\", \"analyst\", \"analyst\", \"analysts\", \"arrivals\", \"association\", \"auto\", \"bangkok\", \"bargain\", \"barrel\", \"base\", \"benchmark\", \"benchmark\", \"book\", \"bourse\", \"buy\", \"capital\", \"cheaper\", \"cheaper\", \"close\", \"come\", \"comment\", \"comment\", \"commodity\", \"commodity\", \"company\", \"company\", \"compare\", \"compare\", \"compare\", \"consumption\", \"contract\", \"contract\", \"countries\", \"country\", \"country\", \"country\", \"crude\", \"crunch\", \"cue\", \"currency\", \"days\", \"deal\", \"decline\", \"decline\", \"decline\", \"delivery\", \"demand\", \"denominate\", \"denominate\", \"department\", \"detail\", \"dollar\", \"domestic\", \"domestic\", \"donald\", \"earlier\", \"earlier\", \"economies\", \"end\", \"endus\", \"escalate\", \"exchange\", \"exchange\", \"expect\", \"expect\", \"expectation\", \"expectations\", \"export\", \"extend\", \"fall\", \"fall\", \"fell\", \"firm\", \"firm\", \"firm\", \"flat\", \"flood\", \"follow\", \"follow\", \"food\", \"fresh\", \"fresh\", \"fuel\", \"futures\", \"futures\", \"gain\", \"gain\", \"gain\", \"give\", \"give\", \"global\", \"global\", \"government\", \"growth\", \"heavy\", \"high\", \"high\", \"high\", \"higher\", \"higher\", \"higher\", \"holiday\", \"holiday\", \"icex\", \"import\", \"import\", \"increase\", \"index\", \"indian\", \"information\", \"international\", \"international\", \"inventory\", \"inventory\", \"investors\", \"investors\", \"lacklustre\", \"largest\", \"largest\", \"likely\", \"major\", \"major\", \"make\", \"manufacture\", \"manufacture\", \"market\", \"market\", \"market\", \"mercantile\", \"meteorological\", \"monday\", \"monday\", \"monday\", \"month\", \"month\", \"month\", \"months\", \"multi\", \"multi\", \"multi\", \"national\", \"national\", \"national\", \"natural\", \"natural\", \"natural\", \"near\", \"near\", \"nmce\", \"nmce\", \"nmce\", \"nmce\", \"nymex\", \"ongoing\", \"outlook\", \"output\", \"overseas\", \"owner\", \"participants\", \"period\", \"power\", \"president\", \"president\", \"previous\", \"price\", \"price\", \"price\", \"price\", \"production\", \"production\", \"products\", \"quarter\", \"quote\", \"quote\", \"rain\", \"rain\", \"raise\", \"rate\", \"receive\", \"release\", \"release\", \"remain\", \"remain\", \"report\", \"report\", \"research\", \"resume\", \"rise\", \"rise\", \"rise\", \"rupee\", \"rupees\", \"sales\", \"sanction\", \"season\", \"see\", \"sell\", \"sellers\", \"sentiment\", \"service\", \"session\", \"session\", \"sessions\", \"settle\", \"shanghai\", \"sharp\", \"sharp\", \"short\", \"show\", \"show\", \"shut\", \"singapore\", \"slip\", \"spot\", \"spot\", \"state\", \"state\", \"state\", \"stock\", \"stock\", \"stockists\", \"subdue\", \"substitute\", \"supply\", \"synthetic\", \"synthetic\", \"tail\", \"tap\", \"tariff\", \"tensions\", \"time\", \"tocom\", \"total\", \"touch\", \"track\", \"track\", \"trade\", \"trade\", \"trade\", \"trader\", \"traders\", \"traders\", \"trump\", \"tyre\", \"unavailable\", \"unchanged\", \"upside\", \"variety\", \"volumes\", \"warehouse\", \"warehouse\", \"week\", \"week\", \"wholesale\", \"widely\", \"year\", \"year\", \"york\"]}, \"R\": 30, \"lambda.step\": 0.01, \"plot.opts\": {\"xlab\": \"PC1\", \"ylab\": \"PC2\"}, \"topic.order\": [1, 2, 3, 4]};\n",
       "\n",
       "function LDAvis_load_lib(url, callback){\n",
       "  var s = document.createElement('script');\n",
       "  s.src = url;\n",
       "  s.async = true;\n",
       "  s.onreadystatechange = s.onload = callback;\n",
       "  s.onerror = function(){console.warn(\"failed to load library \" + url);};\n",
       "  document.getElementsByTagName(\"head\")[0].appendChild(s);\n",
       "}\n",
       "\n",
       "if(typeof(LDAvis) !== \"undefined\"){\n",
       "   // already loaded: just create the visualization\n",
       "   !function(LDAvis){\n",
       "       new LDAvis(\"#\" + \"ldavis_el2370423750629687768955476595\", ldavis_el2370423750629687768955476595_data);\n",
       "   }(LDAvis);\n",
       "}else if(typeof define === \"function\" && define.amd){\n",
       "   // require.js is available: use it to load d3/LDAvis\n",
       "   require.config({paths: {d3: \"https://cdnjs.cloudflare.com/ajax/libs/d3/3.5.5/d3.min\"}});\n",
       "   require([\"d3\"], function(d3){\n",
       "      window.d3 = d3;\n",
       "      LDAvis_load_lib(\"https://cdn.rawgit.com/bmabey/pyLDAvis/files/ldavis.v1.0.0.js\", function(){\n",
       "        new LDAvis(\"#\" + \"ldavis_el2370423750629687768955476595\", ldavis_el2370423750629687768955476595_data);\n",
       "      });\n",
       "    });\n",
       "}else{\n",
       "    // require.js not available: dynamically load d3 & LDAvis\n",
       "    LDAvis_load_lib(\"https://cdnjs.cloudflare.com/ajax/libs/d3/3.5.5/d3.min.js\", function(){\n",
       "         LDAvis_load_lib(\"https://cdn.rawgit.com/bmabey/pyLDAvis/files/ldavis.v1.0.0.js\", function(){\n",
       "                 new LDAvis(\"#\" + \"ldavis_el2370423750629687768955476595\", ldavis_el2370423750629687768955476595_data);\n",
       "            })\n",
       "         });\n",
       "}\n",
       "</script>"
      ],
      "text/plain": [
       "<IPython.core.display.HTML object>"
      ]
     },
     "execution_count": 140,
     "metadata": {},
     "output_type": "execute_result"
    }
   ],
   "source": [
    "import pyLDAvis.gensim\n",
    "lda_display = pyLDAvis.gensim.prepare(lda, corpus, dictionary, sort_topics=False)\n",
    "pyLDAvis.display(lda_display)"
   ]
  },
  {
   "cell_type": "markdown",
   "metadata": {},
   "source": [
    "## Train Data Mapping"
   ]
  },
  {
   "cell_type": "code",
   "execution_count": 141,
   "metadata": {},
   "outputs": [],
   "source": [
    "documents_copy= documents.copy()"
   ]
  },
  {
   "cell_type": "code",
   "execution_count": 142,
   "metadata": {},
   "outputs": [
    {
     "data": {
      "text/html": [
       "<div>\n",
       "<style scoped>\n",
       "    .dataframe tbody tr th:only-of-type {\n",
       "        vertical-align: middle;\n",
       "    }\n",
       "\n",
       "    .dataframe tbody tr th {\n",
       "        vertical-align: top;\n",
       "    }\n",
       "\n",
       "    .dataframe thead th {\n",
       "        text-align: right;\n",
       "    }\n",
       "</style>\n",
       "<table border=\"1\" class=\"dataframe\">\n",
       "  <thead>\n",
       "    <tr style=\"text-align: right;\">\n",
       "      <th></th>\n",
       "      <th>full_story</th>\n",
       "      <th>preprocess_join</th>\n",
       "    </tr>\n",
       "  </thead>\n",
       "  <tbody>\n",
       "    <tr>\n",
       "      <td>0</td>\n",
       "      <td>Sumitomo Rubber Industries has established a n...</td>\n",
       "      <td>sumitomo industries establish natural procurem...</td>\n",
       "    </tr>\n",
       "    <tr>\n",
       "      <td>1</td>\n",
       "      <td>Spot rubber closed unchanged on Thursday  RSS ...</td>\n",
       "      <td>spot close unchanged quote steady traders fini...</td>\n",
       "    </tr>\n",
       "    <tr>\n",
       "      <td>2</td>\n",
       "      <td>Delegate registration for India Rubber Meet   ...</td>\n",
       "      <td>delegate registration meet begin meet hold rad...</td>\n",
       "    </tr>\n",
       "    <tr>\n",
       "      <td>3</td>\n",
       "      <td>MUMBAI   Futures contracts of rubber on the In...</td>\n",
       "      <td>futures contract indian commodity exchange ris...</td>\n",
       "    </tr>\n",
       "    <tr>\n",
       "      <td>4</td>\n",
       "      <td>Tapping has been delayed despite the fact that...</td>\n",
       "      <td>tap delay despite fact peak season decline imp...</td>\n",
       "    </tr>\n",
       "    <tr>\n",
       "      <td>...</td>\n",
       "      <td>...</td>\n",
       "      <td>...</td>\n",
       "    </tr>\n",
       "    <tr>\n",
       "      <td>5270</td>\n",
       "      <td>Cogencis  Wednesday  Apr    NEW DELHI   India ...</td>\n",
       "      <td>natural production fell year accord provisiona...</td>\n",
       "    </tr>\n",
       "    <tr>\n",
       "      <td>5271</td>\n",
       "      <td>Cogencis  Tuesday  Apr    By Prabhnoor Nanda N...</td>\n",
       "      <td>futures contract national multi commodity exch...</td>\n",
       "    </tr>\n",
       "    <tr>\n",
       "      <td>5272</td>\n",
       "      <td>OUTLOOK Futures contracts of natural rubber ma...</td>\n",
       "      <td>outlook futures contract natural trade lower s...</td>\n",
       "    </tr>\n",
       "    <tr>\n",
       "      <td>5273</td>\n",
       "      <td>Cogencis  Tuesday  Apr    By Shikha Singh NEW ...</td>\n",
       "      <td>price natural fell spot market poor demand tra...</td>\n",
       "    </tr>\n",
       "    <tr>\n",
       "      <td>5274</td>\n",
       "      <td>Cogencis  Monday  Apr   By Prabhnoor Nanda NEW...</td>\n",
       "      <td>monday futures contract national multi commodi...</td>\n",
       "    </tr>\n",
       "  </tbody>\n",
       "</table>\n",
       "<p>5275 rows × 2 columns</p>\n",
       "</div>"
      ],
      "text/plain": [
       "                                             full_story  \\\n",
       "0     Sumitomo Rubber Industries has established a n...   \n",
       "1     Spot rubber closed unchanged on Thursday  RSS ...   \n",
       "2     Delegate registration for India Rubber Meet   ...   \n",
       "3     MUMBAI   Futures contracts of rubber on the In...   \n",
       "4     Tapping has been delayed despite the fact that...   \n",
       "...                                                 ...   \n",
       "5270  Cogencis  Wednesday  Apr    NEW DELHI   India ...   \n",
       "5271  Cogencis  Tuesday  Apr    By Prabhnoor Nanda N...   \n",
       "5272  OUTLOOK Futures contracts of natural rubber ma...   \n",
       "5273  Cogencis  Tuesday  Apr    By Shikha Singh NEW ...   \n",
       "5274  Cogencis  Monday  Apr   By Prabhnoor Nanda NEW...   \n",
       "\n",
       "                                        preprocess_join  \n",
       "0     sumitomo industries establish natural procurem...  \n",
       "1     spot close unchanged quote steady traders fini...  \n",
       "2     delegate registration meet begin meet hold rad...  \n",
       "3     futures contract indian commodity exchange ris...  \n",
       "4     tap delay despite fact peak season decline imp...  \n",
       "...                                                 ...  \n",
       "5270  natural production fell year accord provisiona...  \n",
       "5271  futures contract national multi commodity exch...  \n",
       "5272  outlook futures contract natural trade lower s...  \n",
       "5273  price natural fell spot market poor demand tra...  \n",
       "5274  monday futures contract national multi commodi...  \n",
       "\n",
       "[5275 rows x 2 columns]"
      ]
     },
     "execution_count": 142,
     "metadata": {},
     "output_type": "execute_result"
    }
   ],
   "source": [
    "documents_copy"
   ]
  },
  {
   "cell_type": "code",
   "execution_count": 143,
   "metadata": {},
   "outputs": [],
   "source": [
    "def identify_topic_sentence(row):\n",
    "    bow_vector = dictionary.doc2bow(preprocess(row['full_story']))\n",
    "    row1= lda_model_best[bow_vector][0]\n",
    "    row1 = sorted(row1, key=lambda x: (x[1]), reverse=True)\n",
    "    \n",
    "    topic_num= row1[0][0]\n",
    "    prop_topic= row1[0][1]\n",
    "    wp = lda_model_best.show_topic(topic_num)\n",
    "    topic_keywords = \", \".join([word for word, prop in wp])\n",
    "    row['Topic_NUmber']= int(topic_num)\n",
    "    if int(topic_num)== 1:\n",
    "        row['Topic_name']= 'Domestic market supply demand'\n",
    "    elif int(topic_num)== 2:\n",
    "        row['Topic_name']= 'Rubber price comparison'\n",
    "    elif int(topic_num)== 3:\n",
    "        row['Topic_name']= 'Commodity market price'\n",
    "    else:\n",
    "        row['Topic_name']= 'Stock exchange analysis' \n",
    "    row['Topic_Propability']= round(prop_topic,3)\n",
    "    row['Keywords']= topic_keywords\n",
    "    \n",
    "    return row"
   ]
  },
  {
   "cell_type": "code",
   "execution_count": 144,
   "metadata": {},
   "outputs": [],
   "source": [
    "doc= documents_copy.apply(identify_topic_sentence,axis=1)"
   ]
  },
  {
   "cell_type": "code",
   "execution_count": 145,
   "metadata": {},
   "outputs": [],
   "source": [
    "doc.drop(['preprocess_join'],axis=1, inplace=True)"
   ]
  },
  {
   "cell_type": "code",
   "execution_count": 146,
   "metadata": {},
   "outputs": [
    {
     "data": {
      "text/html": [
       "<div>\n",
       "<style scoped>\n",
       "    .dataframe tbody tr th:only-of-type {\n",
       "        vertical-align: middle;\n",
       "    }\n",
       "\n",
       "    .dataframe tbody tr th {\n",
       "        vertical-align: top;\n",
       "    }\n",
       "\n",
       "    .dataframe thead th {\n",
       "        text-align: right;\n",
       "    }\n",
       "</style>\n",
       "<table border=\"1\" class=\"dataframe\">\n",
       "  <thead>\n",
       "    <tr style=\"text-align: right;\">\n",
       "      <th></th>\n",
       "      <th>full_story</th>\n",
       "      <th>Topic_NUmber</th>\n",
       "      <th>Topic_name</th>\n",
       "      <th>Topic_Propability</th>\n",
       "      <th>Keywords</th>\n",
       "    </tr>\n",
       "  </thead>\n",
       "  <tbody>\n",
       "    <tr>\n",
       "      <td>0</td>\n",
       "      <td>Sumitomo Rubber Industries has established a n...</td>\n",
       "      <td>0</td>\n",
       "      <td>Stock exchange analysis</td>\n",
       "      <td>0.462</td>\n",
       "      <td>price, market, rise, natural, domestic, demand...</td>\n",
       "    </tr>\n",
       "    <tr>\n",
       "      <td>1</td>\n",
       "      <td>Spot rubber closed unchanged on Thursday  RSS ...</td>\n",
       "      <td>2</td>\n",
       "      <td>Rubber price comparison</td>\n",
       "      <td>0.757</td>\n",
       "      <td>rupees, price, contract, close, commodity, exc...</td>\n",
       "    </tr>\n",
       "    <tr>\n",
       "      <td>2</td>\n",
       "      <td>Delegate registration for India Rubber Meet   ...</td>\n",
       "      <td>1</td>\n",
       "      <td>Domestic market supply demand</td>\n",
       "      <td>0.899</td>\n",
       "      <td>month, year, national, give, multi, company, i...</td>\n",
       "    </tr>\n",
       "    <tr>\n",
       "      <td>3</td>\n",
       "      <td>MUMBAI   Futures contracts of rubber on the In...</td>\n",
       "      <td>2</td>\n",
       "      <td>Rubber price comparison</td>\n",
       "      <td>0.742</td>\n",
       "      <td>rupees, price, contract, close, commodity, exc...</td>\n",
       "    </tr>\n",
       "    <tr>\n",
       "      <td>4</td>\n",
       "      <td>Tapping has been delayed despite the fact that...</td>\n",
       "      <td>0</td>\n",
       "      <td>Stock exchange analysis</td>\n",
       "      <td>0.892</td>\n",
       "      <td>price, market, rise, natural, domestic, demand...</td>\n",
       "    </tr>\n",
       "    <tr>\n",
       "      <td>...</td>\n",
       "      <td>...</td>\n",
       "      <td>...</td>\n",
       "      <td>...</td>\n",
       "      <td>...</td>\n",
       "      <td>...</td>\n",
       "    </tr>\n",
       "    <tr>\n",
       "      <td>5270</td>\n",
       "      <td>Cogencis  Wednesday  Apr    NEW DELHI   India ...</td>\n",
       "      <td>0</td>\n",
       "      <td>Stock exchange analysis</td>\n",
       "      <td>0.424</td>\n",
       "      <td>price, market, rise, natural, domestic, demand...</td>\n",
       "    </tr>\n",
       "    <tr>\n",
       "      <td>5271</td>\n",
       "      <td>Cogencis  Tuesday  Apr    By Prabhnoor Nanda N...</td>\n",
       "      <td>0</td>\n",
       "      <td>Stock exchange analysis</td>\n",
       "      <td>0.450</td>\n",
       "      <td>price, market, rise, natural, domestic, demand...</td>\n",
       "    </tr>\n",
       "    <tr>\n",
       "      <td>5272</td>\n",
       "      <td>OUTLOOK Futures contracts of natural rubber ma...</td>\n",
       "      <td>3</td>\n",
       "      <td>Commodity market price</td>\n",
       "      <td>0.685</td>\n",
       "      <td>price, contract, crude, futures, exchange, ana...</td>\n",
       "    </tr>\n",
       "    <tr>\n",
       "      <td>5273</td>\n",
       "      <td>Cogencis  Tuesday  Apr    By Shikha Singh NEW ...</td>\n",
       "      <td>0</td>\n",
       "      <td>Stock exchange analysis</td>\n",
       "      <td>0.392</td>\n",
       "      <td>price, market, rise, natural, domestic, demand...</td>\n",
       "    </tr>\n",
       "    <tr>\n",
       "      <td>5274</td>\n",
       "      <td>Cogencis  Monday  Apr   By Prabhnoor Nanda NEW...</td>\n",
       "      <td>3</td>\n",
       "      <td>Commodity market price</td>\n",
       "      <td>0.447</td>\n",
       "      <td>price, contract, crude, futures, exchange, ana...</td>\n",
       "    </tr>\n",
       "  </tbody>\n",
       "</table>\n",
       "<p>5275 rows × 5 columns</p>\n",
       "</div>"
      ],
      "text/plain": [
       "                                             full_story  Topic_NUmber  \\\n",
       "0     Sumitomo Rubber Industries has established a n...             0   \n",
       "1     Spot rubber closed unchanged on Thursday  RSS ...             2   \n",
       "2     Delegate registration for India Rubber Meet   ...             1   \n",
       "3     MUMBAI   Futures contracts of rubber on the In...             2   \n",
       "4     Tapping has been delayed despite the fact that...             0   \n",
       "...                                                 ...           ...   \n",
       "5270  Cogencis  Wednesday  Apr    NEW DELHI   India ...             0   \n",
       "5271  Cogencis  Tuesday  Apr    By Prabhnoor Nanda N...             0   \n",
       "5272  OUTLOOK Futures contracts of natural rubber ma...             3   \n",
       "5273  Cogencis  Tuesday  Apr    By Shikha Singh NEW ...             0   \n",
       "5274  Cogencis  Monday  Apr   By Prabhnoor Nanda NEW...             3   \n",
       "\n",
       "                         Topic_name  Topic_Propability  \\\n",
       "0           Stock exchange analysis              0.462   \n",
       "1           Rubber price comparison              0.757   \n",
       "2     Domestic market supply demand              0.899   \n",
       "3           Rubber price comparison              0.742   \n",
       "4           Stock exchange analysis              0.892   \n",
       "...                             ...                ...   \n",
       "5270        Stock exchange analysis              0.424   \n",
       "5271        Stock exchange analysis              0.450   \n",
       "5272         Commodity market price              0.685   \n",
       "5273        Stock exchange analysis              0.392   \n",
       "5274         Commodity market price              0.447   \n",
       "\n",
       "                                               Keywords  \n",
       "0     price, market, rise, natural, domestic, demand...  \n",
       "1     rupees, price, contract, close, commodity, exc...  \n",
       "2     month, year, national, give, multi, company, i...  \n",
       "3     rupees, price, contract, close, commodity, exc...  \n",
       "4     price, market, rise, natural, domestic, demand...  \n",
       "...                                                 ...  \n",
       "5270  price, market, rise, natural, domestic, demand...  \n",
       "5271  price, market, rise, natural, domestic, demand...  \n",
       "5272  price, contract, crude, futures, exchange, ana...  \n",
       "5273  price, market, rise, natural, domestic, demand...  \n",
       "5274  price, contract, crude, futures, exchange, ana...  \n",
       "\n",
       "[5275 rows x 5 columns]"
      ]
     },
     "execution_count": 146,
     "metadata": {},
     "output_type": "execute_result"
    }
   ],
   "source": [
    "doc"
   ]
  },
  {
   "cell_type": "code",
   "execution_count": 147,
   "metadata": {},
   "outputs": [],
   "source": [
    "doc.to_excel('LDA_BOW_Input_Mapping.xlsx')"
   ]
  },
  {
   "cell_type": "markdown",
   "metadata": {},
   "source": [
    "## Evaluation"
   ]
  },
  {
   "cell_type": "code",
   "execution_count": 187,
   "metadata": {},
   "outputs": [],
   "source": [
    "test_document1 = 'MUMBAI – Rubber contracts on the Indian Commodity Exchange fell today tracking the benchmark contracts on Tokyo Commodity Exchange, traders said. The most-active February contract ended at 14,100 rupees per 100 kg, down 0.2% from the pervious close'\n",
    "bow_vector = dictionary.doc2bow(preprocess(test_document1))"
   ]
  },
  {
   "cell_type": "code",
   "execution_count": 188,
   "metadata": {},
   "outputs": [
    {
     "name": "stdout",
     "output_type": "stream",
     "text": [
      "[(0, 0.010566269), (1, 0.96880543), (2, 0.013036869)]\n"
     ]
    }
   ],
   "source": [
    "print(lda_model_best.get_document_topics(bow_vector))"
   ]
  },
  {
   "cell_type": "code",
   "execution_count": 189,
   "metadata": {},
   "outputs": [
    {
     "name": "stdout",
     "output_type": "stream",
     "text": [
      "Word (0, 1) (\"active\") \n",
      "Word (1, 1) (\"benchmark\") \n",
      "Word (2, 1) (\"close\") \n",
      "Word (3, 2) (\"commodity\") \n",
      "Word (4, 3) (\"contract\") \n",
      "Word (5, 2) (\"exchange\") \n",
      "Word (7, 1) (\"february\") \n",
      "Word (8, 1) (\"indian\") \n",
      "Word (9, 1) (\"mumbai\") \n",
      "Word (11, 1) (\"today\") \n",
      "Word (12, 1) (\"tokyo\") \n",
      "Word (13, 1) (\"track\") \n"
     ]
    }
   ],
   "source": [
    "for i in range(len(bow_vector)):\n",
    "    print(\"Word {} (\\\"{}\\\") \".format(bow_vector[i], \n",
    "                                               dictionary[bow_vector[i][0]]))"
   ]
  },
  {
   "cell_type": "code",
   "execution_count": 190,
   "metadata": {
    "scrolled": false
   },
   "outputs": [],
   "source": [
    "# lda_model_best[bow_vector]"
   ]
  },
  {
   "cell_type": "code",
   "execution_count": 191,
   "metadata": {},
   "outputs": [],
   "source": [
    "sent_topics_df = pd.DataFrame()\n",
    "row= lda_model_best[bow_vector][0]\n",
    "row = sorted(row, key=lambda x: (x[1]), reverse=True)\n",
    "\n",
    "\n",
    "\n",
    "# for i, (topic_num, prop_topic) in enumerate(row):\n",
    "#     wp = lda_model_best.show_topic(topic_num)\n",
    "#     topic_keywords = \", \".join([word for word, prop in wp])\n",
    "#     sent_topics_df = sent_topics_df.append(pd.Series([int(topic_num), round(prop_topic,4), topic_keywords]), ignore_index=True)\n",
    "\n",
    "# print(sent_topics_df)\n",
    "\n",
    "topic_num= row[0][0]\n",
    "prop_topic= row[0][1]\n",
    "wp = lda_model_best.show_topic(topic_num)\n",
    "topic_keywords = \", \".join([word for word, prop in wp])\n",
    "sent_topics_df = sent_topics_df.append(pd.Series([int(topic_num), round(prop_topic,4), topic_keywords]), ignore_index=True)"
   ]
  },
  {
   "cell_type": "code",
   "execution_count": 192,
   "metadata": {},
   "outputs": [],
   "source": [
    "contents = pd.Series(test_document1)\n",
    "sent_topics_df = pd.concat([contents,sent_topics_df], axis=1, ignore_index= True)\n",
    "sent_topics_df.rename(columns = {0:'Input_document', 1: 'Topic_NUmber', 2: 'Topic_Propability', 3: 'Keywords'}, inplace = True)"
   ]
  },
  {
   "cell_type": "code",
   "execution_count": 193,
   "metadata": {},
   "outputs": [
    {
     "data": {
      "text/html": [
       "<div>\n",
       "<style scoped>\n",
       "    .dataframe tbody tr th:only-of-type {\n",
       "        vertical-align: middle;\n",
       "    }\n",
       "\n",
       "    .dataframe tbody tr th {\n",
       "        vertical-align: top;\n",
       "    }\n",
       "\n",
       "    .dataframe thead th {\n",
       "        text-align: right;\n",
       "    }\n",
       "</style>\n",
       "<table border=\"1\" class=\"dataframe\">\n",
       "  <thead>\n",
       "    <tr style=\"text-align: right;\">\n",
       "      <th></th>\n",
       "      <th>Input_document</th>\n",
       "      <th>Topic_NUmber</th>\n",
       "      <th>Topic_Propability</th>\n",
       "      <th>Keywords</th>\n",
       "    </tr>\n",
       "  </thead>\n",
       "  <tbody>\n",
       "    <tr>\n",
       "      <th>0</th>\n",
       "      <td>MUMBAI – Rubber contracts on the Indian Commod...</td>\n",
       "      <td>1.0</td>\n",
       "      <td>0.9688</td>\n",
       "      <td>contract, exchange, rupee, commodity, price, f...</td>\n",
       "    </tr>\n",
       "  </tbody>\n",
       "</table>\n",
       "</div>"
      ],
      "text/plain": [
       "                                      Input_document  Topic_NUmber  \\\n",
       "0  MUMBAI – Rubber contracts on the Indian Commod...           1.0   \n",
       "\n",
       "   Topic_Propability                                           Keywords  \n",
       "0             0.9688  contract, exchange, rupee, commodity, price, f...  "
      ]
     },
     "execution_count": 193,
     "metadata": {},
     "output_type": "execute_result"
    }
   ],
   "source": [
    "sent_topics_df"
   ]
  },
  {
   "cell_type": "code",
   "execution_count": 181,
   "metadata": {},
   "outputs": [],
   "source": [
    "test_document3 = 'Today thailand recieved the highest rainfall. It may effect the production of natural rubber as well to a greater extent.'\n",
    "bow_vector = dictionary.doc2bow(preprocess(test_document3))"
   ]
  },
  {
   "cell_type": "code",
   "execution_count": 182,
   "metadata": {
    "scrolled": true
   },
   "outputs": [
    {
     "name": "stdout",
     "output_type": "stream",
     "text": [
      "[(0, 0.46492192), (1, 0.024663068), (2, 0.3061411), (3, 0.20427391)]\n"
     ]
    }
   ],
   "source": [
    "print(lda_model_best.get_document_topics(bow_vector))"
   ]
  },
  {
   "cell_type": "code",
   "execution_count": 183,
   "metadata": {
    "scrolled": true
   },
   "outputs": [],
   "source": [
    "sent_topics_df = pd.DataFrame()\n",
    "row= lda_model_best[bow_vector][0]\n",
    "row = sorted(row, key=lambda x: (x[1]), reverse=True)\n",
    "\n",
    "topic_num= row[0][0]\n",
    "prop_topic= row[0][1]\n",
    "wp = lda_model_best.show_topic(topic_num)\n",
    "topic_keywords = \", \".join([word for word, prop in wp])\n",
    "sent_topics_df = sent_topics_df.append(pd.Series([int(topic_num), round(prop_topic,4), topic_keywords]), ignore_index=True)"
   ]
  },
  {
   "cell_type": "code",
   "execution_count": 184,
   "metadata": {},
   "outputs": [],
   "source": [
    "contents = pd.Series(test_document1)\n",
    "sent_topics_df = pd.concat([contents,sent_topics_df], axis=1, ignore_index= True)\n",
    "sent_topics_df.rename(columns = {0:'Input_document', 1: 'Topic_NUmber', 2: 'Topic_Propability', 3: 'Keywords'}, inplace = True)"
   ]
  },
  {
   "cell_type": "code",
   "execution_count": 186,
   "metadata": {},
   "outputs": [
    {
     "data": {
      "text/html": [
       "<div>\n",
       "<style scoped>\n",
       "    .dataframe tbody tr th:only-of-type {\n",
       "        vertical-align: middle;\n",
       "    }\n",
       "\n",
       "    .dataframe tbody tr th {\n",
       "        vertical-align: top;\n",
       "    }\n",
       "\n",
       "    .dataframe thead th {\n",
       "        text-align: right;\n",
       "    }\n",
       "</style>\n",
       "<table border=\"1\" class=\"dataframe\">\n",
       "  <thead>\n",
       "    <tr style=\"text-align: right;\">\n",
       "      <th></th>\n",
       "      <th>Input_document</th>\n",
       "      <th>Topic_NUmber</th>\n",
       "      <th>Topic_Propability</th>\n",
       "      <th>Keywords</th>\n",
       "    </tr>\n",
       "  </thead>\n",
       "  <tbody>\n",
       "    <tr>\n",
       "      <th>0</th>\n",
       "      <td>MUMBAI – Rubber contracts on the Indian Commod...</td>\n",
       "      <td>0.0</td>\n",
       "      <td>0.4649</td>\n",
       "      <td>india, month, year, send, comment, feedback, r...</td>\n",
       "    </tr>\n",
       "  </tbody>\n",
       "</table>\n",
       "</div>"
      ],
      "text/plain": [
       "                                      Input_document  Topic_NUmber  \\\n",
       "0  MUMBAI – Rubber contracts on the Indian Commod...           0.0   \n",
       "\n",
       "   Topic_Propability                                           Keywords  \n",
       "0             0.4649  india, month, year, send, comment, feedback, r...  "
      ]
     },
     "execution_count": 186,
     "metadata": {},
     "output_type": "execute_result"
    }
   ],
   "source": [
    "sent_topics_df"
   ]
  },
  {
   "cell_type": "code",
   "execution_count": null,
   "metadata": {},
   "outputs": [],
   "source": []
  },
  {
   "cell_type": "code",
   "execution_count": null,
   "metadata": {},
   "outputs": [],
   "source": []
  },
  {
   "cell_type": "code",
   "execution_count": null,
   "metadata": {},
   "outputs": [],
   "source": []
  },
  {
   "cell_type": "code",
   "execution_count": null,
   "metadata": {},
   "outputs": [],
   "source": []
  },
  {
   "cell_type": "code",
   "execution_count": null,
   "metadata": {},
   "outputs": [],
   "source": []
  },
  {
   "cell_type": "code",
   "execution_count": null,
   "metadata": {},
   "outputs": [],
   "source": []
  },
  {
   "cell_type": "code",
   "execution_count": null,
   "metadata": {},
   "outputs": [],
   "source": []
  }
 ],
 "metadata": {
  "kernelspec": {
   "display_name": "Python 3",
   "language": "python",
   "name": "python3"
  },
  "language_info": {
   "codemirror_mode": {
    "name": "ipython",
    "version": 3
   },
   "file_extension": ".py",
   "mimetype": "text/x-python",
   "name": "python",
   "nbconvert_exporter": "python",
   "pygments_lexer": "ipython3",
   "version": "3.7.5"
  }
 },
 "nbformat": 4,
 "nbformat_minor": 2
}
